{
 "cells": [
  {
   "cell_type": "code",
   "execution_count": null,
   "metadata": {
    "scrolled": true
   },
   "outputs": [],
   "source": [
    "import numpy as np\n",
    "import pandas as pd\n",
    "import time\n",
    "\n",
    "import tensorflow as tf\n",
    "from tensorflow import keras\n",
    "\n",
    "import category_encoders as ce\n",
    "\n",
    "from sklearn.model_selection import RandomizedSearchCV"
   ]
  },
  {
   "cell_type": "markdown",
   "metadata": {},
   "source": [
    "# Booklet 2 Neuronale Netze Aufgabe 2"
   ]
  },
  {
   "cell_type": "markdown",
   "metadata": {},
   "source": [
    "### Using RandomSearch to find the perfect Hyperparameter combination"
   ]
  },
  {
   "cell_type": "code",
   "execution_count": null,
   "metadata": {
    "scrolled": true
   },
   "outputs": [],
   "source": [
    "# Erstelle Modell innerhalb einer Funktion, um es für Grid Search nutzen zu können\n",
    "def build_model(n_hidden = 1, n_neurons=30, learning_rate=0.1, activation_function='relu', dropout_prop=0.25):\n",
    "    model = keras.models.Sequential()\n",
    "    model.add(keras.layers.Dense(2, activation='relu'))\n",
    "    for layer in range(n_hidden):\n",
    "        model.add(keras.layers.Dense(n_neurons, activation=activation_function))\n",
    "    model.add(keras.layers.Dense(1))\n",
    "    model.compile(optimizer=tf.keras.optimizers.SGD(learning_rate=learning_rate),\n",
    "                  loss=tf.keras.losses.BinaryCrossentropy(from_logits=True),\n",
    "                  metrics=['accuracy'])\n",
    "    model.add(keras.layers.Dropout(dropout_prop))\n",
    "    return model\n",
    "\n",
    "nn = keras.wrappers.scikit_learn.KerasClassifier(build_model)"
   ]
  },
  {
   "cell_type": "code",
   "execution_count": null,
   "metadata": {},
   "outputs": [],
   "source": [
    "# zu untersuchende Parameter mit jeweiligem Parameterraum\n",
    "params = {\n",
    "    'n_hidden': [0,1,2,3,4],\n",
    "    'n_neurons': [1,3,5,10,20,50,100],\n",
    "    'learning_rate': [0.1, 0.05, 0.01],\n",
    "    'activation_function': ['relu', 'sigmoid', 'elu'],\n",
    "    'dropout_prop': [0, 0.25, 0.5] \n",
    "}"
   ]
  },
  {
   "cell_type": "code",
   "execution_count": null,
   "metadata": {},
   "outputs": [],
   "source": [
    "random_search = RandomizedSearchCV(nn, params, n_iter=20)\n",
    "random_search.fit(X_train.values, \n",
    "                  y_train.values,\n",
    "                  validation_data=(X_test.values, y_test.values),\n",
    "                  callbacks=[keras.callbacks.EarlyStopping(patience=6)],\n",
    "                  batch_size=32,\n",
    "                  epochs=100\n",
    "                 )"
   ]
  },
  {
   "cell_type": "code",
   "execution_count": null,
   "metadata": {},
   "outputs": [],
   "source": [
    "random_search.best_params_"
   ]
  },
  {
   "cell_type": "markdown",
   "metadata": {},
   "source": [
    "## Building the winner Model"
   ]
  },
  {
   "cell_type": "code",
   "execution_count": null,
   "metadata": {
    "scrolled": true
   },
   "outputs": [],
   "source": [
    "#dont need this anymore...\n",
    "train_dataset = tf.data.Dataset.from_tensor_slices((X_train.values, y_train.values))\n",
    "train_dataset = train_dataset.shuffle(len(X_train)).batch(32)\n",
    "\n",
    "test_dataset = tf.data.Dataset.from_tensor_slices((X_test.values, y_test.values))\n",
    "test_dataset = test_dataset.shuffle(len(X_test)).batch(len(X_test))"
   ]
  },
  {
   "cell_type": "code",
   "execution_count": null,
   "metadata": {},
   "outputs": [],
   "source": [
    "nn = keras.models.Sequential()\n",
    "nn.add(keras.layers.Dense(2, activation='elu'))\n",
    "for layer in range(4):\n",
    "        nn.add(keras.layers.Dense(3, activation='elu'))\n",
    "nn.add(keras.layers.Dense(1))\n",
    "    \n",
    "nn.compile(optimizer=tf.keras.optimizers.SGD(learning_rate=0.1),\n",
    "           loss=tf.keras.losses.BinaryCrossentropy(from_logits=True),\n",
    "           metrics=['accuracy'])"
   ]
  },
  {
   "cell_type": "code",
   "execution_count": null,
   "metadata": {
    "scrolled": true
   },
   "outputs": [],
   "source": [
    "nn.fit(train_dataset,\n",
    "       validation_steps=1,\n",
    "       validation_data=test_dataset,\n",
    "       batch_size=32,\n",
    "       callbacks=[keras.callbacks.EarlyStopping(patience=6)],\n",
    "       epochs=50)"
   ]
  }
 ],
 "metadata": {
  "kernelspec": {
   "display_name": "Python 3",
   "language": "python",
   "name": "python3"
  },
  "language_info": {
   "codemirror_mode": {
    "name": "ipython",
    "version": 3
   },
   "file_extension": ".py",
   "mimetype": "text/x-python",
   "name": "python",
   "nbconvert_exporter": "python",
   "pygments_lexer": "ipython3",
   "version": "3.7.1"
  }
 },
 "nbformat": 4,
 "nbformat_minor": 2
}

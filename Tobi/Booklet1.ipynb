{
 "cells": [
  {
   "cell_type": "code",
   "execution_count": 1,
   "metadata": {
    "scrolled": true
   },
   "outputs": [
    {
     "name": "stderr",
     "output_type": "stream",
     "text": [
      "c:\\users\\tamara\\appdata\\local\\programs\\python\\python37-32\\lib\\site-packages\\sklearn\\utils\\deprecation.py:143: FutureWarning: The sklearn.metrics.scorer module is  deprecated in version 0.22 and will be removed in version 0.24. The corresponding classes / functions should instead be imported from sklearn.metrics. Anything that cannot be imported from sklearn.metrics is now part of the private API.\n",
      "  warnings.warn(message, FutureWarning)\n",
      "c:\\users\\tamara\\appdata\\local\\programs\\python\\python37-32\\lib\\site-packages\\sklearn\\utils\\deprecation.py:143: FutureWarning: The sklearn.feature_selection.base module is  deprecated in version 0.22 and will be removed in version 0.24. The corresponding classes / functions should instead be imported from sklearn.feature_selection. Anything that cannot be imported from sklearn.feature_selection is now part of the private API.\n",
      "  warnings.warn(message, FutureWarning)\n"
     ]
    }
   ],
   "source": [
    "import numpy as np\n",
    "import pandas as pd\n",
    "import matplotlib.pyplot as plt\n",
    "from sklearn import tree\n",
    "from sklearn.model_selection import train_test_split\n",
    "import time\n",
    "\n",
    "from sklearn.metrics import mean_absolute_error\n",
    "from sklearn.metrics import accuracy_score\n",
    "from sklearn.preprocessing import MinMaxScaler\n",
    "import eli5\n",
    "from eli5.sklearn import PermutationImportance\n",
    "\n",
    "# import tensorflow as tf\n",
    "# from tensorflow import keras\n",
    "\n",
    "\n",
    "from sklearn.feature_selection import SelectKBest, f_classif\n",
    "from sklearn.linear_model import LogisticRegression\n",
    "from sklearn.feature_selection import SelectFromModel\n",
    "\n",
    "import category_encoders as ce\n",
    "import graphviz\n",
    "\n",
    "from scipy.stats import reciprocal\n",
    "from sklearn.model_selection import RandomizedSearchCV, GridSearchCV"
   ]
  },
  {
   "cell_type": "code",
   "execution_count": 2,
   "metadata": {
    "scrolled": true
   },
   "outputs": [
    {
     "data": {
      "text/plain": [
       "2018    17821\n",
       "2013    16415\n",
       "Name: Date, dtype: int64"
      ]
     },
     "execution_count": 2,
     "metadata": {},
     "output_type": "execute_result"
    }
   ],
   "source": [
    "def filter_years(df):\n",
    "    \"\"\"\n",
    "    filters years 2013 and 2018 which we have to handle.\n",
    "    \"\"\"\n",
    "    df['Date'] = pd.to_datetime(df['Date'])\n",
    "    df = df[df['Date'].dt.year.isin([2013, 2018])]\n",
    "    return df\n",
    "\n",
    "weather = pd.read_csv(\"weatherAUS.csv\")  # read csv data into pandas data frame\n",
    "weather = filter_years(weather)\n",
    "weather['Date'].dt.year.value_counts()"
   ]
  },
  {
   "cell_type": "markdown",
   "metadata": {},
   "source": [
    "# Aufgabe 1 Feature Engineering"
   ]
  },
  {
   "cell_type": "code",
   "execution_count": 3,
   "metadata": {
    "scrolled": true
   },
   "outputs": [],
   "source": [
    "# Spalten mit fehlender Zielvariable \"RainTomorrow\" rausschmeißen.\n",
    "# Man könnte diese Auch als Testvariablen nehmen, dann wären diese aber nicht zufällig ausgewählt...\n",
    "weather = weather[weather['RainTomorrow'].notna()]"
   ]
  },
  {
   "cell_type": "code",
   "execution_count": 4,
   "metadata": {
    "scrolled": true
   },
   "outputs": [],
   "source": [
    "# Spalten, in denen mehr als 40% der Variablen fehlen rausscheißen.\n",
    "# Zeilen, in denen mehr als 50% der Variablen fehlen rausschmeißen.\n",
    "\n",
    "weather = weather[weather.columns[weather.isnull().mean() < 0.4]]\n",
    "weather = weather.loc[weather.isnull().mean(axis=1) < 0.5]"
   ]
  },
  {
   "cell_type": "markdown",
   "metadata": {},
   "source": [
    "## Feate creation\n",
    "creating new features"
   ]
  },
  {
   "cell_type": "code",
   "execution_count": 5,
   "metadata": {
    "scrolled": true
   },
   "outputs": [],
   "source": [
    "weather['Year'] = weather['Date'].dt.year  # get year\n",
    "weather['Month'] = weather['Date'].dt.month  # get month\n",
    "weather['Day'] = weather['Date'].dt.day  # get day\n",
    "\n",
    "weather['MinMaxDiff'] = weather['MaxTemp'] - weather['MinTemp']\n",
    "weather['PressureDiff'] = weather['Pressure3pm'] - weather['Pressure9am']\n",
    "weather['WindSpeedDiff'] = weather['Pressure3pm'] - weather['WindSpeed9am']\n",
    "weather['HumidityDiff'] = weather['Humidity3pm'] - weather['Humidity9am']"
   ]
  },
  {
   "cell_type": "markdown",
   "metadata": {},
   "source": [
    "## Feature Binning\n",
    "\n",
    "diskretisierung von Features. "
   ]
  },
  {
   "cell_type": "code",
   "execution_count": 6,
   "metadata": {
    "scrolled": true
   },
   "outputs": [],
   "source": [
    "def encode_season(month):\n",
    "    if month >= 9 and month <= 11:\n",
    "        return 'Spring'\n",
    "    if month == 12 or month <= 2:\n",
    "        return 'Summer'\n",
    "    if month >= 3 and month <= 5:\n",
    "        return 'Autumn'\n",
    "    if month >= 6 and month <= 8:\n",
    "        return 'Winter'\n",
    "    \n",
    "weather['Season'] = weather['Month'].apply(encode_season)\n"
   ]
  },
  {
   "cell_type": "code",
   "execution_count": 7,
   "metadata": {
    "scrolled": true
   },
   "outputs": [],
   "source": [
    "# Ist quasy \"Target Encoding\". Nur halt manuell...\n",
    "\n",
    "def encode_rainly_month(month):\n",
    "    rainy_month = [5,6, 7,8,11]\n",
    "    if month in rainy_month:\n",
    "        return 1\n",
    "    return 0\n",
    "\n",
    "weather['RainyMonth'] = weather['Month'].apply(encode_rainly_month)"
   ]
  },
  {
   "cell_type": "markdown",
   "metadata": {},
   "source": [
    "## Train Test split\n",
    "**Important!** \n",
    "\n",
    "Before starting Feature Engineering one must split the dataset to ovoid test train leakage!\n",
    "All Decisions in Data Engineering must be made on the Train Set only! From here, we assume that we dont have any \n",
    "knowledge about the test data."
   ]
  },
  {
   "cell_type": "code",
   "execution_count": 8,
   "metadata": {
    "scrolled": true
   },
   "outputs": [],
   "source": [
    "#Zunächst wird noch nicht die Zielvariable \"abgespalten\"\n",
    "#Warum? Wenn die Zielvariable noch im gleichen DataFrame ist, kann man leichter Outlier rausschmeißen.\n",
    "train, test = train_test_split(weather, test_size=0.2, random_state = 0)"
   ]
  },
  {
   "cell_type": "markdown",
   "metadata": {},
   "source": [
    "## Outlier detection (Optional)\n",
    "**important**\n",
    "\n",
    "this must be done after splitting. Again: We do not know anything about the test data!\n",
    "\n",
    "**-> Verschlechtert das Ergebnis!**"
   ]
  },
  {
   "cell_type": "code",
   "execution_count": 9,
   "metadata": {
    "scrolled": true
   },
   "outputs": [
    {
     "data": {
      "text/plain": [
       "Text(0, 0.5, 'WindGustSpeed')"
      ]
     },
     "execution_count": 9,
     "metadata": {},
     "output_type": "execute_result"
    },
    {
     "data": {
      "image/png": "[encoded data removed]",
      "text/plain": [
       "<Figure size 1080x720 with 2 Axes>"
      ]
     },
     "metadata": {
      "needs_background": "light"
     },
     "output_type": "display_data"
    }
   ],
   "source": [
    "plt.figure(figsize=(15,10))\n",
    "\n",
    "plt.subplot(2, 2, 1)\n",
    "fig = train.boxplot(column='Rainfall')\n",
    "fig.set_title('')\n",
    "fig.set_ylabel('Rainfall')\n",
    "\n",
    "plt.subplot(2, 2, 2)\n",
    "fig = train.boxplot(column='WindGustSpeed')\n",
    "fig.set_title('')\n",
    "fig.set_ylabel('WindGustSpeed')"
   ]
  },
  {
   "cell_type": "code",
   "execution_count": null,
   "metadata": {
    "scrolled": true
   },
   "outputs": [],
   "source": [
    "higher_lim = train['Rainfall'].quantile(0.995)\n",
    "train = train[train['Rainfall'] < higher_lim]\n",
    "higher_lim = train['WindGustSpeed'].quantile(0.995)\n",
    "train = train[train['WindGustSpeed'] < higher_lim]"
   ]
  },
  {
   "cell_type": "markdown",
   "metadata": {},
   "source": [
    "## Train Test Split part 2\n",
    "\n",
    "hier wird jetzt die Zielvariable abgespalten"
   ]
  },
  {
   "cell_type": "code",
   "execution_count": 9,
   "metadata": {
    "scrolled": true
   },
   "outputs": [],
   "source": [
    "X_train = train.drop(['RainTomorrow'], axis=1)\n",
    "y_train = train['RainTomorrow']\n",
    "\n",
    "X_test = test.drop(['RainTomorrow'], axis=1)\n",
    "y_test = test['RainTomorrow']"
   ]
  },
  {
   "cell_type": "markdown",
   "metadata": {},
   "source": [
    "## Impute missing Data (Univariat)"
   ]
  },
  {
   "cell_type": "code",
   "execution_count": 10,
   "metadata": {
    "scrolled": true
   },
   "outputs": [],
   "source": [
    "# Impute values the naiive approache without considering the locations or other stuff like season\n",
    "\n",
    "for dataset in [X_train, X_test]:\n",
    "\n",
    "    colums_containing_nan = dataset.columns[dataset.isnull().any()]\n",
    "    \n",
    "    numerical_containing_nan = [col for col in colums_containing_nan if dataset[col].dtypes != 'O']\n",
    "    categorial_containing_nan = [col for col in colums_containing_nan if dataset[col].dtypes == 'O']\n",
    "\n",
    "    for col in numerical_containing_nan:\n",
    "        col_median=X_train[col].median() #always use median from Train data ! Never impute based on Test Data ! we have to assume we dont know it.\n",
    "        dataset[col] = dataset[col].fillna(col_median) \n",
    "        \n",
    "    for col in categorial_containing_nan:\n",
    "        col_most_occuring = X_train[col].mode()[0]\n",
    "        dataset[col] = dataset[col].fillna(col_most_occuring)     \n",
    "        "
   ]
  },
  {
   "cell_type": "markdown",
   "metadata": {},
   "source": [
    "# Encoding Categorial Variables"
   ]
  },
  {
   "cell_type": "code",
   "execution_count": 11,
   "metadata": {
    "scrolled": true
   },
   "outputs": [],
   "source": [
    "X_train['RainToday'] = X_train[\"RainToday\"].replace({'No':0, 'Yes':1})\n",
    "X_test['RainToday'] = X_test[\"RainToday\"].replace({'No':0, 'Yes':1})\n",
    "\n",
    "y_train = y_train.replace({'No':0, 'Yes':1})\n",
    "y_test = y_test.replace({'No':0, 'Yes':1})"
   ]
  },
  {
   "cell_type": "markdown",
   "metadata": {},
   "source": [
    "### Target encoding\n",
    "\n",
    "Beim target Encoding kodieren wir die Variable als Einfluss auf die Zielvariable. Wenn es also in Perth zu 20% geregnet hat, dann wird Perth mit 0.2 kodiert."
   ]
  },
  {
   "cell_type": "code",
   "execution_count": 12,
   "metadata": {},
   "outputs": [],
   "source": [
    "# Create the encoder\n",
    "cat_features=['Location','WindGustDir',\"WindDir9am\", \"WindDir3pm\"]\n",
    "for feature in [cat_features]:\n",
    "    target_enc = ce.TargetEncoder(cols=feature)\n",
    "    target_enc.fit(X_train[feature], y_train)\n",
    "\n",
    "    # Transform the features, rename the columns with _target suffix, and join to dataframe\n",
    "    X_train = X_train.join(target_enc.transform(X_train[feature]).add_suffix('_target'))\n",
    "    X_test = X_test.join(target_enc.transform(X_test[feature]).add_suffix('_target'))"
   ]
  },
  {
   "cell_type": "markdown",
   "metadata": {},
   "source": [
    "### One Hot Encoding"
   ]
  },
  {
   "cell_type": "code",
   "execution_count": 13,
   "metadata": {
    "scrolled": true
   },
   "outputs": [],
   "source": [
    "# apply One Hot encoding\n",
    "\n",
    "for col in [\"Season\"]:\n",
    "    encoded_columns = pd.get_dummies(X_train[col], prefix=col, drop_first=True)\n",
    "    X_train = X_train.join(encoded_columns).drop(col, axis=1)\n",
    "    \n",
    "    encoded_columns = pd.get_dummies(X_test[col], prefix=col, drop_first=True)\n",
    "    X_test = X_test.join(encoded_columns).drop(col, axis=1)"
   ]
  },
  {
   "cell_type": "markdown",
   "metadata": {},
   "source": [
    "# Remove Features\n",
    "\n",
    "Some features where transformed to other columns and can be removed."
   ]
  },
  {
   "cell_type": "code",
   "execution_count": 14,
   "metadata": {
    "scrolled": true
   },
   "outputs": [],
   "source": [
    "columns_to_drop = ['Date', 'Location','WindGustDir',\"WindDir9am\", \"WindDir3pm\"]\n",
    "X_train.drop(labels=columns_to_drop, axis=1, inplace=True)\n",
    "X_test.drop(labels=columns_to_drop, axis=1, inplace=True)"
   ]
  },
  {
   "cell_type": "markdown",
   "metadata": {},
   "source": [
    "## Scale numerical features\n",
    "\n",
    "**Note !**\n",
    "This step is not required for decision trees. Still it is recommended to do. Why?\n",
    "1. We need it for Feature Selection \n",
    "2. If we change the tree to a regression or a NN, we need it.\n",
    "3. It doesnt do any harm."
   ]
  },
  {
   "cell_type": "code",
   "execution_count": 15,
   "metadata": {
    "scrolled": true
   },
   "outputs": [],
   "source": [
    "scaler = MinMaxScaler()\n",
    "cols = X_train.columns\n",
    "\n",
    "X_train = scaler.fit_transform(X_train)\n",
    "X_test = scaler.transform(X_test)\n",
    "\n",
    "X_train = pd.DataFrame(X_train, columns=cols)\n",
    "X_test = pd.DataFrame(np.array(X_test), columns=cols)"
   ]
  },
  {
   "cell_type": "markdown",
   "metadata": {},
   "source": [
    "# Feature Selection\n",
    "\n",
    "\n",
    "## The univariate way"
   ]
  },
  {
   "cell_type": "code",
   "execution_count": 17,
   "metadata": {},
   "outputs": [
    {
     "data": {
      "text/html": [
       "<div>\n",
       "<style scoped>\n",
       "    .dataframe tbody tr th:only-of-type {\n",
       "        vertical-align: middle;\n",
       "    }\n",
       "\n",
       "    .dataframe tbody tr th {\n",
       "        vertical-align: top;\n",
       "    }\n",
       "\n",
       "    .dataframe thead th {\n",
       "        text-align: right;\n",
       "    }\n",
       "</style>\n",
       "<table border=\"1\" class=\"dataframe\">\n",
       "  <thead>\n",
       "    <tr style=\"text-align: right;\">\n",
       "      <th></th>\n",
       "      <th>MinTemp</th>\n",
       "      <th>MaxTemp</th>\n",
       "      <th>Rainfall</th>\n",
       "      <th>WindGustSpeed</th>\n",
       "      <th>WindSpeed9am</th>\n",
       "      <th>WindSpeed3pm</th>\n",
       "      <th>Humidity9am</th>\n",
       "      <th>Humidity3pm</th>\n",
       "      <th>Pressure9am</th>\n",
       "      <th>Pressure3pm</th>\n",
       "      <th>...</th>\n",
       "      <th>HumidityDiff</th>\n",
       "      <th>RainyMonth</th>\n",
       "      <th>Location_target</th>\n",
       "      <th>WindGustDir_target</th>\n",
       "      <th>WindDir9am_target</th>\n",
       "      <th>WindDir3pm_target</th>\n",
       "      <th>Season_Spring</th>\n",
       "      <th>Season_Summer</th>\n",
       "      <th>Season_Winter</th>\n",
       "      <th>RainTomorrow</th>\n",
       "    </tr>\n",
       "  </thead>\n",
       "  <tbody>\n",
       "    <tr>\n",
       "      <th>MinTemp</th>\n",
       "      <td>1.000000</td>\n",
       "      <td>0.714815</td>\n",
       "      <td>0.075546</td>\n",
       "      <td>0.160953</td>\n",
       "      <td>0.180407</td>\n",
       "      <td>0.161164</td>\n",
       "      <td>-0.246944</td>\n",
       "      <td>-0.013645</td>\n",
       "      <td>-0.414630</td>\n",
       "      <td>-0.424244</td>\n",
       "      <td>...</td>\n",
       "      <td>0.288572</td>\n",
       "      <td>-0.412184</td>\n",
       "      <td>0.036422</td>\n",
       "      <td>-0.203151</td>\n",
       "      <td>-0.165754</td>\n",
       "      <td>-0.207585</td>\n",
       "      <td>-0.028950</td>\n",
       "      <td>0.407126</td>\n",
       "      <td>-0.436305</td>\n",
       "      <td>0.068477</td>\n",
       "    </tr>\n",
       "    <tr>\n",
       "      <th>MaxTemp</th>\n",
       "      <td>0.714815</td>\n",
       "      <td>1.000000</td>\n",
       "      <td>-0.087699</td>\n",
       "      <td>0.043939</td>\n",
       "      <td>-0.003619</td>\n",
       "      <td>0.032025</td>\n",
       "      <td>-0.527423</td>\n",
       "      <td>-0.537382</td>\n",
       "      <td>-0.299227</td>\n",
       "      <td>-0.402469</td>\n",
       "      <td>...</td>\n",
       "      <td>-0.052757</td>\n",
       "      <td>-0.447217</td>\n",
       "      <td>-0.256490</td>\n",
       "      <td>-0.200889</td>\n",
       "      <td>-0.226121</td>\n",
       "      <td>-0.117963</td>\n",
       "      <td>0.003186</td>\n",
       "      <td>0.428503</td>\n",
       "      <td>-0.467797</td>\n",
       "      <td>-0.183691</td>\n",
       "    </tr>\n",
       "    <tr>\n",
       "      <th>Rainfall</th>\n",
       "      <td>0.075546</td>\n",
       "      <td>-0.087699</td>\n",
       "      <td>1.000000</td>\n",
       "      <td>0.127568</td>\n",
       "      <td>0.090198</td>\n",
       "      <td>0.058444</td>\n",
       "      <td>0.202820</td>\n",
       "      <td>0.233905</td>\n",
       "      <td>-0.138278</td>\n",
       "      <td>-0.096153</td>\n",
       "      <td>...</td>\n",
       "      <td>0.060337</td>\n",
       "      <td>0.015275</td>\n",
       "      <td>0.087772</td>\n",
       "      <td>0.014152</td>\n",
       "      <td>0.018202</td>\n",
       "      <td>0.005075</td>\n",
       "      <td>-0.007865</td>\n",
       "      <td>0.017275</td>\n",
       "      <td>0.012171</td>\n",
       "      <td>0.226762</td>\n",
       "    </tr>\n",
       "    <tr>\n",
       "      <th>WindGustSpeed</th>\n",
       "      <td>0.160953</td>\n",
       "      <td>0.043939</td>\n",
       "      <td>0.127568</td>\n",
       "      <td>1.000000</td>\n",
       "      <td>0.581018</td>\n",
       "      <td>0.682597</td>\n",
       "      <td>-0.197242</td>\n",
       "      <td>-0.011750</td>\n",
       "      <td>-0.456118</td>\n",
       "      <td>-0.414269</td>\n",
       "      <td>...</td>\n",
       "      <td>0.223074</td>\n",
       "      <td>-0.078306</td>\n",
       "      <td>0.047914</td>\n",
       "      <td>0.158510</td>\n",
       "      <td>0.136221</td>\n",
       "      <td>0.164442</td>\n",
       "      <td>0.107634</td>\n",
       "      <td>0.090757</td>\n",
       "      <td>-0.076847</td>\n",
       "      <td>0.249201</td>\n",
       "    </tr>\n",
       "    <tr>\n",
       "      <th>WindSpeed9am</th>\n",
       "      <td>0.180407</td>\n",
       "      <td>-0.003619</td>\n",
       "      <td>0.090198</td>\n",
       "      <td>0.581018</td>\n",
       "      <td>1.000000</td>\n",
       "      <td>0.509115</td>\n",
       "      <td>-0.244832</td>\n",
       "      <td>-0.006697</td>\n",
       "      <td>-0.232889</td>\n",
       "      <td>-0.176959</td>\n",
       "      <td>...</td>\n",
       "      <td>0.279836</td>\n",
       "      <td>-0.059515</td>\n",
       "      <td>0.028281</td>\n",
       "      <td>0.001041</td>\n",
       "      <td>-0.034458</td>\n",
       "      <td>0.000424</td>\n",
       "      <td>0.100491</td>\n",
       "      <td>0.040793</td>\n",
       "      <td>-0.067264</td>\n",
       "      <td>0.110293</td>\n",
       "    </tr>\n",
       "    <tr>\n",
       "      <th>WindSpeed3pm</th>\n",
       "      <td>0.161164</td>\n",
       "      <td>0.032025</td>\n",
       "      <td>0.058444</td>\n",
       "      <td>0.682597</td>\n",
       "      <td>0.509115</td>\n",
       "      <td>1.000000</td>\n",
       "      <td>-0.128210</td>\n",
       "      <td>0.027848</td>\n",
       "      <td>-0.295240</td>\n",
       "      <td>-0.258099</td>\n",
       "      <td>...</td>\n",
       "      <td>0.191975</td>\n",
       "      <td>-0.065792</td>\n",
       "      <td>0.084701</td>\n",
       "      <td>0.098413</td>\n",
       "      <td>0.100451</td>\n",
       "      <td>0.070584</td>\n",
       "      <td>0.102481</td>\n",
       "      <td>0.054149</td>\n",
       "      <td>-0.070050</td>\n",
       "      <td>0.106495</td>\n",
       "    </tr>\n",
       "    <tr>\n",
       "      <th>Humidity9am</th>\n",
       "      <td>-0.246944</td>\n",
       "      <td>-0.527423</td>\n",
       "      <td>0.202820</td>\n",
       "      <td>-0.197242</td>\n",
       "      <td>-0.244832</td>\n",
       "      <td>-0.128210</td>\n",
       "      <td>1.000000</td>\n",
       "      <td>0.671886</td>\n",
       "      <td>0.151893</td>\n",
       "      <td>0.210138</td>\n",
       "      <td>...</td>\n",
       "      <td>-0.325160</td>\n",
       "      <td>0.189712</td>\n",
       "      <td>0.335784</td>\n",
       "      <td>0.085124</td>\n",
       "      <td>0.142450</td>\n",
       "      <td>0.042336</td>\n",
       "      <td>-0.141318</td>\n",
       "      <td>-0.160730</td>\n",
       "      <td>0.216895</td>\n",
       "      <td>0.259682</td>\n",
       "    </tr>\n",
       "    <tr>\n",
       "      <th>Humidity3pm</th>\n",
       "      <td>-0.013645</td>\n",
       "      <td>-0.537382</td>\n",
       "      <td>0.233905</td>\n",
       "      <td>-0.011750</td>\n",
       "      <td>-0.006697</td>\n",
       "      <td>0.027848</td>\n",
       "      <td>0.671886</td>\n",
       "      <td>1.000000</td>\n",
       "      <td>-0.008846</td>\n",
       "      <td>0.084501</td>\n",
       "      <td>...</td>\n",
       "      <td>0.468442</td>\n",
       "      <td>0.153676</td>\n",
       "      <td>0.477781</td>\n",
       "      <td>0.044024</td>\n",
       "      <td>0.151843</td>\n",
       "      <td>-0.061132</td>\n",
       "      <td>-0.047557</td>\n",
       "      <td>-0.119827</td>\n",
       "      <td>0.161513</td>\n",
       "      <td>0.428648</td>\n",
       "    </tr>\n",
       "    <tr>\n",
       "      <th>Pressure9am</th>\n",
       "      <td>-0.414630</td>\n",
       "      <td>-0.299227</td>\n",
       "      <td>-0.138278</td>\n",
       "      <td>-0.456118</td>\n",
       "      <td>-0.232889</td>\n",
       "      <td>-0.295240</td>\n",
       "      <td>0.151893</td>\n",
       "      <td>-0.008846</td>\n",
       "      <td>1.000000</td>\n",
       "      <td>0.955809</td>\n",
       "      <td>...</td>\n",
       "      <td>-0.197693</td>\n",
       "      <td>0.215458</td>\n",
       "      <td>-0.049454</td>\n",
       "      <td>-0.164982</td>\n",
       "      <td>-0.140598</td>\n",
       "      <td>-0.173611</td>\n",
       "      <td>-0.051679</td>\n",
       "      <td>-0.311606</td>\n",
       "      <td>0.197611</td>\n",
       "      <td>-0.237821</td>\n",
       "    </tr>\n",
       "    <tr>\n",
       "      <th>Pressure3pm</th>\n",
       "      <td>-0.424244</td>\n",
       "      <td>-0.402469</td>\n",
       "      <td>-0.096153</td>\n",
       "      <td>-0.414269</td>\n",
       "      <td>-0.176959</td>\n",
       "      <td>-0.258099</td>\n",
       "      <td>0.210138</td>\n",
       "      <td>0.084501</td>\n",
       "      <td>0.955809</td>\n",
       "      <td>1.000000</td>\n",
       "      <td>...</td>\n",
       "      <td>-0.146745</td>\n",
       "      <td>0.213506</td>\n",
       "      <td>0.019557</td>\n",
       "      <td>-0.141766</td>\n",
       "      <td>-0.110369</td>\n",
       "      <td>-0.189461</td>\n",
       "      <td>-0.059095</td>\n",
       "      <td>-0.299019</td>\n",
       "      <td>0.196022</td>\n",
       "      <td>-0.211521</td>\n",
       "    </tr>\n",
       "    <tr>\n",
       "      <th>Temp9am</th>\n",
       "      <td>0.894514</td>\n",
       "      <td>0.876958</td>\n",
       "      <td>-0.008669</td>\n",
       "      <td>0.127532</td>\n",
       "      <td>0.119468</td>\n",
       "      <td>0.143730</td>\n",
       "      <td>-0.491056</td>\n",
       "      <td>-0.250215</td>\n",
       "      <td>-0.390274</td>\n",
       "      <td>-0.441167</td>\n",
       "      <td>...</td>\n",
       "      <td>0.272217</td>\n",
       "      <td>-0.450261</td>\n",
       "      <td>-0.075253</td>\n",
       "      <td>-0.216638</td>\n",
       "      <td>-0.193484</td>\n",
       "      <td>-0.191782</td>\n",
       "      <td>0.039205</td>\n",
       "      <td>0.420507</td>\n",
       "      <td>-0.485009</td>\n",
       "      <td>-0.052202</td>\n",
       "    </tr>\n",
       "    <tr>\n",
       "      <th>Temp3pm</th>\n",
       "      <td>0.681217</td>\n",
       "      <td>0.970840</td>\n",
       "      <td>-0.093828</td>\n",
       "      <td>0.007561</td>\n",
       "      <td>-0.012569</td>\n",
       "      <td>0.009576</td>\n",
       "      <td>-0.522645</td>\n",
       "      <td>-0.592317</td>\n",
       "      <td>-0.251350</td>\n",
       "      <td>-0.361389</td>\n",
       "      <td>...</td>\n",
       "      <td>-0.126442</td>\n",
       "      <td>-0.426802</td>\n",
       "      <td>-0.266540</td>\n",
       "      <td>-0.201766</td>\n",
       "      <td>-0.235702</td>\n",
       "      <td>-0.108935</td>\n",
       "      <td>-0.006206</td>\n",
       "      <td>0.400265</td>\n",
       "      <td>-0.443399</td>\n",
       "      <td>-0.214423</td>\n",
       "    </tr>\n",
       "    <tr>\n",
       "      <th>RainToday</th>\n",
       "      <td>0.018318</td>\n",
       "      <td>-0.261898</td>\n",
       "      <td>0.474146</td>\n",
       "      <td>0.157612</td>\n",
       "      <td>0.109959</td>\n",
       "      <td>0.080341</td>\n",
       "      <td>0.352230</td>\n",
       "      <td>0.375698</td>\n",
       "      <td>-0.157386</td>\n",
       "      <td>-0.072361</td>\n",
       "      <td>...</td>\n",
       "      <td>0.068162</td>\n",
       "      <td>0.072598</td>\n",
       "      <td>0.184015</td>\n",
       "      <td>0.085100</td>\n",
       "      <td>0.097278</td>\n",
       "      <td>0.042404</td>\n",
       "      <td>0.009638</td>\n",
       "      <td>-0.051854</td>\n",
       "      <td>0.072313</td>\n",
       "      <td>0.318296</td>\n",
       "    </tr>\n",
       "    <tr>\n",
       "      <th>Year</th>\n",
       "      <td>0.011709</td>\n",
       "      <td>0.025983</td>\n",
       "      <td>-0.021992</td>\n",
       "      <td>0.000994</td>\n",
       "      <td>-0.004366</td>\n",
       "      <td>0.000461</td>\n",
       "      <td>-0.020411</td>\n",
       "      <td>-0.045364</td>\n",
       "      <td>0.015508</td>\n",
       "      <td>0.013649</td>\n",
       "      <td>...</td>\n",
       "      <td>-0.023060</td>\n",
       "      <td>-0.034287</td>\n",
       "      <td>-0.011687</td>\n",
       "      <td>-0.001217</td>\n",
       "      <td>-0.038458</td>\n",
       "      <td>0.016437</td>\n",
       "      <td>-0.023972</td>\n",
       "      <td>0.078327</td>\n",
       "      <td>-0.024787</td>\n",
       "      <td>-0.021488</td>\n",
       "    </tr>\n",
       "    <tr>\n",
       "      <th>Month</th>\n",
       "      <td>-0.157383</td>\n",
       "      <td>-0.136648</td>\n",
       "      <td>-0.012839</td>\n",
       "      <td>0.079044</td>\n",
       "      <td>0.067319</td>\n",
       "      <td>0.070777</td>\n",
       "      <td>-0.077541</td>\n",
       "      <td>0.006591</td>\n",
       "      <td>-0.020280</td>\n",
       "      <td>-0.026335</td>\n",
       "      <td>...</td>\n",
       "      <td>0.098654</td>\n",
       "      <td>0.171760</td>\n",
       "      <td>-0.000678</td>\n",
       "      <td>0.070078</td>\n",
       "      <td>0.068653</td>\n",
       "      <td>0.055814</td>\n",
       "      <td>0.573859</td>\n",
       "      <td>-0.155655</td>\n",
       "      <td>0.052714</td>\n",
       "      <td>0.023359</td>\n",
       "    </tr>\n",
       "    <tr>\n",
       "      <th>Day</th>\n",
       "      <td>-0.022168</td>\n",
       "      <td>-0.026931</td>\n",
       "      <td>0.018133</td>\n",
       "      <td>-0.025878</td>\n",
       "      <td>-0.025659</td>\n",
       "      <td>-0.028209</td>\n",
       "      <td>0.027605</td>\n",
       "      <td>0.028700</td>\n",
       "      <td>-0.048994</td>\n",
       "      <td>-0.044719</td>\n",
       "      <td>...</td>\n",
       "      <td>0.004543</td>\n",
       "      <td>0.000994</td>\n",
       "      <td>-0.003927</td>\n",
       "      <td>-0.005279</td>\n",
       "      <td>0.003422</td>\n",
       "      <td>-0.006635</td>\n",
       "      <td>-0.002862</td>\n",
       "      <td>-0.005986</td>\n",
       "      <td>0.004611</td>\n",
       "      <td>0.013755</td>\n",
       "    </tr>\n",
       "    <tr>\n",
       "      <th>MinMaxDiff</th>\n",
       "      <td>-0.228096</td>\n",
       "      <td>0.511186</td>\n",
       "      <td>-0.216044</td>\n",
       "      <td>-0.137904</td>\n",
       "      <td>-0.227602</td>\n",
       "      <td>-0.154573</td>\n",
       "      <td>-0.434332</td>\n",
       "      <td>-0.736236</td>\n",
       "      <td>0.094339</td>\n",
       "      <td>-0.037900</td>\n",
       "      <td>...</td>\n",
       "      <td>-0.430625</td>\n",
       "      <td>-0.118620</td>\n",
       "      <td>-0.403106</td>\n",
       "      <td>-0.029190</td>\n",
       "      <td>-0.112169</td>\n",
       "      <td>0.091523</td>\n",
       "      <td>0.041126</td>\n",
       "      <td>0.096256</td>\n",
       "      <td>-0.117353</td>\n",
       "      <td>-0.343103</td>\n",
       "    </tr>\n",
       "    <tr>\n",
       "      <th>PressureDiff</th>\n",
       "      <td>-0.012544</td>\n",
       "      <td>-0.331704</td>\n",
       "      <td>0.147286</td>\n",
       "      <td>0.161080</td>\n",
       "      <td>0.200908</td>\n",
       "      <td>0.142950</td>\n",
       "      <td>0.187094</td>\n",
       "      <td>0.313183</td>\n",
       "      <td>-0.187731</td>\n",
       "      <td>0.106972</td>\n",
       "      <td>...</td>\n",
       "      <td>0.181399</td>\n",
       "      <td>-0.015071</td>\n",
       "      <td>0.235676</td>\n",
       "      <td>0.081567</td>\n",
       "      <td>0.105987</td>\n",
       "      <td>-0.049238</td>\n",
       "      <td>-0.022291</td>\n",
       "      <td>0.054145</td>\n",
       "      <td>-0.013498</td>\n",
       "      <td>0.098775</td>\n",
       "    </tr>\n",
       "    <tr>\n",
       "      <th>WindSpeedDiff</th>\n",
       "      <td>-0.371790</td>\n",
       "      <td>-0.231324</td>\n",
       "      <td>-0.117534</td>\n",
       "      <td>-0.640418</td>\n",
       "      <td>-0.793312</td>\n",
       "      <td>-0.499182</td>\n",
       "      <td>0.283541</td>\n",
       "      <td>0.053859</td>\n",
       "      <td>0.714391</td>\n",
       "      <td>0.696062</td>\n",
       "      <td>...</td>\n",
       "      <td>-0.272529</td>\n",
       "      <td>0.166007</td>\n",
       "      <td>-0.007980</td>\n",
       "      <td>-0.091761</td>\n",
       "      <td>-0.038383</td>\n",
       "      <td>-0.114305</td>\n",
       "      <td>-0.106274</td>\n",
       "      <td>-0.198795</td>\n",
       "      <td>0.160359</td>\n",
       "      <td>-0.196741</td>\n",
       "    </tr>\n",
       "    <tr>\n",
       "      <th>HumidityDiff</th>\n",
       "      <td>0.288572</td>\n",
       "      <td>-0.052757</td>\n",
       "      <td>0.060337</td>\n",
       "      <td>0.223074</td>\n",
       "      <td>0.279836</td>\n",
       "      <td>0.191975</td>\n",
       "      <td>-0.325160</td>\n",
       "      <td>0.468442</td>\n",
       "      <td>-0.197693</td>\n",
       "      <td>-0.146745</td>\n",
       "      <td>...</td>\n",
       "      <td>1.000000</td>\n",
       "      <td>-0.035005</td>\n",
       "      <td>0.219328</td>\n",
       "      <td>-0.032222</td>\n",
       "      <td>0.029961</td>\n",
       "      <td>-0.120317</td>\n",
       "      <td>0.107727</td>\n",
       "      <td>0.043818</td>\n",
       "      <td>-0.055639</td>\n",
       "      <td>0.245148</td>\n",
       "    </tr>\n",
       "    <tr>\n",
       "      <th>RainyMonth</th>\n",
       "      <td>-0.412184</td>\n",
       "      <td>-0.447217</td>\n",
       "      <td>0.015275</td>\n",
       "      <td>-0.078306</td>\n",
       "      <td>-0.059515</td>\n",
       "      <td>-0.065792</td>\n",
       "      <td>0.189712</td>\n",
       "      <td>0.153676</td>\n",
       "      <td>0.215458</td>\n",
       "      <td>0.213506</td>\n",
       "      <td>...</td>\n",
       "      <td>-0.035005</td>\n",
       "      <td>1.000000</td>\n",
       "      <td>-0.005685</td>\n",
       "      <td>0.107329</td>\n",
       "      <td>0.139477</td>\n",
       "      <td>0.103517</td>\n",
       "      <td>-0.130259</td>\n",
       "      <td>-0.459333</td>\n",
       "      <td>0.676262</td>\n",
       "      <td>0.072994</td>\n",
       "    </tr>\n",
       "    <tr>\n",
       "      <th>Location_target</th>\n",
       "      <td>0.036422</td>\n",
       "      <td>-0.256490</td>\n",
       "      <td>0.087772</td>\n",
       "      <td>0.047914</td>\n",
       "      <td>0.028281</td>\n",
       "      <td>0.084701</td>\n",
       "      <td>0.335784</td>\n",
       "      <td>0.477781</td>\n",
       "      <td>-0.049454</td>\n",
       "      <td>0.019557</td>\n",
       "      <td>...</td>\n",
       "      <td>0.219328</td>\n",
       "      <td>-0.005685</td>\n",
       "      <td>1.000000</td>\n",
       "      <td>0.146676</td>\n",
       "      <td>0.138310</td>\n",
       "      <td>0.042904</td>\n",
       "      <td>-0.000301</td>\n",
       "      <td>0.009049</td>\n",
       "      <td>-0.003330</td>\n",
       "      <td>0.187635</td>\n",
       "    </tr>\n",
       "    <tr>\n",
       "      <th>WindGustDir_target</th>\n",
       "      <td>-0.203151</td>\n",
       "      <td>-0.200889</td>\n",
       "      <td>0.014152</td>\n",
       "      <td>0.158510</td>\n",
       "      <td>0.001041</td>\n",
       "      <td>0.098413</td>\n",
       "      <td>0.085124</td>\n",
       "      <td>0.044024</td>\n",
       "      <td>-0.164982</td>\n",
       "      <td>-0.141766</td>\n",
       "      <td>...</td>\n",
       "      <td>-0.032222</td>\n",
       "      <td>0.107329</td>\n",
       "      <td>0.146676</td>\n",
       "      <td>1.000000</td>\n",
       "      <td>0.444927</td>\n",
       "      <td>0.610780</td>\n",
       "      <td>0.011249</td>\n",
       "      <td>-0.097642</td>\n",
       "      <td>0.134336</td>\n",
       "      <td>0.122570</td>\n",
       "    </tr>\n",
       "    <tr>\n",
       "      <th>WindDir9am_target</th>\n",
       "      <td>-0.165754</td>\n",
       "      <td>-0.226121</td>\n",
       "      <td>0.018202</td>\n",
       "      <td>0.136221</td>\n",
       "      <td>-0.034458</td>\n",
       "      <td>0.100451</td>\n",
       "      <td>0.142450</td>\n",
       "      <td>0.151843</td>\n",
       "      <td>-0.140598</td>\n",
       "      <td>-0.110369</td>\n",
       "      <td>...</td>\n",
       "      <td>0.029961</td>\n",
       "      <td>0.139477</td>\n",
       "      <td>0.138310</td>\n",
       "      <td>0.444927</td>\n",
       "      <td>1.000000</td>\n",
       "      <td>0.385919</td>\n",
       "      <td>-0.004125</td>\n",
       "      <td>-0.125864</td>\n",
       "      <td>0.167722</td>\n",
       "      <td>0.130237</td>\n",
       "    </tr>\n",
       "    <tr>\n",
       "      <th>WindDir3pm_target</th>\n",
       "      <td>-0.207585</td>\n",
       "      <td>-0.117963</td>\n",
       "      <td>0.005075</td>\n",
       "      <td>0.164442</td>\n",
       "      <td>0.000424</td>\n",
       "      <td>0.070584</td>\n",
       "      <td>0.042336</td>\n",
       "      <td>-0.061132</td>\n",
       "      <td>-0.173611</td>\n",
       "      <td>-0.189461</td>\n",
       "      <td>...</td>\n",
       "      <td>-0.120317</td>\n",
       "      <td>0.103517</td>\n",
       "      <td>0.042904</td>\n",
       "      <td>0.610780</td>\n",
       "      <td>0.385919</td>\n",
       "      <td>1.000000</td>\n",
       "      <td>0.003053</td>\n",
       "      <td>-0.087515</td>\n",
       "      <td>0.140913</td>\n",
       "      <td>0.116005</td>\n",
       "    </tr>\n",
       "    <tr>\n",
       "      <th>Season_Spring</th>\n",
       "      <td>-0.028950</td>\n",
       "      <td>0.003186</td>\n",
       "      <td>-0.007865</td>\n",
       "      <td>0.107634</td>\n",
       "      <td>0.100491</td>\n",
       "      <td>0.102481</td>\n",
       "      <td>-0.141318</td>\n",
       "      <td>-0.047557</td>\n",
       "      <td>-0.051679</td>\n",
       "      <td>-0.059095</td>\n",
       "      <td>...</td>\n",
       "      <td>0.107727</td>\n",
       "      <td>-0.130259</td>\n",
       "      <td>-0.000301</td>\n",
       "      <td>0.011249</td>\n",
       "      <td>-0.004125</td>\n",
       "      <td>0.003053</td>\n",
       "      <td>1.000000</td>\n",
       "      <td>-0.311355</td>\n",
       "      <td>-0.352309</td>\n",
       "      <td>0.000520</td>\n",
       "    </tr>\n",
       "    <tr>\n",
       "      <th>Season_Summer</th>\n",
       "      <td>0.407126</td>\n",
       "      <td>0.428503</td>\n",
       "      <td>0.017275</td>\n",
       "      <td>0.090757</td>\n",
       "      <td>0.040793</td>\n",
       "      <td>0.054149</td>\n",
       "      <td>-0.160730</td>\n",
       "      <td>-0.119827</td>\n",
       "      <td>-0.311606</td>\n",
       "      <td>-0.299019</td>\n",
       "      <td>...</td>\n",
       "      <td>0.043818</td>\n",
       "      <td>-0.459333</td>\n",
       "      <td>0.009049</td>\n",
       "      <td>-0.097642</td>\n",
       "      <td>-0.125864</td>\n",
       "      <td>-0.087515</td>\n",
       "      <td>-0.311355</td>\n",
       "      <td>1.000000</td>\n",
       "      <td>-0.310629</td>\n",
       "      <td>-0.041901</td>\n",
       "    </tr>\n",
       "    <tr>\n",
       "      <th>Season_Winter</th>\n",
       "      <td>-0.436305</td>\n",
       "      <td>-0.467797</td>\n",
       "      <td>0.012171</td>\n",
       "      <td>-0.076847</td>\n",
       "      <td>-0.067264</td>\n",
       "      <td>-0.070050</td>\n",
       "      <td>0.216895</td>\n",
       "      <td>0.161513</td>\n",
       "      <td>0.197611</td>\n",
       "      <td>0.196022</td>\n",
       "      <td>...</td>\n",
       "      <td>-0.055639</td>\n",
       "      <td>0.676262</td>\n",
       "      <td>-0.003330</td>\n",
       "      <td>0.134336</td>\n",
       "      <td>0.167722</td>\n",
       "      <td>0.140913</td>\n",
       "      <td>-0.352309</td>\n",
       "      <td>-0.310629</td>\n",
       "      <td>1.000000</td>\n",
       "      <td>0.064867</td>\n",
       "    </tr>\n",
       "    <tr>\n",
       "      <th>RainTomorrow</th>\n",
       "      <td>0.068477</td>\n",
       "      <td>-0.183691</td>\n",
       "      <td>0.226762</td>\n",
       "      <td>0.249201</td>\n",
       "      <td>0.110293</td>\n",
       "      <td>0.106495</td>\n",
       "      <td>0.259682</td>\n",
       "      <td>0.428648</td>\n",
       "      <td>-0.237821</td>\n",
       "      <td>-0.211521</td>\n",
       "      <td>...</td>\n",
       "      <td>0.245148</td>\n",
       "      <td>0.072994</td>\n",
       "      <td>0.187635</td>\n",
       "      <td>0.122570</td>\n",
       "      <td>0.130237</td>\n",
       "      <td>0.116005</td>\n",
       "      <td>0.000520</td>\n",
       "      <td>-0.041901</td>\n",
       "      <td>0.064867</td>\n",
       "      <td>1.000000</td>\n",
       "    </tr>\n",
       "  </tbody>\n",
       "</table>\n",
       "<p>29 rows × 29 columns</p>\n",
       "</div>"
      ],
      "text/plain": [
       "                     MinTemp   MaxTemp  Rainfall  WindGustSpeed  WindSpeed9am  \\\n",
       "MinTemp             1.000000  0.714815  0.075546       0.160953      0.180407   \n",
       "MaxTemp             0.714815  1.000000 -0.087699       0.043939     -0.003619   \n",
       "Rainfall            0.075546 -0.087699  1.000000       0.127568      0.090198   \n",
       "WindGustSpeed       0.160953  0.043939  0.127568       1.000000      0.581018   \n",
       "WindSpeed9am        0.180407 -0.003619  0.090198       0.581018      1.000000   \n",
       "WindSpeed3pm        0.161164  0.032025  0.058444       0.682597      0.509115   \n",
       "Humidity9am        -0.246944 -0.527423  0.202820      -0.197242     -0.244832   \n",
       "Humidity3pm        -0.013645 -0.537382  0.233905      -0.011750     -0.006697   \n",
       "Pressure9am        -0.414630 -0.299227 -0.138278      -0.456118     -0.232889   \n",
       "Pressure3pm        -0.424244 -0.402469 -0.096153      -0.414269     -0.176959   \n",
       "Temp9am             0.894514  0.876958 -0.008669       0.127532      0.119468   \n",
       "Temp3pm             0.681217  0.970840 -0.093828       0.007561     -0.012569   \n",
       "RainToday           0.018318 -0.261898  0.474146       0.157612      0.109959   \n",
       "Year                0.011709  0.025983 -0.021992       0.000994     -0.004366   \n",
       "Month              -0.157383 -0.136648 -0.012839       0.079044      0.067319   \n",
       "Day                -0.022168 -0.026931  0.018133      -0.025878     -0.025659   \n",
       "MinMaxDiff         -0.228096  0.511186 -0.216044      -0.137904     -0.227602   \n",
       "PressureDiff       -0.012544 -0.331704  0.147286       0.161080      0.200908   \n",
       "WindSpeedDiff      -0.371790 -0.231324 -0.117534      -0.640418     -0.793312   \n",
       "HumidityDiff        0.288572 -0.052757  0.060337       0.223074      0.279836   \n",
       "RainyMonth         -0.412184 -0.447217  0.015275      -0.078306     -0.059515   \n",
       "Location_target     0.036422 -0.256490  0.087772       0.047914      0.028281   \n",
       "WindGustDir_target -0.203151 -0.200889  0.014152       0.158510      0.001041   \n",
       "WindDir9am_target  -0.165754 -0.226121  0.018202       0.136221     -0.034458   \n",
       "WindDir3pm_target  -0.207585 -0.117963  0.005075       0.164442      0.000424   \n",
       "Season_Spring      -0.028950  0.003186 -0.007865       0.107634      0.100491   \n",
       "Season_Summer       0.407126  0.428503  0.017275       0.090757      0.040793   \n",
       "Season_Winter      -0.436305 -0.467797  0.012171      -0.076847     -0.067264   \n",
       "RainTomorrow        0.068477 -0.183691  0.226762       0.249201      0.110293   \n",
       "\n",
       "                    WindSpeed3pm  Humidity9am  Humidity3pm  Pressure9am  \\\n",
       "MinTemp                 0.161164    -0.246944    -0.013645    -0.414630   \n",
       "MaxTemp                 0.032025    -0.527423    -0.537382    -0.299227   \n",
       "Rainfall                0.058444     0.202820     0.233905    -0.138278   \n",
       "WindGustSpeed           0.682597    -0.197242    -0.011750    -0.456118   \n",
       "WindSpeed9am            0.509115    -0.244832    -0.006697    -0.232889   \n",
       "WindSpeed3pm            1.000000    -0.128210     0.027848    -0.295240   \n",
       "Humidity9am            -0.128210     1.000000     0.671886     0.151893   \n",
       "Humidity3pm             0.027848     0.671886     1.000000    -0.008846   \n",
       "Pressure9am            -0.295240     0.151893    -0.008846     1.000000   \n",
       "Pressure3pm            -0.258099     0.210138     0.084501     0.955809   \n",
       "Temp9am                 0.143730    -0.491056    -0.250215    -0.390274   \n",
       "Temp3pm                 0.009576    -0.522645    -0.592317    -0.251350   \n",
       "RainToday               0.080341     0.352230     0.375698    -0.157386   \n",
       "Year                    0.000461    -0.020411    -0.045364     0.015508   \n",
       "Month                   0.070777    -0.077541     0.006591    -0.020280   \n",
       "Day                    -0.028209     0.027605     0.028700    -0.048994   \n",
       "MinMaxDiff             -0.154573    -0.434332    -0.736236     0.094339   \n",
       "PressureDiff            0.142950     0.187094     0.313183    -0.187731   \n",
       "WindSpeedDiff          -0.499182     0.283541     0.053859     0.714391   \n",
       "HumidityDiff            0.191975    -0.325160     0.468442    -0.197693   \n",
       "RainyMonth             -0.065792     0.189712     0.153676     0.215458   \n",
       "Location_target         0.084701     0.335784     0.477781    -0.049454   \n",
       "WindGustDir_target      0.098413     0.085124     0.044024    -0.164982   \n",
       "WindDir9am_target       0.100451     0.142450     0.151843    -0.140598   \n",
       "WindDir3pm_target       0.070584     0.042336    -0.061132    -0.173611   \n",
       "Season_Spring           0.102481    -0.141318    -0.047557    -0.051679   \n",
       "Season_Summer           0.054149    -0.160730    -0.119827    -0.311606   \n",
       "Season_Winter          -0.070050     0.216895     0.161513     0.197611   \n",
       "RainTomorrow            0.106495     0.259682     0.428648    -0.237821   \n",
       "\n",
       "                    Pressure3pm  ...  HumidityDiff  RainyMonth  \\\n",
       "MinTemp               -0.424244  ...      0.288572   -0.412184   \n",
       "MaxTemp               -0.402469  ...     -0.052757   -0.447217   \n",
       "Rainfall              -0.096153  ...      0.060337    0.015275   \n",
       "WindGustSpeed         -0.414269  ...      0.223074   -0.078306   \n",
       "WindSpeed9am          -0.176959  ...      0.279836   -0.059515   \n",
       "WindSpeed3pm          -0.258099  ...      0.191975   -0.065792   \n",
       "Humidity9am            0.210138  ...     -0.325160    0.189712   \n",
       "Humidity3pm            0.084501  ...      0.468442    0.153676   \n",
       "Pressure9am            0.955809  ...     -0.197693    0.215458   \n",
       "Pressure3pm            1.000000  ...     -0.146745    0.213506   \n",
       "Temp9am               -0.441167  ...      0.272217   -0.450261   \n",
       "Temp3pm               -0.361389  ...     -0.126442   -0.426802   \n",
       "RainToday             -0.072361  ...      0.068162    0.072598   \n",
       "Year                   0.013649  ...     -0.023060   -0.034287   \n",
       "Month                 -0.026335  ...      0.098654    0.171760   \n",
       "Day                   -0.044719  ...      0.004543    0.000994   \n",
       "MinMaxDiff            -0.037900  ...     -0.430625   -0.118620   \n",
       "PressureDiff           0.106972  ...      0.181399   -0.015071   \n",
       "WindSpeedDiff          0.696062  ...     -0.272529    0.166007   \n",
       "HumidityDiff          -0.146745  ...      1.000000   -0.035005   \n",
       "RainyMonth             0.213506  ...     -0.035005    1.000000   \n",
       "Location_target        0.019557  ...      0.219328   -0.005685   \n",
       "WindGustDir_target    -0.141766  ...     -0.032222    0.107329   \n",
       "WindDir9am_target     -0.110369  ...      0.029961    0.139477   \n",
       "WindDir3pm_target     -0.189461  ...     -0.120317    0.103517   \n",
       "Season_Spring         -0.059095  ...      0.107727   -0.130259   \n",
       "Season_Summer         -0.299019  ...      0.043818   -0.459333   \n",
       "Season_Winter          0.196022  ...     -0.055639    0.676262   \n",
       "RainTomorrow          -0.211521  ...      0.245148    0.072994   \n",
       "\n",
       "                    Location_target  WindGustDir_target  WindDir9am_target  \\\n",
       "MinTemp                    0.036422           -0.203151          -0.165754   \n",
       "MaxTemp                   -0.256490           -0.200889          -0.226121   \n",
       "Rainfall                   0.087772            0.014152           0.018202   \n",
       "WindGustSpeed              0.047914            0.158510           0.136221   \n",
       "WindSpeed9am               0.028281            0.001041          -0.034458   \n",
       "WindSpeed3pm               0.084701            0.098413           0.100451   \n",
       "Humidity9am                0.335784            0.085124           0.142450   \n",
       "Humidity3pm                0.477781            0.044024           0.151843   \n",
       "Pressure9am               -0.049454           -0.164982          -0.140598   \n",
       "Pressure3pm                0.019557           -0.141766          -0.110369   \n",
       "Temp9am                   -0.075253           -0.216638          -0.193484   \n",
       "Temp3pm                   -0.266540           -0.201766          -0.235702   \n",
       "RainToday                  0.184015            0.085100           0.097278   \n",
       "Year                      -0.011687           -0.001217          -0.038458   \n",
       "Month                     -0.000678            0.070078           0.068653   \n",
       "Day                       -0.003927           -0.005279           0.003422   \n",
       "MinMaxDiff                -0.403106           -0.029190          -0.112169   \n",
       "PressureDiff               0.235676            0.081567           0.105987   \n",
       "WindSpeedDiff             -0.007980           -0.091761          -0.038383   \n",
       "HumidityDiff               0.219328           -0.032222           0.029961   \n",
       "RainyMonth                -0.005685            0.107329           0.139477   \n",
       "Location_target            1.000000            0.146676           0.138310   \n",
       "WindGustDir_target         0.146676            1.000000           0.444927   \n",
       "WindDir9am_target          0.138310            0.444927           1.000000   \n",
       "WindDir3pm_target          0.042904            0.610780           0.385919   \n",
       "Season_Spring             -0.000301            0.011249          -0.004125   \n",
       "Season_Summer              0.009049           -0.097642          -0.125864   \n",
       "Season_Winter             -0.003330            0.134336           0.167722   \n",
       "RainTomorrow               0.187635            0.122570           0.130237   \n",
       "\n",
       "                    WindDir3pm_target  Season_Spring  Season_Summer  \\\n",
       "MinTemp                     -0.207585      -0.028950       0.407126   \n",
       "MaxTemp                     -0.117963       0.003186       0.428503   \n",
       "Rainfall                     0.005075      -0.007865       0.017275   \n",
       "WindGustSpeed                0.164442       0.107634       0.090757   \n",
       "WindSpeed9am                 0.000424       0.100491       0.040793   \n",
       "WindSpeed3pm                 0.070584       0.102481       0.054149   \n",
       "Humidity9am                  0.042336      -0.141318      -0.160730   \n",
       "Humidity3pm                 -0.061132      -0.047557      -0.119827   \n",
       "Pressure9am                 -0.173611      -0.051679      -0.311606   \n",
       "Pressure3pm                 -0.189461      -0.059095      -0.299019   \n",
       "Temp9am                     -0.191782       0.039205       0.420507   \n",
       "Temp3pm                     -0.108935      -0.006206       0.400265   \n",
       "RainToday                    0.042404       0.009638      -0.051854   \n",
       "Year                         0.016437      -0.023972       0.078327   \n",
       "Month                        0.055814       0.573859      -0.155655   \n",
       "Day                         -0.006635      -0.002862      -0.005986   \n",
       "MinMaxDiff                   0.091523       0.041126       0.096256   \n",
       "PressureDiff                -0.049238      -0.022291       0.054145   \n",
       "WindSpeedDiff               -0.114305      -0.106274      -0.198795   \n",
       "HumidityDiff                -0.120317       0.107727       0.043818   \n",
       "RainyMonth                   0.103517      -0.130259      -0.459333   \n",
       "Location_target              0.042904      -0.000301       0.009049   \n",
       "WindGustDir_target           0.610780       0.011249      -0.097642   \n",
       "WindDir9am_target            0.385919      -0.004125      -0.125864   \n",
       "WindDir3pm_target            1.000000       0.003053      -0.087515   \n",
       "Season_Spring                0.003053       1.000000      -0.311355   \n",
       "Season_Summer               -0.087515      -0.311355       1.000000   \n",
       "Season_Winter                0.140913      -0.352309      -0.310629   \n",
       "RainTomorrow                 0.116005       0.000520      -0.041901   \n",
       "\n",
       "                    Season_Winter  RainTomorrow  \n",
       "MinTemp                 -0.436305      0.068477  \n",
       "MaxTemp                 -0.467797     -0.183691  \n",
       "Rainfall                 0.012171      0.226762  \n",
       "WindGustSpeed           -0.076847      0.249201  \n",
       "WindSpeed9am            -0.067264      0.110293  \n",
       "WindSpeed3pm            -0.070050      0.106495  \n",
       "Humidity9am              0.216895      0.259682  \n",
       "Humidity3pm              0.161513      0.428648  \n",
       "Pressure9am              0.197611     -0.237821  \n",
       "Pressure3pm              0.196022     -0.211521  \n",
       "Temp9am                 -0.485009     -0.052202  \n",
       "Temp3pm                 -0.443399     -0.214423  \n",
       "RainToday                0.072313      0.318296  \n",
       "Year                    -0.024787     -0.021488  \n",
       "Month                    0.052714      0.023359  \n",
       "Day                      0.004611      0.013755  \n",
       "MinMaxDiff              -0.117353     -0.343103  \n",
       "PressureDiff            -0.013498      0.098775  \n",
       "WindSpeedDiff            0.160359     -0.196741  \n",
       "HumidityDiff            -0.055639      0.245148  \n",
       "RainyMonth               0.676262      0.072994  \n",
       "Location_target         -0.003330      0.187635  \n",
       "WindGustDir_target       0.134336      0.122570  \n",
       "WindDir9am_target        0.167722      0.130237  \n",
       "WindDir3pm_target        0.140913      0.116005  \n",
       "Season_Spring           -0.352309      0.000520  \n",
       "Season_Summer           -0.310629     -0.041901  \n",
       "Season_Winter            1.000000      0.064867  \n",
       "RainTomorrow             0.064867      1.000000  \n",
       "\n",
       "[29 rows x 29 columns]"
      ]
     },
     "execution_count": 17,
     "metadata": {},
     "output_type": "execute_result"
    }
   ],
   "source": [
    "# Tamara\n",
    "# show correlation matrix\n",
    "train = X_train\n",
    "train[\"RainTomorrow\"] = y_train.values\n",
    "train.corr()"
   ]
  },
  {
   "cell_type": "code",
   "execution_count": null,
   "metadata": {},
   "outputs": [],
   "source": [
    "# Tamara\n",
    "# show correlation matrix as heatmap\n",
    "plt.imshow(train.corr(), cmap='hot', interpolation='nearest')\n",
    "plt.show()"
   ]
  },
  {
   "cell_type": "code",
   "execution_count": 16,
   "metadata": {
    "scrolled": true
   },
   "outputs": [
    {
     "data": {
      "text/html": [
       "<div>\n",
       "<style scoped>\n",
       "    .dataframe tbody tr th:only-of-type {\n",
       "        vertical-align: middle;\n",
       "    }\n",
       "\n",
       "    .dataframe tbody tr th {\n",
       "        vertical-align: top;\n",
       "    }\n",
       "\n",
       "    .dataframe thead th {\n",
       "        text-align: right;\n",
       "    }\n",
       "</style>\n",
       "<table border=\"1\" class=\"dataframe\">\n",
       "  <thead>\n",
       "    <tr style=\"text-align: right;\">\n",
       "      <th></th>\n",
       "      <th>WindGustSpeed</th>\n",
       "      <th>Humidity9am</th>\n",
       "      <th>Humidity3pm</th>\n",
       "      <th>RainToday</th>\n",
       "      <th>MinMaxDiff</th>\n",
       "    </tr>\n",
       "  </thead>\n",
       "  <tbody>\n",
       "    <tr>\n",
       "      <th>0</th>\n",
       "      <td>0.296</td>\n",
       "      <td>0.64</td>\n",
       "      <td>0.46</td>\n",
       "      <td>0.0</td>\n",
       "      <td>0.325733</td>\n",
       "    </tr>\n",
       "    <tr>\n",
       "      <th>1</th>\n",
       "      <td>0.384</td>\n",
       "      <td>0.55</td>\n",
       "      <td>0.27</td>\n",
       "      <td>1.0</td>\n",
       "      <td>0.472313</td>\n",
       "    </tr>\n",
       "    <tr>\n",
       "      <th>2</th>\n",
       "      <td>0.088</td>\n",
       "      <td>0.83</td>\n",
       "      <td>0.44</td>\n",
       "      <td>0.0</td>\n",
       "      <td>0.563518</td>\n",
       "    </tr>\n",
       "    <tr>\n",
       "      <th>3</th>\n",
       "      <td>0.232</td>\n",
       "      <td>0.47</td>\n",
       "      <td>0.22</td>\n",
       "      <td>0.0</td>\n",
       "      <td>0.530945</td>\n",
       "    </tr>\n",
       "    <tr>\n",
       "      <th>4</th>\n",
       "      <td>0.616</td>\n",
       "      <td>0.74</td>\n",
       "      <td>0.34</td>\n",
       "      <td>0.0</td>\n",
       "      <td>0.488599</td>\n",
       "    </tr>\n",
       "  </tbody>\n",
       "</table>\n",
       "</div>"
      ],
      "text/plain": [
       "   WindGustSpeed  Humidity9am  Humidity3pm  RainToday  MinMaxDiff\n",
       "0          0.296         0.64         0.46        0.0    0.325733\n",
       "1          0.384         0.55         0.27        1.0    0.472313\n",
       "2          0.088         0.83         0.44        0.0    0.563518\n",
       "3          0.232         0.47         0.22        0.0    0.530945\n",
       "4          0.616         0.74         0.34        0.0    0.488599"
      ]
     },
     "execution_count": 16,
     "metadata": {},
     "output_type": "execute_result"
    }
   ],
   "source": [
    "NUM_FEATURES_TO_SELECT = 5\n",
    "\n",
    "selector = SelectKBest(f_classif, k=NUM_FEATURES_TO_SELECT)\n",
    "\n",
    "X_new = selector.fit_transform(X_train, y_train)\n",
    "\n",
    "selected_features = pd.DataFrame(selector.inverse_transform(X_new), \n",
    "                                 index=X_train.index, \n",
    "                                 columns=X_train.columns)\n",
    "\n",
    "selected_columns = selected_features.columns[selected_features.var() != 0]\n",
    "\n",
    "X_train[selected_columns].head()"
   ]
  },
  {
   "cell_type": "markdown",
   "metadata": {},
   "source": [
    "## The multivariate way (Optional)"
   ]
  },
  {
   "cell_type": "code",
   "execution_count": null,
   "metadata": {
    "scrolled": true
   },
   "outputs": [],
   "source": [
    "# Regularisation strengh is set by regularization parameter C.\n",
    "# Note: the lower C, the higher the regularization\n",
    "logistic = LogisticRegression(C=0.01, penalty=\"l1\", solver='liblinear', max_iter=10000, random_state=7).fit(X_train, y_train)\n",
    "model = SelectFromModel(logistic, prefit=True)\n",
    "\n",
    "X_new = model.transform(X_train)\n",
    "\n",
    "selected_features = pd.DataFrame(model.inverse_transform(X_new), \n",
    "                                 index=X_train.index,\n",
    "                                 columns=X_train.columns)\n",
    "\n",
    "# Dropped columns have values of all 0s, keep other columns \n",
    "selected_columns = selected_features.columns[selected_features.var() != 0]\n",
    "selected_columns"
   ]
  },
  {
   "cell_type": "code",
   "execution_count": null,
   "metadata": {},
   "outputs": [],
   "source": [
    "# getting accuracy for a logistic regression model \n",
    "logistic = LogisticRegression().fit(X_train[selected_columns], y_train)\n",
    "\n",
    "test_predictions = logistic.predict(X_test[selected_columns]).round().astype(int)\n",
    "print(accuracy_score(y_test, test_predictions))\n",
    "mean_absolute_error(y_test, test_predictions)"
   ]
  },
  {
   "cell_type": "markdown",
   "metadata": {},
   "source": [
    "# Aufgabe 2 Entscheidungsbäume"
   ]
  },
  {
   "cell_type": "code",
   "execution_count": null,
   "metadata": {
    "scrolled": true
   },
   "outputs": [],
   "source": [
    "model = tree.DecisionTreeClassifier()\n",
    "model.fit(X_train, y_train)\n",
    "\n",
    "test_predictions = model.predict(X_test).round().astype(int)\n",
    "print(accuracy_score(y_test, test_predictions))\n",
    "mean_absolute_error(y_test, test_predictions)"
   ]
  },
  {
   "cell_type": "markdown",
   "metadata": {},
   "source": [
    "## Baseline\n",
    "\n",
    "this is what we got from the beginnnig:\n",
    "    \n",
    "0.8435955056179776\n",
    "\n",
    "0.15640449438202247"
   ]
  },
  {
   "cell_type": "markdown",
   "metadata": {},
   "source": [
    "# Visualization"
   ]
  },
  {
   "cell_type": "code",
   "execution_count": null,
   "metadata": {},
   "outputs": [],
   "source": [
    "fig, ax = plt.subplots(figsize = (20,10))\n",
    "tree.plot_tree(model, ax=ax,\n",
    "              feature_names=selected_columns,\n",
    "              filled = True,\n",
    "              rounded = True,\n",
    "              precision =2,\n",
    "              fontsize = 10,\n",
    "               class_names=[\"no Rain\", \"Rain\"]\n",
    "              );"
   ]
  },
  {
   "cell_type": "code",
   "execution_count": null,
   "metadata": {},
   "outputs": [],
   "source": [
    "tree_graph = tree.export_graphviz(model, out_file=None, feature_names=selected_columns, class_names=[\"no Rain\", \"Rain\"])\n",
    "graphviz.Source(tree_graph)"
   ]
  },
  {
   "cell_type": "code",
   "execution_count": null,
   "metadata": {},
   "outputs": [],
   "source": [
    "# Tamara\n",
    "# change max_depth\n",
    "model1 = tree.DecisionTreeClassifier(max_depth=5)\n",
    "\n",
    "model1.fit(X_train[selected_columns], y_train)"
   ]
  },
  {
   "cell_type": "code",
   "execution_count": null,
   "metadata": {},
   "outputs": [],
   "source": [
    "# Tamara\n",
    "test_predictions1 = model1.predict(X_test[selected_columns]).round().astype(int)\n",
    "print(accuracy_score(y_test, test_predictions1))\n",
    "mean_absolute_error(y_test, test_predictions1)"
   ]
  },
  {
   "cell_type": "code",
   "execution_count": null,
   "metadata": {},
   "outputs": [],
   "source": [
    "# Tamara\n",
    "fig, ax = plt.subplots(figsize = (20,10))\n",
    "tree.plot_tree(model1, ax=ax,\n",
    "               feature_names=selected_columns,\n",
    "               class_names= [\"Rain\", \"no Rain\"],\n",
    "               filled = True,\n",
    "               rounded = True,\n",
    "               precision = 2,\n",
    "               fontsize = 10);"
   ]
  },
  {
   "cell_type": "code",
   "execution_count": null,
   "metadata": {},
   "outputs": [],
   "source": [
    "# Tamara\n",
    "# change min_impurity_increase\n",
    "model2 = tree.DecisionTreeClassifier(min_impurity_decrease=0.003)\n",
    "\n",
    "model2.fit(X_train[selected_columns], y_train)\n",
    "\n",
    "# Tamara\n",
    "test_predictions2 = model2.predict(X_test[selected_columns]).round().astype(int)\n",
    "print(accuracy_score(y_test, test_predictions2))\n",
    "mean_absolute_error(y_test, test_predictions2)"
   ]
  },
  {
   "cell_type": "code",
   "execution_count": null,
   "metadata": {},
   "outputs": [],
   "source": [
    "# Tamara\n",
    "fig, ax = plt.subplots(figsize = (20,10))\n",
    "tree.plot_tree(model2, ax=ax,\n",
    "               feature_names=selected_columns,\n",
    "               class_names= [\"Rain\", \"no Rain\"],\n",
    "               filled = True,\n",
    "               rounded = True,\n",
    "               precision = 2,\n",
    "               fontsize = 10);"
   ]
  },
  {
   "cell_type": "code",
   "execution_count": null,
   "metadata": {},
   "outputs": [],
   "source": [
    "# Tamara\n",
    "# change max_leaf_nodes\n",
    "model3 = tree.DecisionTreeClassifier(criterion=\"entropy\", max_depth=5)\n",
    "\n",
    "model3.fit(X_train[selected_columns], y_train)\n",
    "\n",
    "# Tamara\n",
    "test_predictions3 = model3.predict(X_test[selected_columns]).round().astype(int)\n",
    "print(accuracy_score(y_test, test_predictions3))\n",
    "mean_absolute_error(y_test, test_predictions3)"
   ]
  },
  {
   "cell_type": "code",
   "execution_count": null,
   "metadata": {},
   "outputs": [],
   "source": [
    "# Tamara\n",
    "fig, ax = plt.subplots(figsize = (20,10))\n",
    "tree.plot_tree(model3, ax=ax,\n",
    "               feature_names=selected_columns,\n",
    "               class_names= [\"Rain\", \"no Rain\"],\n",
    "               filled = True,\n",
    "               rounded = True,\n",
    "               precision = 2,\n",
    "               fontsize = 10);"
   ]
  },
  {
   "cell_type": "markdown",
   "metadata": {},
   "source": [
    "## Null accuracy \n",
    "Whats the accuracy of a model, which just predicts the most common class."
   ]
  },
  {
   "cell_type": "code",
   "execution_count": null,
   "metadata": {
    "scrolled": true
   },
   "outputs": [],
   "source": [
    "y_test.value_counts()"
   ]
  },
  {
   "cell_type": "code",
   "execution_count": null,
   "metadata": {
    "scrolled": true
   },
   "outputs": [],
   "source": [
    "print(5272/(5272+1403))"
   ]
  },
  {
   "cell_type": "markdown",
   "metadata": {},
   "source": [
    "## Analysis"
   ]
  },
  {
   "cell_type": "code",
   "execution_count": null,
   "metadata": {
    "scrolled": true
   },
   "outputs": [],
   "source": [
    "perm = PermutationImportance(model, random_state=1).fit(X_test, y_test)\n",
    "eli5.show_weights(perm, feature_names = X_test.columns.tolist())"
   ]
  },
  {
   "cell_type": "markdown",
   "metadata": {},
   "source": [
    "## cost complexity pruning\n",
    "Führe mit mind 3 Bäumen unterschiedlicher Tiefe aus Aufgabenteil c) ein Minimal Cost Complexity Pruning durch. Wie verändern dich die Bäume bei Variation des Prunings? Welche Auswirkung auf die Modellgüte hat das?"
   ]
  },
  {
   "cell_type": "code",
   "execution_count": null,
   "metadata": {},
   "outputs": [],
   "source": [
    "# Tamara\n",
    "model = tree.DecisionTreeClassifier()\n",
    "path = model.cost_complexity_pruning_path(X_train, y_train)\n",
    "ccp_alphas, impurities = path.ccp_alphas, path.impurities\n",
    "ccp_alphas.size"
   ]
  },
  {
   "cell_type": "code",
   "execution_count": null,
   "metadata": {},
   "outputs": [],
   "source": [
    "# Tamara\n",
    "# take only subset of alphas to speed up further calculations\n",
    "ccp_alphas_part = ccp_alphas[[0, 68, 136, 204, 272, 340, 408, 476, 544, 612, 680, 748, 816, 884, 952, 1020, 1088, 1156, 1224, 1292, (ccp_alphas.size-20)]]"
   ]
  },
  {
   "cell_type": "code",
   "execution_count": null,
   "metadata": {},
   "outputs": [],
   "source": [
    "#Tamara\n",
    "fig, ax = plt.subplots()\n",
    "ax.plot(ccp_alphas[:-1], impurities[:-1], marker='o', drawstyle=\"steps-post\")\n",
    "ax.set_xlabel(\"effective alpha\")\n",
    "ax.set_ylabel(\"total impurity of leaves\")\n",
    "ax.set_title(\"Total Impurity vs effective alpha for training set\")"
   ]
  },
  {
   "cell_type": "code",
   "execution_count": null,
   "metadata": {},
   "outputs": [],
   "source": [
    "#Tamara\n",
    "model = tree.DecisionTreeClassifier(ccp_alpha=0.002)\n",
    "model.fit(X_train[selected_columns], y_train)\n",
    "\n",
    "test_predictions = model.predict(X_test[selected_columns]).round().astype(int)\n",
    "print(accuracy_score(y_test, test_predictions))\n",
    "mean_absolute_error(y_test, test_predictions)"
   ]
  },
  {
   "cell_type": "code",
   "execution_count": null,
   "metadata": {},
   "outputs": [],
   "source": [
    "# Tamara\n",
    "fig, ax = plt.subplots(figsize = (20,10))\n",
    "tree.plot_tree(model, ax=ax,\n",
    "               feature_names=selected_columns,\n",
    "               class_names= [\"Rain\", \"no Rain\"],\n",
    "               filled = True,\n",
    "               rounded = True,\n",
    "               precision = 2,\n",
    "               fontsize = 10);"
   ]
  },
  {
   "cell_type": "code",
   "execution_count": null,
   "metadata": {},
   "outputs": [],
   "source": [
    "# Tamara\n",
    "clfs = []\n",
    "for ccp_alpha in ccp_alphas_part:\n",
    "    clf = tree.DecisionTreeClassifier(ccp_alpha=ccp_alpha)\n",
    "    clf.fit(X_train, y_train)\n",
    "    clfs.append(clf)\n",
    "print(\"Number of nodes in the last tree is: {} with ccp_alpha: {}\".format(\n",
    "      clfs[-1].tree_.node_count, ccp_alphas[-1]))"
   ]
  },
  {
   "cell_type": "code",
   "execution_count": null,
   "metadata": {},
   "outputs": [],
   "source": [
    "# Tamara\n",
    "train_scores = [clf.score(X_train, y_train) for clf in clfs]\n",
    "test_scores = [clf.score(X_test, y_test) for clf in clfs]\n",
    "\n",
    "fig, ax = plt.subplots()\n",
    "ax.set_xlabel(\"alpha\")\n",
    "ax.set_ylabel(\"accuracy\")\n",
    "ax.set_title(\"Accuracy vs alpha for training and testing sets\")\n",
    "ax.plot(ccp_alphas_part, train_scores, marker='o', label=\"train\",\n",
    "        drawstyle=\"steps-post\")\n",
    "ax.plot(ccp_alphas_part, test_scores, marker='o', label=\"test\",\n",
    "        drawstyle=\"steps-post\")\n",
    "ax.legend()\n",
    "plt.setp(ax.xaxis.get_majorticklabels(), rotation=45)\n",
    "\n",
    "plt.show()"
   ]
  },
  {
   "cell_type": "markdown",
   "metadata": {},
   "source": [
    "# Booklet 2 Neuronale Netze Aufgabe 2"
   ]
  },
  {
   "cell_type": "markdown",
   "metadata": {},
   "source": [
    "### Using RandomSearch to find the perfect Hyperparameter combination"
   ]
  },
  {
   "cell_type": "code",
   "execution_count": null,
   "metadata": {
    "scrolled": true
   },
   "outputs": [],
   "source": [
    "#wrap function around model creation so it can be used for grid search\n",
    "def build_model(n_hidden = 1, n_neurons=30, learning_rate=0.1, activation_function='relu', dropout_prop=0.25):\n",
    "    model = keras.models.Sequential()\n",
    "    model.add(keras.layers.Dense(2, activation='relu'))\n",
    "    for layer in range(n_hidden):\n",
    "        model.add(keras.layers.Dense(n_neurons, activation=activation_function))\n",
    "    model.add(keras.layers.Dense(1))\n",
    "    model.compile(optimizer=tf.keras.optimizers.SGD(learning_rate=learning_rate),\n",
    "                  loss=tf.keras.losses.BinaryCrossentropy(from_logits=True),\n",
    "                  metrics=['accuracy'])\n",
    "    model.add(keras.layers.Dropout(dropout_prop))\n",
    "    return model\n",
    "\n",
    "nn = keras.wrappers.scikit_learn.KerasClassifier(build_model)"
   ]
  },
  {
   "cell_type": "code",
   "execution_count": null,
   "metadata": {},
   "outputs": [],
   "source": [
    "params = {\n",
    "    'n_hidden': [0,1,2,3,4],\n",
    "    'n_neurons': [1,3,5,10,20,50,100],\n",
    "    'learning_rate': [0.1, 0.05, 0.01],\n",
    "    'activation_function': ['relu', 'sigmoid', 'elu'],\n",
    "    'dropout_prop': [0, 0.25, 0.5] \n",
    "}"
   ]
  },
  {
   "cell_type": "code",
   "execution_count": null,
   "metadata": {},
   "outputs": [],
   "source": [
    "random_search = RandomizedSearchCV(nn, params, n_iter=20)\n",
    "random_search.fit(X_train.values, \n",
    "                  y_train.values,\n",
    "                  validation_data=(X_test.values, y_test.values),\n",
    "                  callbacks=[keras.callbacks.EarlyStopping(patience=6)],\n",
    "                  batch_size=32,\n",
    "                  epochs=100\n",
    "                 )"
   ]
  },
  {
   "cell_type": "code",
   "execution_count": null,
   "metadata": {},
   "outputs": [],
   "source": [
    "random_search.best_params_"
   ]
  },
  {
   "cell_type": "markdown",
   "metadata": {},
   "source": [
    "## Building the winner Model"
   ]
  },
  {
   "cell_type": "code",
   "execution_count": null,
   "metadata": {
    "scrolled": true
   },
   "outputs": [],
   "source": [
    "#dont need this anymore...\n",
    "train_dataset = tf.data.Dataset.from_tensor_slices((X_train.values, y_train.values))\n",
    "train_dataset = train_dataset.shuffle(len(X_train)).batch(32)\n",
    "\n",
    "test_dataset = tf.data.Dataset.from_tensor_slices((X_test.values, y_test.values))\n",
    "test_dataset = test_dataset.shuffle(len(X_test)).batch(len(X_test))"
   ]
  },
  {
   "cell_type": "code",
   "execution_count": null,
   "metadata": {},
   "outputs": [],
   "source": [
    "nn = keras.models.Sequential()\n",
    "nn.add(keras.layers.Dense(2, activation='elu'))\n",
    "for layer in range(4):\n",
    "        nn.add(keras.layers.Dense(3, activation='elu'))\n",
    "nn.add(keras.layers.Dense(1))\n",
    "    \n",
    "nn.compile(optimizer=tf.keras.optimizers.SGD(learning_rate=0.1),\n",
    "           loss=tf.keras.losses.BinaryCrossentropy(from_logits=True),\n",
    "           metrics=['accuracy'])"
   ]
  },
  {
   "cell_type": "code",
   "execution_count": null,
   "metadata": {
    "scrolled": true
   },
   "outputs": [],
   "source": [
    "nn.fit(train_dataset,\n",
    "       validation_steps=1,\n",
    "       validation_data=test_dataset,\n",
    "       batch_size=32,\n",
    "       callbacks=[keras.callbacks.EarlyStopping(patience=6)],\n",
    "       epochs=50)"
   ]
  },
  {
   "cell_type": "markdown",
   "metadata": {},
   "source": [
    "# Booklet 3 Ensemblemethoden"
   ]
  },
  {
   "cell_type": "code",
   "execution_count": null,
   "metadata": {},
   "outputs": [],
   "source": [
    "from sklearn.ensemble import BaggingClassifier, RandomForestClassifier, AdaBoostClassifier\n",
    "from sklearn.tree import DecisionTreeClassifier\n",
    "from sklearn import metrics\n",
    "from sklearn.model_selection import GridSearchCV"
   ]
  },
  {
   "cell_type": "markdown",
   "metadata": {},
   "source": [
    "## Grid Search"
   ]
  },
  {
   "cell_type": "code",
   "execution_count": null,
   "metadata": {},
   "outputs": [],
   "source": [
    "params_bagging = [#{'n_estimators': [10, 50, 100]},\n",
    "                   {\"base_estimator__criterion\": [\"gini\", \"entropy\"]},\n",
    "                   {\"base_estimator__max_depth\": [None, 3,5,10, 15, 20, 25, 50]},\n",
    "                   {\"base_estimator__min_samples_split\": [2,5,10,20,30,40]},#The minimum number of samples required to split an internal node:\n",
    "                   {\"base_estimator__min_samples_leaf\": [1,2,5,10,20,40]},#The minimum number of samples required to be at a leaf node\n",
    "                   {\"base_estimator__min_weight_fraction_leaf\": [0, 0.2, 0.4, 0.5]},#The minimum weighted fraction of the sum total of weights (of all the input samples) required to be at a leaf node. \n",
    "                   {\"base_estimator__max_features\": [5,10,15,20, 25, None]},\n",
    "                   {\"base_estimator__max_leaf_nodes\": [None, 2 ,10,100,150,200,300,500]},\n",
    "                   {\"base_estimator__min_impurity_decrease\": [0.0, 0.1, 0.2, 0.5, 0.8, 1, 2, 3]},\n",
    "                   {\"base_estimator__min_impurity_split\": [0.0, 0.1, 0.2, 0.5, 0.8, 1, 2, 3]} #dericated option\n",
    "                  ]\n",
    "\n",
    "params_adaboost = [{'n_estimators': [10, 50, 100]},\n",
    "                   {'learning_rate': [0.1, 0.5, 1]},\n",
    "                   {\"base_estimator__criterion\": [\"gini\", \"entropy\"]},\n",
    "                   #{\"base_estimator__max_depth\": [None, 3,5,10, 15, 20, 25, 50]},\n",
    "                   {\"base_estimator__min_samples_split\": [2,5,10,20,30,40]},#The minimum number of samples required to split an internal node:\n",
    "                   {\"base_estimator__min_samples_leaf\": [1,2,5,10,20,40]},#The minimum number of samples required to be at a leaf node\n",
    "                   {\"base_estimator__min_weight_fraction_leaf\": [0, 0.2, 0.4, 0.5]},#The minimum weighted fraction of the sum total of weights (of all the input samples) required to be at a leaf node. \n",
    "                   {\"base_estimator__max_features\": [1,2,10,15,20, None]},\n",
    "                   {\"base_estimator__max_leaf_nodes\": [None,2,5,10,100,150,200]},\n",
    "                   {\"base_estimator__min_impurity_decrease\": [0.0, 0.1, 0.2, 0.5, 0.8, 1, 2, 3]},\n",
    "                   {\"base_estimator__min_impurity_split\": [0.0, 0.1, 0.2, 0.5, 0.8, 1, 2, 3]} #dericated option\n",
    "                  ]\n",
    "\n",
    "params_random_forest = [{'n_estimators': [10, 50, 100, 200, 500]},\n",
    "                   {\"criterion\": [\"gini\", \"entropy\"]},\n",
    "                   {\"max_depth\": [None, 3,5,10, 15, 20, 25, 50]},\n",
    "                   #{\"min_samples_split\": [2,5,10,20,30,40]},#The minimum number of samples required to split an internal node:\n",
    "                   {\"min_samples_leaf\": [1,2,5,10,20,40]},#The minimum number of samples required to be at a leaf node\n",
    "                   {\"min_weight_fraction_leaf\": [0, 0.2, 0.4, 0.5]},#The minimum weighted fraction of the sum total of weights (of all the input samples) required to be at a leaf node. \n",
    "                   {\"max_features\": [5,10,15,20, 25, None]},\n",
    "                   {\"max_leaf_nodes\": [None, 2 ,10,100,150,200,300,500]},\n",
    "                   {\"min_impurity_decrease\": [0.0, 0.1, 0.2, 0.5, 0.8, 1, 2, 3]},\n",
    "                   {\"min_impurity_split\": [0.0, 0.1, 0.2, 0.5, 0.8, 1, 2, 3]} #dericated option\n",
    "                  ]\n",
    "\n",
    "params_tree = [{\"criterion\": [\"gini\", \"entropy\"]},\n",
    "                   #{\"max_depth\": [None, 3,5,10, 15, 20, 25, 50]},\n",
    "                   {\"min_samples_split\": [2,5,10,20,30,40]},#The minimum number of samples required to split an internal node:\n",
    "                   {\"min_samples_leaf\": [1,2,5,10,20,40]},#The minimum number of samples required to be at a leaf node\n",
    "                   {\"min_weight_fraction_leaf\": [0, 0.2, 0.4, 0.5]},#The minimum weighted fraction of the sum total of weights (of all the input samples) required to be at a leaf node. \n",
    "                   {\"max_features\": [5,10,15,20, 25, None]},\n",
    "                   {\"max_leaf_nodes\": [None, 2 ,10,100,150,200,300,500]},\n",
    "                   {\"min_impurity_decrease\": [0.0, 0.1, 0.2, 0.5, 0.8, 1, 2, 3]},\n",
    "                   {\"min_impurity_split\": [0.0, 0.1, 0.2, 0.5, 0.8, 1, 2, 3]} #dericated option\n",
    "                  ]"
   ]
  },
  {
   "cell_type": "markdown",
   "metadata": {},
   "source": [
    "Grid Search ToDos:\n",
    "    - 2. Run für AdaBoost.\n",
    "    - "
   ]
  },
  {
   "cell_type": "code",
   "execution_count": null,
   "metadata": {},
   "outputs": [],
   "source": [
    "#looping through grid ourselfes for better interpretation of outputs.\n",
    "for param in params_bagging:\n",
    "    \n",
    "    bagging_classifier = BaggingClassifier( \n",
    "        base_estimator=DecisionTreeClassifier(),\n",
    "        bootstrap=True, #replace training samples\n",
    "        n_jobs=-1, #use all available cores\n",
    "        random_state=42,\n",
    "        n_estimators=100\n",
    "    )\n",
    "    \n",
    "    bagging_gs = GridSearchCV(bagging_classifier, param, cv=10)\n",
    "    bagging_gs.fit(X_train, y_train)\n",
    "    print(param)\n",
    "    print(bagging_gs.best_params_)\n",
    "    print(bagging_gs.best_score_)\n",
    "    print(bagging_gs.cv_results_['mean_test_score'])\n",
    "    print(\" \")"
   ]
  },
  {
   "cell_type": "code",
   "execution_count": null,
   "metadata": {},
   "outputs": [],
   "source": [
    "start_time = time.time()\n",
    "\n",
    "for param in params_adaboost:\n",
    "    \n",
    "    adaboost_classifier = AdaBoostClassifier(\n",
    "        base_estimator=DecisionTreeClassifier(max_depth=20),\n",
    "        random_state=42\n",
    "    )\n",
    "    \n",
    "    adaboost_gs = GridSearchCV(adaboost_classifier, param, cv=10)\n",
    "    adaboost_gs.fit(X_train, y_train)\n",
    "    print(param)\n",
    "    print(adaboost_gs.best_params_)\n",
    "    print(adaboost_gs.best_score_)\n",
    "    print(adaboost_gs.cv_results_['mean_test_score'])\n",
    "    print(\" \")\n",
    "    \n",
    "elapsed_time = time.time() - start_time\n",
    "print(elapsed_time)"
   ]
  },
  {
   "cell_type": "code",
   "execution_count": null,
   "metadata": {},
   "outputs": [],
   "source": [
    "start_time = time.time()\n",
    "\n",
    "for param in params_tree:\n",
    "    \n",
    "    tree_classifier = DecisionTreeClassifier( \n",
    "        random_state=42,\n",
    "        max_depth=5\n",
    "    )\n",
    "\n",
    "    \n",
    "    tree_gs = GridSearchCV(tree_classifier, param, cv=10)\n",
    "    tree_gs.fit(X_train, y_train)\n",
    "    print(param)\n",
    "    print(tree_gs.best_params_)\n",
    "    print(tree_gs.best_score_)\n",
    "    print(tree_gs.cv_results_['mean_test_score'])\n",
    "    print(\" \")\n",
    "    \n",
    "elapsed_time = time.time() - start_time\n",
    "print(elapsed_time)"
   ]
  },
  {
   "cell_type": "code",
   "execution_count": null,
   "metadata": {},
   "outputs": [],
   "source": [
    "start_time = time.time()\n",
    "\n",
    "for param in params_random_forest:\n",
    "    \n",
    "    random_forest_classifier = RandomForestClassifier(  \n",
    "        bootstrap=True, #replace training samples\n",
    "        random_state=42,\n",
    "        n_jobs=-1, #use all available cores,\n",
    "        min_samples_split=5\n",
    "    )\n",
    "\n",
    "    \n",
    "    random_forest_gs = GridSearchCV(random_forest_classifier, param, cv=10)\n",
    "    random_forest_gs.fit(X_train, y_train)\n",
    "    print(param)\n",
    "    print(random_forest_gs.best_params_)\n",
    "    print(random_forest_gs.best_score_)\n",
    "    print(random_forest_gs.cv_results_['mean_test_score'])\n",
    "    print(\" \")\n",
    "    \n",
    "elapsed_time = time.time() - start_time\n",
    "print(elapsed_time)"
   ]
  },
  {
   "cell_type": "markdown",
   "metadata": {},
   "source": [
    "### Optimized Bagging Classifier"
   ]
  },
  {
   "cell_type": "code",
   "execution_count": null,
   "metadata": {},
   "outputs": [],
   "source": [
    "# Ist das hier nicht im Prinzip das Gleiche wie ein Random Forest mit splitter=\"random\"?\n",
    "start_time = time.time()\n",
    "\n",
    "bagging_classifier = BaggingClassifier( \n",
    "    base_estimator=DecisionTreeClassifier(\n",
    "       # max_depth=10, \n",
    "      #  min_samples_split=20, \n",
    "     #   min_samples_leaf=10, \n",
    "    #    max_features=20, \n",
    "   #     min_impurity_split=0.1\n",
    "    ),\n",
    "    bootstrap=True, #replace training samples\n",
    "    n_jobs=-1, #use all available cores\n",
    "    random_state=42,\n",
    "    #n_estimators=100\n",
    ")\n",
    "bagging_classifier.fit(X_train, y_train)\n",
    "\n",
    "test_predictions = bagging_classifier.predict(X_test).round().astype(int)\n",
    "print(accuracy_score(y_test, test_predictions))\n",
    "mean_absolute_error(y_test, test_predictions)\n",
    "\n",
    "elapsed_time = time.time() - start_time\n",
    "print(elapsed_time)"
   ]
  },
  {
   "cell_type": "markdown",
   "metadata": {},
   "source": [
    "### Optimized AdaBoost Classifier"
   ]
  },
  {
   "cell_type": "code",
   "execution_count": null,
   "metadata": {},
   "outputs": [],
   "source": [
    "start_time = time.time()\n",
    "adaboost_classifier = AdaBoostClassifier(\n",
    "    base_estimator=DecisionTreeClassifier(max_depth=25),\n",
    "    n_estimators=100,\n",
    "    random_state=42\n",
    ")\n",
    "\n",
    "adaboost_classifier.fit(X_train, y_train)\n",
    "\n",
    "test_predictions = adaboost_classifier.predict(X_test).round().astype(int)\n",
    "print(accuracy_score(y_test, test_predictions))\n",
    "mean_absolute_error(y_test, test_predictions)\n",
    "\n",
    "elapsed_time = time.time() - start_time\n",
    "print(elapsed_time)"
   ]
  },
  {
   "cell_type": "markdown",
   "metadata": {},
   "source": [
    "### Optimized Random Forest"
   ]
  },
  {
   "cell_type": "code",
   "execution_count": null,
   "metadata": {},
   "outputs": [],
   "source": [
    "random_forest_classifier = RandomForestClassifier(  \n",
    "    bootstrap=True, #replace training samples\n",
    "    random_state=42,\n",
    "    n_jobs=-1, #use all available cores,\n",
    "    #criterion='gini',\n",
    "    #min_samples_split=5,\n",
    "    #max_features=5,\n",
    ")\n",
    "\n",
    "random_forest_classifier.fit(X_train, y_train)\n",
    "\n",
    "test_predictions = random_forest_classifier.predict(X_test).round().astype(int)\n",
    "print(accuracy_score(y_test, test_predictions))\n",
    "mean_absolute_error(y_test, test_predictions)\n",
    "\n",
    "# Feature importances with random forest\n",
    "for name, score in zip(X_train.columns, random_forest_classifier.feature_importances_):\n",
    "    print(name, score)"
   ]
  },
  {
   "cell_type": "markdown",
   "metadata": {},
   "source": [
    "### Optimized Tree"
   ]
  },
  {
   "cell_type": "code",
   "execution_count": null,
   "metadata": {},
   "outputs": [],
   "source": [
    "tree_classifier = DecisionTreeClassifier( \n",
    "        random_state=42,\n",
    "        criterion='gini',\n",
    "    max_depth=5,\n",
    "    min_samples_split=40,\n",
    "    min_samples_leaf=40,\n",
    "    max_features=25,\n",
    "    min_impurity_split=0.1\n",
    "    )\n",
    "\n",
    "tree_classifier.fit(X_train, y_train)\n",
    "\n",
    "test_predictions = tree_classifier.predict(X_test).round().astype(int)\n",
    "print(accuracy_score(y_test, test_predictions))\n",
    "mean_absolute_error(y_test, test_predictions)"
   ]
  },
  {
   "cell_type": "markdown",
   "metadata": {},
   "source": [
    "### Old to be deleted soon"
   ]
  },
  {
   "cell_type": "code",
   "execution_count": null,
   "metadata": {},
   "outputs": [],
   "source": [
    "bagging_gs = GridSearchCV(bagging_classifier, params_bagging_adaboost, cv=10)\n",
    "random_forest_gs =  GridSearchCV(random_forest_classifier, params_random_forest, cv=10)\n",
    "adaboost_gs =  GridSearchCV(adaboost_classifier, params_bagging_adaboost, cv=10)\n",
    "tree_gs = GridSearchCV(tree.DecisionTreeClassifier(), params_tree, cv=10)\n",
    "\n",
    "tree_gs.fit(X_train, y_train)\n",
    "tree_gs.best_params_"
   ]
  },
  {
   "cell_type": "code",
   "execution_count": null,
   "metadata": {},
   "outputs": [],
   "source": [
    "random_forest_gs.fit(X_train, y_train)\n",
    "random_forest_gs.best_params_"
   ]
  },
  {
   "cell_type": "code",
   "execution_count": null,
   "metadata": {},
   "outputs": [],
   "source": [
    "bagging_gs.fit(X_train, y_train)\n",
    "bagging_gs.best_score_"
   ]
  },
  {
   "cell_type": "markdown",
   "metadata": {},
   "source": [
    "### Visualisation of GridSearch results"
   ]
  },
  {
   "cell_type": "code",
   "execution_count": null,
   "metadata": {},
   "outputs": [],
   "source": [
    "results = bagging_gs.cv_results_\n",
    "results"
   ]
  },
  {
   "cell_type": "code",
   "execution_count": null,
   "metadata": {},
   "outputs": [],
   "source": [
    "# plot wie hier:\n",
    "# TODO:\n",
    "# https://scikit-learn.org/stable/auto_examples/model_selection/plot_multi_metric_evaluation.html#sphx-glr-auto-examples-model-selection-plot-multi-metric-evaluation-py"
   ]
  },
  {
   "cell_type": "markdown",
   "metadata": {},
   "source": [
    "# SVM Booklet Teil 4\n",
    "**Note**: Hab keine Ahnung was hier genau passiert. Aber es funktioniert vom Code her.\n",
    "### Parameters of SVM\n",
    "- C: Sets the margin. Kleines C führt zu einer große margin (inversely proportional). Große Margin regularisiert mehr, also tritt eher underfitting auf. Großes C overfittetet eher.\n",
    "- C kontrolliert den Bias-Varianze Tradeoff, indem es die tolerierte Missklassifikation und damit die Komplexität der Trennung bestimmt. "
   ]
  },
  {
   "cell_type": "code",
   "execution_count": 17,
   "metadata": {},
   "outputs": [],
   "source": [
    "from sklearn.svm import SVC"
   ]
  },
  {
   "cell_type": "markdown",
   "metadata": {},
   "source": [
    "### linear Kernel\n",
    "$\\langle x,x^{'}\\rangle$"
   ]
  },
  {
   "cell_type": "code",
   "execution_count": 18,
   "metadata": {},
   "outputs": [
    {
     "name": "stdout",
     "output_type": "stream",
     "text": [
      "0.8509745127436282\n"
     ]
    },
    {
     "data": {
      "text/plain": [
       "0.14902548725637182"
      ]
     },
     "execution_count": 18,
     "metadata": {},
     "output_type": "execute_result"
    }
   ],
   "source": [
    "svm_linear = SVC(kernel=\"linear\", C=1)\n",
    "svm_linear.fit(X_train, y_train)\n",
    "\n",
    "test_predictions = svm_linear.predict(X_test).round().astype(int)\n",
    "print(accuracy_score(y_test, test_predictions))\n",
    "mean_absolute_error(y_test, test_predictions)"
   ]
  },
  {
   "cell_type": "markdown",
   "metadata": {},
   "source": [
    "### Polynominal Kernel\n",
    "$(\\gamma\\langle x,x^{'}\\rangle + r)^{d}$\n",
    "\n",
    "$d$ : degree\n",
    "\n",
    "$r$: coef0"
   ]
  },
  {
   "cell_type": "code",
   "execution_count": 19,
   "metadata": {},
   "outputs": [
    {
     "name": "stdout",
     "output_type": "stream",
     "text": [
      "0.8599700149925037\n"
     ]
    },
    {
     "data": {
      "text/plain": [
       "0.14002998500749625"
      ]
     },
     "execution_count": 19,
     "metadata": {},
     "output_type": "execute_result"
    }
   ],
   "source": [
    "svm_poly = SVC(kernel=\"poly\", degree=5,C=1)\n",
    "svm_poly.fit(X_train, y_train)\n",
    "\n",
    "test_predictions = svm_poly.predict(X_test).round().astype(int)\n",
    "print(accuracy_score(y_test, test_predictions))\n",
    "mean_absolute_error(y_test, test_predictions)"
   ]
  },
  {
   "cell_type": "markdown",
   "metadata": {},
   "source": [
    "### Gaussian RBF Kernel\n",
    "$exp(-\\gamma ||x-x^{'}||^{2})$\n",
    "\n",
    "$\\gamma$: gamma (>0)\n",
    "\n",
    "$\\gamma$ definiert den Einfluss der einzelenen Trainingsdaten\n",
    "Je größer $\\gamma$ ist, desto näher müssen andere Trainingsdatenpunkte sein, um einen Effekt zu haben\n",
    "$\\rightarrow \\gamma$ gibt invertiert den Einfluss-Radius der Datenpunkte an, die als Support Vectors bestimmt wurden (vom Modell). "
   ]
  },
  {
   "cell_type": "code",
   "execution_count": 20,
   "metadata": {},
   "outputs": [
    {
     "name": "stdout",
     "output_type": "stream",
     "text": [
      "0.7973013493253374\n"
     ]
    },
    {
     "data": {
      "text/plain": [
       "0.20269865067466267"
      ]
     },
     "execution_count": 20,
     "metadata": {},
     "output_type": "execute_result"
    }
   ],
   "source": [
    "svm_rbf = SVC(kernel=\"rbf\", gamma=5, C=0.01)\n",
    "svm_rbf.fit(X_train, y_train)\n",
    "\n",
    "test_predictions = svm_rbf.predict(X_test).round().astype(int)\n",
    "print(accuracy_score(y_test, test_predictions))\n",
    "mean_absolute_error(y_test, test_predictions)"
   ]
  },
  {
   "cell_type": "markdown",
   "metadata": {},
   "source": [
    "### Sigmoid Kernel\n",
    "$tanh(\\gamma \\langle x,x^{'}\\rangle) + r)$\n",
    "\n",
    "$r$: coef0"
   ]
  },
  {
   "cell_type": "code",
   "execution_count": 21,
   "metadata": {},
   "outputs": [
    {
     "name": "stdout",
     "output_type": "stream",
     "text": [
      "0.7973013493253374\n"
     ]
    },
    {
     "data": {
      "text/plain": [
       "0.20269865067466267"
      ]
     },
     "execution_count": 21,
     "metadata": {},
     "output_type": "execute_result"
    }
   ],
   "source": [
    "svm_sigmoid = SVC(kernel=\"sigmoid\", C=0.01)\n",
    "svm_sigmoid.fit(X_train, y_train)\n",
    "\n",
    "test_predictions = svm_sigmoid.predict(X_test).round().astype(int)\n",
    "print(accuracy_score(y_test, test_predictions))\n",
    "mean_absolute_error(y_test, test_predictions)"
   ]
  },
  {
   "cell_type": "markdown",
   "metadata": {},
   "source": [
    "### precomputed Kernel"
   ]
  },
  {
   "cell_type": "code",
   "execution_count": 22,
   "metadata": {},
   "outputs": [
    {
     "ename": "ValueError",
     "evalue": "array is too big; `arr.size * arr.dtype.itemsize` is larger than the maximum possible size.",
     "output_type": "error",
     "traceback": [
      "\u001b[1;31m---------------------------------------------------------------------------\u001b[0m",
      "\u001b[1;31mValueError\u001b[0m                                Traceback (most recent call last)",
      "\u001b[1;32m<ipython-input-22-91dd50d72050>\u001b[0m in \u001b[0;36m<module>\u001b[1;34m\u001b[0m\n\u001b[1;32m----> 1\u001b[1;33m \u001b[0mgram_train\u001b[0m \u001b[1;33m=\u001b[0m \u001b[0mnp\u001b[0m\u001b[1;33m.\u001b[0m\u001b[0mdot\u001b[0m\u001b[1;33m(\u001b[0m\u001b[0mX_train\u001b[0m\u001b[1;33m,\u001b[0m \u001b[0mX_train\u001b[0m\u001b[1;33m.\u001b[0m\u001b[0mT\u001b[0m\u001b[1;33m)\u001b[0m\u001b[1;33m\u001b[0m\u001b[1;33m\u001b[0m\u001b[0m\n\u001b[0m\u001b[0;32m      2\u001b[0m \u001b[0mgram_test\u001b[0m \u001b[1;33m=\u001b[0m \u001b[0mnp\u001b[0m\u001b[1;33m.\u001b[0m\u001b[0mdot\u001b[0m\u001b[1;33m(\u001b[0m\u001b[0mX_test\u001b[0m\u001b[1;33m,\u001b[0m \u001b[0mX_train\u001b[0m\u001b[1;33m.\u001b[0m\u001b[0mT\u001b[0m\u001b[1;33m)\u001b[0m\u001b[1;33m\u001b[0m\u001b[1;33m\u001b[0m\u001b[0m\n\u001b[0;32m      3\u001b[0m \u001b[1;33m\u001b[0m\u001b[0m\n\u001b[0;32m      4\u001b[0m \u001b[0msvm_precomputed\u001b[0m \u001b[1;33m=\u001b[0m \u001b[0mSVC\u001b[0m\u001b[1;33m(\u001b[0m\u001b[0mkernel\u001b[0m\u001b[1;33m=\u001b[0m\u001b[1;34m\"precomputed\"\u001b[0m\u001b[1;33m,\u001b[0m \u001b[0mC\u001b[0m\u001b[1;33m=\u001b[0m\u001b[1;36m0.01\u001b[0m\u001b[1;33m)\u001b[0m\u001b[1;33m\u001b[0m\u001b[1;33m\u001b[0m\u001b[0m\n\u001b[0;32m      5\u001b[0m \u001b[1;33m\u001b[0m\u001b[0m\n",
      "\u001b[1;31mValueError\u001b[0m: array is too big; `arr.size * arr.dtype.itemsize` is larger than the maximum possible size."
     ]
    }
   ],
   "source": [
    "gram_train = np.dot(X_train, X_train.T)\n",
    "gram_test = np.dot(X_test, X_train.T)\n",
    "\n",
    "svm_precomputed = SVC(kernel=\"precomputed\", C=0.01)\n",
    "\n",
    "svm_precomputed.fit(gram_train, y_train)\n",
    "\n",
    "test_predictions = svm_precomputed.predict(gram_test).round().astype(int)\n",
    "print(accuracy_score(y_test, test_predictions))\n",
    "mean_absolute_error(y_test, test_predictions)"
   ]
  },
  {
   "cell_type": "code",
   "execution_count": null,
   "metadata": {},
   "outputs": [],
   "source": []
  }
 ],
 "metadata": {
  "kernelspec": {
   "display_name": "Python 3",
   "language": "python",
   "name": "python3"
  },
  "language_info": {
   "codemirror_mode": {
    "name": "ipython",
    "version": 3
   },
   "file_extension": ".py",
   "mimetype": "text/x-python",
   "name": "python",
   "nbconvert_exporter": "python",
   "pygments_lexer": "ipython3",
   "version": "3.7.1"
  }
 },
 "nbformat": 4,
 "nbformat_minor": 2
}

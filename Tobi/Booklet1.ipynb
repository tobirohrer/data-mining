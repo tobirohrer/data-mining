{
 "cells": [
  {
   "cell_type": "code",
   "execution_count": 87,
   "metadata": {
    "scrolled": true
   },
   "outputs": [],
   "source": [
    "import numpy as np\n",
    "import pandas as pd\n",
    "import matplotlib.pyplot as plt\n",
    "from sklearn import tree\n",
    "from sklearn.model_selection import train_test_split\n",
    "\n",
    "from sklearn.metrics import mean_absolute_error\n",
    "from sklearn.metrics import accuracy_score\n",
    "from sklearn.preprocessing import MinMaxScaler\n",
    "import eli5\n",
    "from eli5.sklearn import PermutationImportance\n",
    "\n",
    "# import tensorflow as tf\n",
    "# from tensorflow import keras\n",
    "\n",
    "\n",
    "from sklearn.feature_selection import SelectKBest, f_classif\n",
    "from sklearn.linear_model import LogisticRegression\n",
    "from sklearn.feature_selection import SelectFromModel\n",
    "\n",
    "import category_encoders as ce\n",
    "import graphviz\n",
    "\n",
    "from scipy.stats import reciprocal\n",
    "from sklearn.model_selection import RandomizedSearchCV, GridSearchCV"
   ]
  },
  {
   "cell_type": "code",
   "execution_count": 88,
   "metadata": {
    "scrolled": true
   },
   "outputs": [
    {
     "data": {
      "text/plain": [
       "2018    17821\n",
       "2013    16415\n",
       "Name: Date, dtype: int64"
      ]
     },
     "execution_count": 88,
     "metadata": {},
     "output_type": "execute_result"
    }
   ],
   "source": [
    "def filter_years(df):\n",
    "    \"\"\"\n",
    "    filters years 2013 and 2018 which we have to handle.\n",
    "    \"\"\"\n",
    "    df['Date'] = pd.to_datetime(df['Date'])\n",
    "    df = df[df['Date'].dt.year.isin([2013, 2018])]\n",
    "    return df\n",
    "\n",
    "weather = pd.read_csv(\"weatherAUS.csv\")  # read csv data into pandas data frame\n",
    "weather = filter_years(weather)\n",
    "weather['Date'].dt.year.value_counts()"
   ]
  },
  {
   "cell_type": "markdown",
   "metadata": {},
   "source": [
    "# Aufgabe 1 Feature Engineering"
   ]
  },
  {
   "cell_type": "code",
   "execution_count": 89,
   "metadata": {
    "scrolled": true
   },
   "outputs": [],
   "source": [
    "# Spalten mit fehlender Zielvariable \"RainTomorrow\" rausschmeißen.\n",
    "# Man könnte diese Auch als Testvariablen nehmen, dann wären diese aber nicht zufällig ausgewählt...\n",
    "weather = weather[weather['RainTomorrow'].notna()]"
   ]
  },
  {
   "cell_type": "code",
   "execution_count": 90,
   "metadata": {
    "scrolled": true
   },
   "outputs": [],
   "source": [
    "# Spalten, in denen mehr als 40% der Variablen fehlen rausscheißen.\n",
    "# Zeilen, in denen mehr als 50% der Variablen fehlen rausschmeißen.\n",
    "\n",
    "weather = weather[weather.columns[weather.isnull().mean() < 0.4]]\n",
    "weather = weather.loc[weather.isnull().mean(axis=1) < 0.5]"
   ]
  },
  {
   "cell_type": "markdown",
   "metadata": {},
   "source": [
    "## Feate creation\n",
    "creating new features"
   ]
  },
  {
   "cell_type": "code",
   "execution_count": 91,
   "metadata": {
    "scrolled": true
   },
   "outputs": [],
   "source": [
    "weather['Year'] = weather['Date'].dt.year  # get year\n",
    "weather['Month'] = weather['Date'].dt.month  # get month\n",
    "weather['Day'] = weather['Date'].dt.day  # get day\n",
    "\n",
    "weather['MinMaxDiff'] = weather['MaxTemp'] - weather['MinTemp']\n",
    "weather['PressureDiff'] = weather['Pressure3pm'] - weather['Pressure9am']\n",
    "weather['WindSpeedDiff'] = weather['Pressure3pm'] - weather['WindSpeed9am']\n",
    "weather['HumidityDiff'] = weather['Humidity3pm'] - weather['Humidity9am']"
   ]
  },
  {
   "cell_type": "markdown",
   "metadata": {},
   "source": [
    "## Feature Binning\n",
    "\n",
    "diskretisierung von Features. "
   ]
  },
  {
   "cell_type": "code",
   "execution_count": 92,
   "metadata": {
    "scrolled": true
   },
   "outputs": [],
   "source": [
    "def encode_season(month):\n",
    "    if month >= 9 and month <= 11:\n",
    "        return 'Spring'\n",
    "    if month == 12 or month <= 2:\n",
    "        return 'Summer'\n",
    "    if month >= 3 and month <= 5:\n",
    "        return 'Autumn'\n",
    "    if month >= 6 and month <= 8:\n",
    "        return 'Winter'\n",
    "    \n",
    "weather['Season'] = weather['Month'].apply(encode_season)\n"
   ]
  },
  {
   "cell_type": "code",
   "execution_count": 93,
   "metadata": {
    "scrolled": true
   },
   "outputs": [],
   "source": [
    "# Ist quasy \"Target Encoding\". Nur halt manuell...\n",
    "\n",
    "def encode_rainly_month(month):\n",
    "    rainy_month = [5,6, 7,8,11]\n",
    "    if month in rainy_month:\n",
    "        return 1\n",
    "    return 0\n",
    "\n",
    "weather['RainyMonth'] = weather['Month'].apply(encode_rainly_month)"
   ]
  },
  {
   "cell_type": "markdown",
   "metadata": {},
   "source": [
    "## Train Test split\n",
    "**Important!** \n",
    "\n",
    "Before starting Feature Engineering one must split the dataset to ovoid test train leakage!\n",
    "All Decisions in Data Engineering must be made on the Train Set only! From here, we assume that we dont have any \n",
    "knowledge about the test data."
   ]
  },
  {
   "cell_type": "code",
   "execution_count": 94,
   "metadata": {
    "scrolled": true
   },
   "outputs": [],
   "source": [
    "#Zunächst wird noch nicht die Zielvariable \"abgespalten\"\n",
    "#Warum? Wenn die Zielvariable noch im gleichen DataFrame ist, kann man leichter Outlier rausschmeißen.\n",
    "train, test = train_test_split(weather, test_size=0.2, random_state = 0)"
   ]
  },
  {
   "cell_type": "markdown",
   "metadata": {},
   "source": [
    "## Outlier detection (Optional)\n",
    "**important**\n",
    "\n",
    "this must be done after splitting. Again: We do not know anything about the test data!\n",
    "\n",
    "**-> Verschlechtert das Ergebnis!**"
   ]
  },
  {
   "cell_type": "code",
   "execution_count": 95,
   "metadata": {
    "scrolled": true
   },
   "outputs": [
    {
     "data": {
      "text/plain": [
       "Text(0, 0.5, 'WindGustSpeed')"
      ]
     },
     "execution_count": 95,
     "metadata": {},
     "output_type": "execute_result"
    },
    {
     "data": {
      "image/png": "[encoded data removed]",
      "text/plain": [
       "<Figure size 1080x720 with 2 Axes>"
      ]
     },
     "metadata": {
      "needs_background": "light"
     },
     "output_type": "display_data"
    }
   ],
   "source": [
    "plt.figure(figsize=(15,10))\n",
    "\n",
    "plt.subplot(2, 2, 1)\n",
    "fig = train.boxplot(column='Rainfall')\n",
    "fig.set_title('')\n",
    "fig.set_ylabel('Rainfall')\n",
    "\n",
    "plt.subplot(2, 2, 2)\n",
    "fig = train.boxplot(column='WindGustSpeed')\n",
    "fig.set_title('')\n",
    "fig.set_ylabel('WindGustSpeed')"
   ]
  },
  {
   "cell_type": "code",
   "execution_count": 75,
   "metadata": {
    "scrolled": true
   },
   "outputs": [],
   "source": [
    "higher_lim = train['Rainfall'].quantile(0.995)\n",
    "train = train[train['Rainfall'] < higher_lim]\n",
    "higher_lim = train['WindGustSpeed'].quantile(0.995)\n",
    "train = train[train['WindGustSpeed'] < higher_lim]"
   ]
  },
  {
   "cell_type": "markdown",
   "metadata": {},
   "source": [
    "## Train Test Split part 2\n",
    "\n",
    "hier wird jetzt die Zielvariable abgespalten"
   ]
  },
  {
   "cell_type": "code",
   "execution_count": 96,
   "metadata": {
    "scrolled": true
   },
   "outputs": [],
   "source": [
    "X_train = train.drop(['RainTomorrow'], axis=1)\n",
    "y_train = train['RainTomorrow']\n",
    "\n",
    "X_test = test.drop(['RainTomorrow'], axis=1)\n",
    "y_test = test['RainTomorrow']"
   ]
  },
  {
   "cell_type": "markdown",
   "metadata": {},
   "source": [
    "## Impute missing Data (Univariat)"
   ]
  },
  {
   "cell_type": "code",
   "execution_count": 97,
   "metadata": {
    "scrolled": true
   },
   "outputs": [],
   "source": [
    "# Impute values the naiive approache without considering the locations or other stuff like season\n",
    "\n",
    "for dataset in [X_train, X_test]:\n",
    "\n",
    "    colums_containing_nan = dataset.columns[dataset.isnull().any()]\n",
    "    \n",
    "    numerical_containing_nan = [col for col in colums_containing_nan if dataset[col].dtypes != 'O']\n",
    "    categorial_containing_nan = [col for col in colums_containing_nan if dataset[col].dtypes == 'O']\n",
    "\n",
    "    for col in numerical_containing_nan:\n",
    "        col_median=X_train[col].median() #always use median from Train data ! Never impute based on Test Data ! we have to assume we dont know it.\n",
    "        dataset[col] = dataset[col].fillna(col_median) \n",
    "        \n",
    "    for col in categorial_containing_nan:\n",
    "        col_most_occuring = X_train[col].mode()[0]\n",
    "        dataset[col] = dataset[col].fillna(col_most_occuring)     \n",
    "        "
   ]
  },
  {
   "cell_type": "markdown",
   "metadata": {},
   "source": [
    "# Encoding Categorial Variables"
   ]
  },
  {
   "cell_type": "code",
   "execution_count": 98,
   "metadata": {
    "scrolled": true
   },
   "outputs": [],
   "source": [
    "X_train['RainToday'] = X_train[\"RainToday\"].replace({'No':0, 'Yes':1})\n",
    "X_test['RainToday'] = X_test[\"RainToday\"].replace({'No':0, 'Yes':1})\n",
    "\n",
    "y_train = y_train.replace({'No':0, 'Yes':1})\n",
    "y_test = y_test.replace({'No':0, 'Yes':1})"
   ]
  },
  {
   "cell_type": "markdown",
   "metadata": {},
   "source": [
    "### Target encoding\n",
    "\n",
    "Beim target Encoding kodieren wir die Variable als Einfluss auf die Zielvariable. Wenn es also in Perth zu 20% geregnet hat, dann wird Perth mit 0.2 kodiert."
   ]
  },
  {
   "cell_type": "code",
   "execution_count": 99,
   "metadata": {},
   "outputs": [],
   "source": [
    "# Create the encoder\n",
    "cat_features=['Location','WindGustDir',\"WindDir9am\", \"WindDir3pm\"]\n",
    "for feature in [cat_features]:\n",
    "    target_enc = ce.TargetEncoder(cols=feature)\n",
    "    target_enc.fit(X_train[feature], y_train)\n",
    "\n",
    "    # Transform the features, rename the columns with _target suffix, and join to dataframe\n",
    "    X_train = X_train.join(target_enc.transform(X_train[feature]).add_suffix('_target'))\n",
    "    X_test = X_test.join(target_enc.transform(X_test[feature]).add_suffix('_target'))"
   ]
  },
  {
   "cell_type": "markdown",
   "metadata": {},
   "source": [
    "### One Hot Encoding"
   ]
  },
  {
   "cell_type": "code",
   "execution_count": 100,
   "metadata": {
    "scrolled": true
   },
   "outputs": [],
   "source": [
    "# apply One Hot encoding\n",
    "\n",
    "for col in [\"Season\"]:\n",
    "    encoded_columns = pd.get_dummies(X_train[col], prefix=col, drop_first=True)\n",
    "    X_train = X_train.join(encoded_columns).drop(col, axis=1)\n",
    "    \n",
    "    encoded_columns = pd.get_dummies(X_test[col], prefix=col, drop_first=True)\n",
    "    X_test = X_test.join(encoded_columns).drop(col, axis=1)"
   ]
  },
  {
   "cell_type": "markdown",
   "metadata": {},
   "source": [
    "# Remove Features\n",
    "\n",
    "Some features where transformed to other columns and can be removed."
   ]
  },
  {
   "cell_type": "code",
   "execution_count": 101,
   "metadata": {
    "scrolled": true
   },
   "outputs": [],
   "source": [
    "columns_to_drop = ['Date', 'Location','WindGustDir',\"WindDir9am\", \"WindDir3pm\"]\n",
    "X_train.drop(labels=columns_to_drop, axis=1, inplace=True)\n",
    "X_test.drop(labels=columns_to_drop, axis=1, inplace=True)"
   ]
  },
  {
   "cell_type": "markdown",
   "metadata": {},
   "source": [
    "## Scale numerical features\n",
    "\n",
    "**Note !**\n",
    "This step is not required for decision trees. Still it is recommended to do. Why?\n",
    "1. We need it for Feature Selection \n",
    "2. If we change the tree to a regression or a NN, we need it.\n",
    "3. It doesnt do any harm."
   ]
  },
  {
   "cell_type": "code",
   "execution_count": 102,
   "metadata": {
    "scrolled": true
   },
   "outputs": [],
   "source": [
    "scaler = MinMaxScaler()\n",
    "cols = X_train.columns\n",
    "\n",
    "X_train = scaler.fit_transform(X_train)\n",
    "X_test = scaler.transform(X_test)\n",
    "\n",
    "X_train = pd.DataFrame(X_train, columns=cols)\n",
    "X_test = pd.DataFrame(np.array(X_test), columns=cols)"
   ]
  },
  {
   "cell_type": "markdown",
   "metadata": {},
   "source": [
    "# Feature Selection\n",
    "\n",
    "\n",
    "## The univariate way"
   ]
  },
  {
   "cell_type": "code",
   "execution_count": 83,
   "metadata": {},
   "outputs": [
    {
     "data": {
      "text/html": [
       "<div>\n",
       "<style scoped>\n",
       "    .dataframe tbody tr th:only-of-type {\n",
       "        vertical-align: middle;\n",
       "    }\n",
       "\n",
       "    .dataframe tbody tr th {\n",
       "        vertical-align: top;\n",
       "    }\n",
       "\n",
       "    .dataframe thead th {\n",
       "        text-align: right;\n",
       "    }\n",
       "</style>\n",
       "<table border=\"1\" class=\"dataframe\">\n",
       "  <thead>\n",
       "    <tr style=\"text-align: right;\">\n",
       "      <th></th>\n",
       "      <th>MinTemp</th>\n",
       "      <th>MaxTemp</th>\n",
       "      <th>Rainfall</th>\n",
       "      <th>WindGustSpeed</th>\n",
       "      <th>WindSpeed9am</th>\n",
       "      <th>WindSpeed3pm</th>\n",
       "      <th>Humidity9am</th>\n",
       "      <th>Humidity3pm</th>\n",
       "      <th>Pressure9am</th>\n",
       "      <th>Pressure3pm</th>\n",
       "      <th>...</th>\n",
       "      <th>HumidityDiff</th>\n",
       "      <th>RainyMonth</th>\n",
       "      <th>Location_target</th>\n",
       "      <th>WindGustDir_target</th>\n",
       "      <th>WindDir9am_target</th>\n",
       "      <th>WindDir3pm_target</th>\n",
       "      <th>Season_Spring</th>\n",
       "      <th>Season_Summer</th>\n",
       "      <th>Season_Winter</th>\n",
       "      <th>RainTomorrow</th>\n",
       "    </tr>\n",
       "  </thead>\n",
       "  <tbody>\n",
       "    <tr>\n",
       "      <th>MinTemp</th>\n",
       "      <td>1.000000</td>\n",
       "      <td>0.722267</td>\n",
       "      <td>0.046559</td>\n",
       "      <td>0.169620</td>\n",
       "      <td>0.192778</td>\n",
       "      <td>0.168783</td>\n",
       "      <td>-0.259568</td>\n",
       "      <td>-0.024287</td>\n",
       "      <td>-0.423726</td>\n",
       "      <td>-0.434395</td>\n",
       "      <td>...</td>\n",
       "      <td>0.290208</td>\n",
       "      <td>-0.410068</td>\n",
       "      <td>-0.011487</td>\n",
       "      <td>-0.227119</td>\n",
       "      <td>-0.167098</td>\n",
       "      <td>-0.208771</td>\n",
       "      <td>-0.025559</td>\n",
       "      <td>0.401770</td>\n",
       "      <td>-0.432747</td>\n",
       "      <td>0.059986</td>\n",
       "    </tr>\n",
       "    <tr>\n",
       "      <th>MaxTemp</th>\n",
       "      <td>0.722267</td>\n",
       "      <td>1.000000</td>\n",
       "      <td>-0.164146</td>\n",
       "      <td>0.052377</td>\n",
       "      <td>0.006944</td>\n",
       "      <td>0.035928</td>\n",
       "      <td>-0.538953</td>\n",
       "      <td>-0.546825</td>\n",
       "      <td>-0.309191</td>\n",
       "      <td>-0.412692</td>\n",
       "      <td>...</td>\n",
       "      <td>-0.047324</td>\n",
       "      <td>-0.449451</td>\n",
       "      <td>-0.277760</td>\n",
       "      <td>-0.206063</td>\n",
       "      <td>-0.228491</td>\n",
       "      <td>-0.114552</td>\n",
       "      <td>0.006145</td>\n",
       "      <td>0.428666</td>\n",
       "      <td>-0.468908</td>\n",
       "      <td>-0.189817</td>\n",
       "    </tr>\n",
       "    <tr>\n",
       "      <th>Rainfall</th>\n",
       "      <td>0.046559</td>\n",
       "      <td>-0.164146</td>\n",
       "      <td>1.000000</td>\n",
       "      <td>0.155977</td>\n",
       "      <td>0.100797</td>\n",
       "      <td>0.074888</td>\n",
       "      <td>0.266597</td>\n",
       "      <td>0.298665</td>\n",
       "      <td>-0.158803</td>\n",
       "      <td>-0.095594</td>\n",
       "      <td>...</td>\n",
       "      <td>0.064666</td>\n",
       "      <td>0.048445</td>\n",
       "      <td>0.121607</td>\n",
       "      <td>0.043383</td>\n",
       "      <td>0.050405</td>\n",
       "      <td>0.021282</td>\n",
       "      <td>0.003960</td>\n",
       "      <td>-0.020261</td>\n",
       "      <td>0.039909</td>\n",
       "      <td>0.298296</td>\n",
       "    </tr>\n",
       "    <tr>\n",
       "      <th>WindGustSpeed</th>\n",
       "      <td>0.169620</td>\n",
       "      <td>0.052377</td>\n",
       "      <td>0.155977</td>\n",
       "      <td>1.000000</td>\n",
       "      <td>0.596896</td>\n",
       "      <td>0.696054</td>\n",
       "      <td>-0.211475</td>\n",
       "      <td>-0.020430</td>\n",
       "      <td>-0.452243</td>\n",
       "      <td>-0.409406</td>\n",
       "      <td>...</td>\n",
       "      <td>0.230779</td>\n",
       "      <td>-0.086535</td>\n",
       "      <td>0.042530</td>\n",
       "      <td>0.170758</td>\n",
       "      <td>0.131892</td>\n",
       "      <td>0.161439</td>\n",
       "      <td>0.114414</td>\n",
       "      <td>0.100142</td>\n",
       "      <td>-0.085179</td>\n",
       "      <td>0.250919</td>\n",
       "    </tr>\n",
       "    <tr>\n",
       "      <th>WindSpeed9am</th>\n",
       "      <td>0.192778</td>\n",
       "      <td>0.006944</td>\n",
       "      <td>0.100797</td>\n",
       "      <td>0.596896</td>\n",
       "      <td>1.000000</td>\n",
       "      <td>0.511293</td>\n",
       "      <td>-0.249104</td>\n",
       "      <td>-0.007115</td>\n",
       "      <td>-0.232190</td>\n",
       "      <td>-0.176857</td>\n",
       "      <td>...</td>\n",
       "      <td>0.291944</td>\n",
       "      <td>-0.063591</td>\n",
       "      <td>0.019685</td>\n",
       "      <td>0.020039</td>\n",
       "      <td>-0.033729</td>\n",
       "      <td>0.000963</td>\n",
       "      <td>0.104050</td>\n",
       "      <td>0.045065</td>\n",
       "      <td>-0.070749</td>\n",
       "      <td>0.110805</td>\n",
       "    </tr>\n",
       "    <tr>\n",
       "      <th>WindSpeed3pm</th>\n",
       "      <td>0.168783</td>\n",
       "      <td>0.035928</td>\n",
       "      <td>0.074888</td>\n",
       "      <td>0.696054</td>\n",
       "      <td>0.511293</td>\n",
       "      <td>1.000000</td>\n",
       "      <td>-0.126638</td>\n",
       "      <td>0.033162</td>\n",
       "      <td>-0.290773</td>\n",
       "      <td>-0.253077</td>\n",
       "      <td>...</td>\n",
       "      <td>0.197049</td>\n",
       "      <td>-0.065385</td>\n",
       "      <td>0.078524</td>\n",
       "      <td>0.110081</td>\n",
       "      <td>0.103938</td>\n",
       "      <td>0.068693</td>\n",
       "      <td>0.104075</td>\n",
       "      <td>0.057166</td>\n",
       "      <td>-0.069445</td>\n",
       "      <td>0.106628</td>\n",
       "    </tr>\n",
       "    <tr>\n",
       "      <th>Humidity9am</th>\n",
       "      <td>-0.259568</td>\n",
       "      <td>-0.538953</td>\n",
       "      <td>0.266597</td>\n",
       "      <td>-0.211475</td>\n",
       "      <td>-0.249104</td>\n",
       "      <td>-0.126638</td>\n",
       "      <td>1.000000</td>\n",
       "      <td>0.679218</td>\n",
       "      <td>0.164536</td>\n",
       "      <td>0.223770</td>\n",
       "      <td>...</td>\n",
       "      <td>-0.330726</td>\n",
       "      <td>0.196375</td>\n",
       "      <td>0.347678</td>\n",
       "      <td>0.067216</td>\n",
       "      <td>0.144701</td>\n",
       "      <td>0.034547</td>\n",
       "      <td>-0.139120</td>\n",
       "      <td>-0.170469</td>\n",
       "      <td>0.222860</td>\n",
       "      <td>0.261760</td>\n",
       "    </tr>\n",
       "    <tr>\n",
       "      <th>Humidity3pm</th>\n",
       "      <td>-0.024287</td>\n",
       "      <td>-0.546825</td>\n",
       "      <td>0.298665</td>\n",
       "      <td>-0.020430</td>\n",
       "      <td>-0.007115</td>\n",
       "      <td>0.033162</td>\n",
       "      <td>0.679218</td>\n",
       "      <td>1.000000</td>\n",
       "      <td>-0.000453</td>\n",
       "      <td>0.094994</td>\n",
       "      <td>...</td>\n",
       "      <td>0.462237</td>\n",
       "      <td>0.160476</td>\n",
       "      <td>0.483183</td>\n",
       "      <td>0.028867</td>\n",
       "      <td>0.158285</td>\n",
       "      <td>-0.059328</td>\n",
       "      <td>-0.046748</td>\n",
       "      <td>-0.130050</td>\n",
       "      <td>0.169028</td>\n",
       "      <td>0.433683</td>\n",
       "    </tr>\n",
       "    <tr>\n",
       "      <th>Pressure9am</th>\n",
       "      <td>-0.423726</td>\n",
       "      <td>-0.309191</td>\n",
       "      <td>-0.158803</td>\n",
       "      <td>-0.452243</td>\n",
       "      <td>-0.232190</td>\n",
       "      <td>-0.290773</td>\n",
       "      <td>0.164536</td>\n",
       "      <td>-0.000453</td>\n",
       "      <td>1.000000</td>\n",
       "      <td>0.956540</td>\n",
       "      <td>...</td>\n",
       "      <td>-0.203007</td>\n",
       "      <td>0.221075</td>\n",
       "      <td>-0.038720</td>\n",
       "      <td>-0.178198</td>\n",
       "      <td>-0.133257</td>\n",
       "      <td>-0.173844</td>\n",
       "      <td>-0.053566</td>\n",
       "      <td>-0.322619</td>\n",
       "      <td>0.203785</td>\n",
       "      <td>-0.229535</td>\n",
       "    </tr>\n",
       "    <tr>\n",
       "      <th>Pressure3pm</th>\n",
       "      <td>-0.434395</td>\n",
       "      <td>-0.412692</td>\n",
       "      <td>-0.095594</td>\n",
       "      <td>-0.409406</td>\n",
       "      <td>-0.176857</td>\n",
       "      <td>-0.253077</td>\n",
       "      <td>0.223770</td>\n",
       "      <td>0.094994</td>\n",
       "      <td>0.956540</td>\n",
       "      <td>1.000000</td>\n",
       "      <td>...</td>\n",
       "      <td>-0.151355</td>\n",
       "      <td>0.219501</td>\n",
       "      <td>0.033236</td>\n",
       "      <td>-0.154353</td>\n",
       "      <td>-0.104949</td>\n",
       "      <td>-0.191382</td>\n",
       "      <td>-0.062873</td>\n",
       "      <td>-0.308520</td>\n",
       "      <td>0.202148</td>\n",
       "      <td>-0.201442</td>\n",
       "    </tr>\n",
       "    <tr>\n",
       "      <th>Temp9am</th>\n",
       "      <td>0.896166</td>\n",
       "      <td>0.881149</td>\n",
       "      <td>-0.064461</td>\n",
       "      <td>0.137851</td>\n",
       "      <td>0.130245</td>\n",
       "      <td>0.150292</td>\n",
       "      <td>-0.501918</td>\n",
       "      <td>-0.260256</td>\n",
       "      <td>-0.399624</td>\n",
       "      <td>-0.451685</td>\n",
       "      <td>...</td>\n",
       "      <td>0.276234</td>\n",
       "      <td>-0.447105</td>\n",
       "      <td>-0.113295</td>\n",
       "      <td>-0.233041</td>\n",
       "      <td>-0.193236</td>\n",
       "      <td>-0.188733</td>\n",
       "      <td>0.041397</td>\n",
       "      <td>0.415264</td>\n",
       "      <td>-0.480400</td>\n",
       "      <td>-0.059779</td>\n",
       "    </tr>\n",
       "    <tr>\n",
       "      <th>Temp3pm</th>\n",
       "      <td>0.690733</td>\n",
       "      <td>0.977427</td>\n",
       "      <td>-0.172936</td>\n",
       "      <td>0.018310</td>\n",
       "      <td>-0.005809</td>\n",
       "      <td>0.014149</td>\n",
       "      <td>-0.534709</td>\n",
       "      <td>-0.597310</td>\n",
       "      <td>-0.261483</td>\n",
       "      <td>-0.372876</td>\n",
       "      <td>...</td>\n",
       "      <td>-0.118989</td>\n",
       "      <td>-0.432120</td>\n",
       "      <td>-0.293757</td>\n",
       "      <td>-0.208754</td>\n",
       "      <td>-0.239156</td>\n",
       "      <td>-0.105799</td>\n",
       "      <td>-0.004569</td>\n",
       "      <td>0.404782</td>\n",
       "      <td>-0.447914</td>\n",
       "      <td>-0.221938</td>\n",
       "    </tr>\n",
       "    <tr>\n",
       "      <th>RainToday</th>\n",
       "      <td>0.010723</td>\n",
       "      <td>-0.264438</td>\n",
       "      <td>0.645817</td>\n",
       "      <td>0.155963</td>\n",
       "      <td>0.108659</td>\n",
       "      <td>0.083844</td>\n",
       "      <td>0.352821</td>\n",
       "      <td>0.378557</td>\n",
       "      <td>-0.151570</td>\n",
       "      <td>-0.065893</td>\n",
       "      <td>...</td>\n",
       "      <td>0.062793</td>\n",
       "      <td>0.074123</td>\n",
       "      <td>0.185820</td>\n",
       "      <td>0.089913</td>\n",
       "      <td>0.096537</td>\n",
       "      <td>0.043439</td>\n",
       "      <td>0.011255</td>\n",
       "      <td>-0.053539</td>\n",
       "      <td>0.072806</td>\n",
       "      <td>0.320674</td>\n",
       "    </tr>\n",
       "    <tr>\n",
       "      <th>Year</th>\n",
       "      <td>0.014336</td>\n",
       "      <td>0.028046</td>\n",
       "      <td>-0.021566</td>\n",
       "      <td>0.006250</td>\n",
       "      <td>-0.007894</td>\n",
       "      <td>-0.005987</td>\n",
       "      <td>-0.028310</td>\n",
       "      <td>-0.039364</td>\n",
       "      <td>0.012778</td>\n",
       "      <td>0.011127</td>\n",
       "      <td>...</td>\n",
       "      <td>-0.014270</td>\n",
       "      <td>-0.032206</td>\n",
       "      <td>-0.016362</td>\n",
       "      <td>-0.012726</td>\n",
       "      <td>-0.041902</td>\n",
       "      <td>-0.006154</td>\n",
       "      <td>-0.022333</td>\n",
       "      <td>0.075003</td>\n",
       "      <td>-0.022626</td>\n",
       "      <td>-0.017849</td>\n",
       "    </tr>\n",
       "    <tr>\n",
       "      <th>Month</th>\n",
       "      <td>-0.151793</td>\n",
       "      <td>-0.133977</td>\n",
       "      <td>0.017869</td>\n",
       "      <td>0.081789</td>\n",
       "      <td>0.070072</td>\n",
       "      <td>0.073236</td>\n",
       "      <td>-0.072728</td>\n",
       "      <td>0.011150</td>\n",
       "      <td>-0.024287</td>\n",
       "      <td>-0.031158</td>\n",
       "      <td>...</td>\n",
       "      <td>0.102048</td>\n",
       "      <td>0.168718</td>\n",
       "      <td>-0.002789</td>\n",
       "      <td>0.078633</td>\n",
       "      <td>0.069081</td>\n",
       "      <td>0.059721</td>\n",
       "      <td>0.572869</td>\n",
       "      <td>-0.148291</td>\n",
       "      <td>0.051254</td>\n",
       "      <td>0.028778</td>\n",
       "    </tr>\n",
       "    <tr>\n",
       "      <th>Day</th>\n",
       "      <td>-0.022613</td>\n",
       "      <td>-0.026259</td>\n",
       "      <td>0.006166</td>\n",
       "      <td>-0.027686</td>\n",
       "      <td>-0.025221</td>\n",
       "      <td>-0.029419</td>\n",
       "      <td>0.024629</td>\n",
       "      <td>0.026577</td>\n",
       "      <td>-0.048864</td>\n",
       "      <td>-0.044627</td>\n",
       "      <td>...</td>\n",
       "      <td>0.005077</td>\n",
       "      <td>0.002765</td>\n",
       "      <td>-0.004824</td>\n",
       "      <td>-0.002455</td>\n",
       "      <td>0.002365</td>\n",
       "      <td>-0.005588</td>\n",
       "      <td>-0.004181</td>\n",
       "      <td>-0.009009</td>\n",
       "      <td>0.005720</td>\n",
       "      <td>0.010996</td>\n",
       "    </tr>\n",
       "    <tr>\n",
       "      <th>MinMaxDiff</th>\n",
       "      <td>-0.220224</td>\n",
       "      <td>0.511151</td>\n",
       "      <td>-0.289976</td>\n",
       "      <td>-0.138512</td>\n",
       "      <td>-0.231021</td>\n",
       "      <td>-0.160586</td>\n",
       "      <td>-0.439554</td>\n",
       "      <td>-0.744693</td>\n",
       "      <td>0.090981</td>\n",
       "      <td>-0.042114</td>\n",
       "      <td>...</td>\n",
       "      <td>-0.429528</td>\n",
       "      <td>-0.126306</td>\n",
       "      <td>-0.378672</td>\n",
       "      <td>-0.007347</td>\n",
       "      <td>-0.114781</td>\n",
       "      <td>0.098811</td>\n",
       "      <td>0.041307</td>\n",
       "      <td>0.106301</td>\n",
       "      <td>-0.125396</td>\n",
       "      <td>-0.343362</td>\n",
       "    </tr>\n",
       "    <tr>\n",
       "      <th>PressureDiff</th>\n",
       "      <td>-0.018133</td>\n",
       "      <td>-0.336667</td>\n",
       "      <td>0.219663</td>\n",
       "      <td>0.162927</td>\n",
       "      <td>0.197580</td>\n",
       "      <td>0.143753</td>\n",
       "      <td>0.192941</td>\n",
       "      <td>0.322781</td>\n",
       "      <td>-0.181888</td>\n",
       "      <td>0.110970</td>\n",
       "      <td>...</td>\n",
       "      <td>0.184068</td>\n",
       "      <td>-0.012907</td>\n",
       "      <td>0.246423</td>\n",
       "      <td>0.087023</td>\n",
       "      <td>0.100016</td>\n",
       "      <td>-0.054667</td>\n",
       "      <td>-0.028634</td>\n",
       "      <td>0.058148</td>\n",
       "      <td>-0.012468</td>\n",
       "      <td>0.103325</td>\n",
       "    </tr>\n",
       "    <tr>\n",
       "      <th>WindSpeedDiff</th>\n",
       "      <td>-0.385689</td>\n",
       "      <td>-0.245046</td>\n",
       "      <td>-0.123621</td>\n",
       "      <td>-0.642695</td>\n",
       "      <td>-0.803101</td>\n",
       "      <td>-0.498801</td>\n",
       "      <td>0.298460</td>\n",
       "      <td>0.063106</td>\n",
       "      <td>0.714538</td>\n",
       "      <td>0.697169</td>\n",
       "      <td>...</td>\n",
       "      <td>-0.281349</td>\n",
       "      <td>0.173081</td>\n",
       "      <td>0.006891</td>\n",
       "      <td>-0.099409</td>\n",
       "      <td>-0.030664</td>\n",
       "      <td>-0.111878</td>\n",
       "      <td>-0.109861</td>\n",
       "      <td>-0.208547</td>\n",
       "      <td>0.167231</td>\n",
       "      <td>-0.189804</td>\n",
       "    </tr>\n",
       "    <tr>\n",
       "      <th>HumidityDiff</th>\n",
       "      <td>0.290208</td>\n",
       "      <td>-0.047324</td>\n",
       "      <td>0.064666</td>\n",
       "      <td>0.230779</td>\n",
       "      <td>0.291944</td>\n",
       "      <td>0.197049</td>\n",
       "      <td>-0.330726</td>\n",
       "      <td>0.462237</td>\n",
       "      <td>-0.203007</td>\n",
       "      <td>-0.151355</td>\n",
       "      <td>...</td>\n",
       "      <td>1.000000</td>\n",
       "      <td>-0.034306</td>\n",
       "      <td>0.201655</td>\n",
       "      <td>-0.041181</td>\n",
       "      <td>0.032671</td>\n",
       "      <td>-0.116581</td>\n",
       "      <td>0.108935</td>\n",
       "      <td>0.043121</td>\n",
       "      <td>-0.055123</td>\n",
       "      <td>0.244536</td>\n",
       "    </tr>\n",
       "    <tr>\n",
       "      <th>RainyMonth</th>\n",
       "      <td>-0.410068</td>\n",
       "      <td>-0.449451</td>\n",
       "      <td>0.048445</td>\n",
       "      <td>-0.086535</td>\n",
       "      <td>-0.063591</td>\n",
       "      <td>-0.065385</td>\n",
       "      <td>0.196375</td>\n",
       "      <td>0.160476</td>\n",
       "      <td>0.221075</td>\n",
       "      <td>0.219501</td>\n",
       "      <td>...</td>\n",
       "      <td>-0.034306</td>\n",
       "      <td>1.000000</td>\n",
       "      <td>-0.008031</td>\n",
       "      <td>0.121640</td>\n",
       "      <td>0.139719</td>\n",
       "      <td>0.105772</td>\n",
       "      <td>-0.131935</td>\n",
       "      <td>-0.458143</td>\n",
       "      <td>0.676308</td>\n",
       "      <td>0.074927</td>\n",
       "    </tr>\n",
       "    <tr>\n",
       "      <th>Location_target</th>\n",
       "      <td>-0.011487</td>\n",
       "      <td>-0.277760</td>\n",
       "      <td>0.121607</td>\n",
       "      <td>0.042530</td>\n",
       "      <td>0.019685</td>\n",
       "      <td>0.078524</td>\n",
       "      <td>0.347678</td>\n",
       "      <td>0.483183</td>\n",
       "      <td>-0.038720</td>\n",
       "      <td>0.033236</td>\n",
       "      <td>...</td>\n",
       "      <td>0.201655</td>\n",
       "      <td>-0.008031</td>\n",
       "      <td>1.000000</td>\n",
       "      <td>0.124573</td>\n",
       "      <td>0.145282</td>\n",
       "      <td>0.048399</td>\n",
       "      <td>0.000013</td>\n",
       "      <td>0.010420</td>\n",
       "      <td>-0.005514</td>\n",
       "      <td>0.185658</td>\n",
       "    </tr>\n",
       "    <tr>\n",
       "      <th>WindGustDir_target</th>\n",
       "      <td>-0.227119</td>\n",
       "      <td>-0.206063</td>\n",
       "      <td>0.043383</td>\n",
       "      <td>0.170758</td>\n",
       "      <td>0.020039</td>\n",
       "      <td>0.110081</td>\n",
       "      <td>0.067216</td>\n",
       "      <td>0.028867</td>\n",
       "      <td>-0.178198</td>\n",
       "      <td>-0.154353</td>\n",
       "      <td>...</td>\n",
       "      <td>-0.041181</td>\n",
       "      <td>0.121640</td>\n",
       "      <td>0.124573</td>\n",
       "      <td>1.000000</td>\n",
       "      <td>0.469160</td>\n",
       "      <td>0.624653</td>\n",
       "      <td>0.010733</td>\n",
       "      <td>-0.109843</td>\n",
       "      <td>0.149883</td>\n",
       "      <td>0.123124</td>\n",
       "    </tr>\n",
       "    <tr>\n",
       "      <th>WindDir9am_target</th>\n",
       "      <td>-0.167098</td>\n",
       "      <td>-0.228491</td>\n",
       "      <td>0.050405</td>\n",
       "      <td>0.131892</td>\n",
       "      <td>-0.033729</td>\n",
       "      <td>0.103938</td>\n",
       "      <td>0.144701</td>\n",
       "      <td>0.158285</td>\n",
       "      <td>-0.133257</td>\n",
       "      <td>-0.104949</td>\n",
       "      <td>...</td>\n",
       "      <td>0.032671</td>\n",
       "      <td>0.139719</td>\n",
       "      <td>0.145282</td>\n",
       "      <td>0.469160</td>\n",
       "      <td>1.000000</td>\n",
       "      <td>0.391036</td>\n",
       "      <td>-0.007475</td>\n",
       "      <td>-0.123039</td>\n",
       "      <td>0.167286</td>\n",
       "      <td>0.128811</td>\n",
       "    </tr>\n",
       "    <tr>\n",
       "      <th>WindDir3pm_target</th>\n",
       "      <td>-0.208771</td>\n",
       "      <td>-0.114552</td>\n",
       "      <td>0.021282</td>\n",
       "      <td>0.161439</td>\n",
       "      <td>0.000963</td>\n",
       "      <td>0.068693</td>\n",
       "      <td>0.034547</td>\n",
       "      <td>-0.059328</td>\n",
       "      <td>-0.173844</td>\n",
       "      <td>-0.191382</td>\n",
       "      <td>...</td>\n",
       "      <td>-0.116581</td>\n",
       "      <td>0.105772</td>\n",
       "      <td>0.048399</td>\n",
       "      <td>0.624653</td>\n",
       "      <td>0.391036</td>\n",
       "      <td>1.000000</td>\n",
       "      <td>0.002697</td>\n",
       "      <td>-0.091325</td>\n",
       "      <td>0.144529</td>\n",
       "      <td>0.117621</td>\n",
       "    </tr>\n",
       "    <tr>\n",
       "      <th>Season_Spring</th>\n",
       "      <td>-0.025559</td>\n",
       "      <td>0.006145</td>\n",
       "      <td>0.003960</td>\n",
       "      <td>0.114414</td>\n",
       "      <td>0.104050</td>\n",
       "      <td>0.104075</td>\n",
       "      <td>-0.139120</td>\n",
       "      <td>-0.046748</td>\n",
       "      <td>-0.053566</td>\n",
       "      <td>-0.062873</td>\n",
       "      <td>...</td>\n",
       "      <td>0.108935</td>\n",
       "      <td>-0.131935</td>\n",
       "      <td>0.000013</td>\n",
       "      <td>0.010733</td>\n",
       "      <td>-0.007475</td>\n",
       "      <td>0.002697</td>\n",
       "      <td>1.000000</td>\n",
       "      <td>-0.309421</td>\n",
       "      <td>-0.352816</td>\n",
       "      <td>0.000141</td>\n",
       "    </tr>\n",
       "    <tr>\n",
       "      <th>Season_Summer</th>\n",
       "      <td>0.401770</td>\n",
       "      <td>0.428666</td>\n",
       "      <td>-0.020261</td>\n",
       "      <td>0.100142</td>\n",
       "      <td>0.045065</td>\n",
       "      <td>0.057166</td>\n",
       "      <td>-0.170469</td>\n",
       "      <td>-0.130050</td>\n",
       "      <td>-0.322619</td>\n",
       "      <td>-0.308520</td>\n",
       "      <td>...</td>\n",
       "      <td>0.043121</td>\n",
       "      <td>-0.458143</td>\n",
       "      <td>0.010420</td>\n",
       "      <td>-0.109843</td>\n",
       "      <td>-0.123039</td>\n",
       "      <td>-0.091325</td>\n",
       "      <td>-0.309421</td>\n",
       "      <td>1.000000</td>\n",
       "      <td>-0.309846</td>\n",
       "      <td>-0.041700</td>\n",
       "    </tr>\n",
       "    <tr>\n",
       "      <th>Season_Winter</th>\n",
       "      <td>-0.432747</td>\n",
       "      <td>-0.468908</td>\n",
       "      <td>0.039909</td>\n",
       "      <td>-0.085179</td>\n",
       "      <td>-0.070749</td>\n",
       "      <td>-0.069445</td>\n",
       "      <td>0.222860</td>\n",
       "      <td>0.169028</td>\n",
       "      <td>0.203785</td>\n",
       "      <td>0.202148</td>\n",
       "      <td>...</td>\n",
       "      <td>-0.055123</td>\n",
       "      <td>0.676308</td>\n",
       "      <td>-0.005514</td>\n",
       "      <td>0.149883</td>\n",
       "      <td>0.167286</td>\n",
       "      <td>0.144529</td>\n",
       "      <td>-0.352816</td>\n",
       "      <td>-0.309846</td>\n",
       "      <td>1.000000</td>\n",
       "      <td>0.065712</td>\n",
       "    </tr>\n",
       "    <tr>\n",
       "      <th>RainTomorrow</th>\n",
       "      <td>0.059986</td>\n",
       "      <td>-0.189817</td>\n",
       "      <td>0.298296</td>\n",
       "      <td>0.250919</td>\n",
       "      <td>0.110805</td>\n",
       "      <td>0.106628</td>\n",
       "      <td>0.261760</td>\n",
       "      <td>0.433683</td>\n",
       "      <td>-0.229535</td>\n",
       "      <td>-0.201442</td>\n",
       "      <td>...</td>\n",
       "      <td>0.244536</td>\n",
       "      <td>0.074927</td>\n",
       "      <td>0.185658</td>\n",
       "      <td>0.123124</td>\n",
       "      <td>0.128811</td>\n",
       "      <td>0.117621</td>\n",
       "      <td>0.000141</td>\n",
       "      <td>-0.041700</td>\n",
       "      <td>0.065712</td>\n",
       "      <td>1.000000</td>\n",
       "    </tr>\n",
       "  </tbody>\n",
       "</table>\n",
       "<p>29 rows × 29 columns</p>\n",
       "</div>"
      ],
      "text/plain": [
       "                     MinTemp   MaxTemp  Rainfall  WindGustSpeed  WindSpeed9am  \\\n",
       "MinTemp             1.000000  0.722267  0.046559       0.169620      0.192778   \n",
       "MaxTemp             0.722267  1.000000 -0.164146       0.052377      0.006944   \n",
       "Rainfall            0.046559 -0.164146  1.000000       0.155977      0.100797   \n",
       "WindGustSpeed       0.169620  0.052377  0.155977       1.000000      0.596896   \n",
       "WindSpeed9am        0.192778  0.006944  0.100797       0.596896      1.000000   \n",
       "WindSpeed3pm        0.168783  0.035928  0.074888       0.696054      0.511293   \n",
       "Humidity9am        -0.259568 -0.538953  0.266597      -0.211475     -0.249104   \n",
       "Humidity3pm        -0.024287 -0.546825  0.298665      -0.020430     -0.007115   \n",
       "Pressure9am        -0.423726 -0.309191 -0.158803      -0.452243     -0.232190   \n",
       "Pressure3pm        -0.434395 -0.412692 -0.095594      -0.409406     -0.176857   \n",
       "Temp9am             0.896166  0.881149 -0.064461       0.137851      0.130245   \n",
       "Temp3pm             0.690733  0.977427 -0.172936       0.018310     -0.005809   \n",
       "RainToday           0.010723 -0.264438  0.645817       0.155963      0.108659   \n",
       "Year                0.014336  0.028046 -0.021566       0.006250     -0.007894   \n",
       "Month              -0.151793 -0.133977  0.017869       0.081789      0.070072   \n",
       "Day                -0.022613 -0.026259  0.006166      -0.027686     -0.025221   \n",
       "MinMaxDiff         -0.220224  0.511151 -0.289976      -0.138512     -0.231021   \n",
       "PressureDiff       -0.018133 -0.336667  0.219663       0.162927      0.197580   \n",
       "WindSpeedDiff      -0.385689 -0.245046 -0.123621      -0.642695     -0.803101   \n",
       "HumidityDiff        0.290208 -0.047324  0.064666       0.230779      0.291944   \n",
       "RainyMonth         -0.410068 -0.449451  0.048445      -0.086535     -0.063591   \n",
       "Location_target    -0.011487 -0.277760  0.121607       0.042530      0.019685   \n",
       "WindGustDir_target -0.227119 -0.206063  0.043383       0.170758      0.020039   \n",
       "WindDir9am_target  -0.167098 -0.228491  0.050405       0.131892     -0.033729   \n",
       "WindDir3pm_target  -0.208771 -0.114552  0.021282       0.161439      0.000963   \n",
       "Season_Spring      -0.025559  0.006145  0.003960       0.114414      0.104050   \n",
       "Season_Summer       0.401770  0.428666 -0.020261       0.100142      0.045065   \n",
       "Season_Winter      -0.432747 -0.468908  0.039909      -0.085179     -0.070749   \n",
       "RainTomorrow        0.059986 -0.189817  0.298296       0.250919      0.110805   \n",
       "\n",
       "                    WindSpeed3pm  Humidity9am  Humidity3pm  Pressure9am  \\\n",
       "MinTemp                 0.168783    -0.259568    -0.024287    -0.423726   \n",
       "MaxTemp                 0.035928    -0.538953    -0.546825    -0.309191   \n",
       "Rainfall                0.074888     0.266597     0.298665    -0.158803   \n",
       "WindGustSpeed           0.696054    -0.211475    -0.020430    -0.452243   \n",
       "WindSpeed9am            0.511293    -0.249104    -0.007115    -0.232190   \n",
       "WindSpeed3pm            1.000000    -0.126638     0.033162    -0.290773   \n",
       "Humidity9am            -0.126638     1.000000     0.679218     0.164536   \n",
       "Humidity3pm             0.033162     0.679218     1.000000    -0.000453   \n",
       "Pressure9am            -0.290773     0.164536    -0.000453     1.000000   \n",
       "Pressure3pm            -0.253077     0.223770     0.094994     0.956540   \n",
       "Temp9am                 0.150292    -0.501918    -0.260256    -0.399624   \n",
       "Temp3pm                 0.014149    -0.534709    -0.597310    -0.261483   \n",
       "RainToday               0.083844     0.352821     0.378557    -0.151570   \n",
       "Year                   -0.005987    -0.028310    -0.039364     0.012778   \n",
       "Month                   0.073236    -0.072728     0.011150    -0.024287   \n",
       "Day                    -0.029419     0.024629     0.026577    -0.048864   \n",
       "MinMaxDiff             -0.160586    -0.439554    -0.744693     0.090981   \n",
       "PressureDiff            0.143753     0.192941     0.322781    -0.181888   \n",
       "WindSpeedDiff          -0.498801     0.298460     0.063106     0.714538   \n",
       "HumidityDiff            0.197049    -0.330726     0.462237    -0.203007   \n",
       "RainyMonth             -0.065385     0.196375     0.160476     0.221075   \n",
       "Location_target         0.078524     0.347678     0.483183    -0.038720   \n",
       "WindGustDir_target      0.110081     0.067216     0.028867    -0.178198   \n",
       "WindDir9am_target       0.103938     0.144701     0.158285    -0.133257   \n",
       "WindDir3pm_target       0.068693     0.034547    -0.059328    -0.173844   \n",
       "Season_Spring           0.104075    -0.139120    -0.046748    -0.053566   \n",
       "Season_Summer           0.057166    -0.170469    -0.130050    -0.322619   \n",
       "Season_Winter          -0.069445     0.222860     0.169028     0.203785   \n",
       "RainTomorrow            0.106628     0.261760     0.433683    -0.229535   \n",
       "\n",
       "                    Pressure3pm  ...  HumidityDiff  RainyMonth  \\\n",
       "MinTemp               -0.434395  ...      0.290208   -0.410068   \n",
       "MaxTemp               -0.412692  ...     -0.047324   -0.449451   \n",
       "Rainfall              -0.095594  ...      0.064666    0.048445   \n",
       "WindGustSpeed         -0.409406  ...      0.230779   -0.086535   \n",
       "WindSpeed9am          -0.176857  ...      0.291944   -0.063591   \n",
       "WindSpeed3pm          -0.253077  ...      0.197049   -0.065385   \n",
       "Humidity9am            0.223770  ...     -0.330726    0.196375   \n",
       "Humidity3pm            0.094994  ...      0.462237    0.160476   \n",
       "Pressure9am            0.956540  ...     -0.203007    0.221075   \n",
       "Pressure3pm            1.000000  ...     -0.151355    0.219501   \n",
       "Temp9am               -0.451685  ...      0.276234   -0.447105   \n",
       "Temp3pm               -0.372876  ...     -0.118989   -0.432120   \n",
       "RainToday             -0.065893  ...      0.062793    0.074123   \n",
       "Year                   0.011127  ...     -0.014270   -0.032206   \n",
       "Month                 -0.031158  ...      0.102048    0.168718   \n",
       "Day                   -0.044627  ...      0.005077    0.002765   \n",
       "MinMaxDiff            -0.042114  ...     -0.429528   -0.126306   \n",
       "PressureDiff           0.110970  ...      0.184068   -0.012907   \n",
       "WindSpeedDiff          0.697169  ...     -0.281349    0.173081   \n",
       "HumidityDiff          -0.151355  ...      1.000000   -0.034306   \n",
       "RainyMonth             0.219501  ...     -0.034306    1.000000   \n",
       "Location_target        0.033236  ...      0.201655   -0.008031   \n",
       "WindGustDir_target    -0.154353  ...     -0.041181    0.121640   \n",
       "WindDir9am_target     -0.104949  ...      0.032671    0.139719   \n",
       "WindDir3pm_target     -0.191382  ...     -0.116581    0.105772   \n",
       "Season_Spring         -0.062873  ...      0.108935   -0.131935   \n",
       "Season_Summer         -0.308520  ...      0.043121   -0.458143   \n",
       "Season_Winter          0.202148  ...     -0.055123    0.676308   \n",
       "RainTomorrow          -0.201442  ...      0.244536    0.074927   \n",
       "\n",
       "                    Location_target  WindGustDir_target  WindDir9am_target  \\\n",
       "MinTemp                   -0.011487           -0.227119          -0.167098   \n",
       "MaxTemp                   -0.277760           -0.206063          -0.228491   \n",
       "Rainfall                   0.121607            0.043383           0.050405   \n",
       "WindGustSpeed              0.042530            0.170758           0.131892   \n",
       "WindSpeed9am               0.019685            0.020039          -0.033729   \n",
       "WindSpeed3pm               0.078524            0.110081           0.103938   \n",
       "Humidity9am                0.347678            0.067216           0.144701   \n",
       "Humidity3pm                0.483183            0.028867           0.158285   \n",
       "Pressure9am               -0.038720           -0.178198          -0.133257   \n",
       "Pressure3pm                0.033236           -0.154353          -0.104949   \n",
       "Temp9am                   -0.113295           -0.233041          -0.193236   \n",
       "Temp3pm                   -0.293757           -0.208754          -0.239156   \n",
       "RainToday                  0.185820            0.089913           0.096537   \n",
       "Year                      -0.016362           -0.012726          -0.041902   \n",
       "Month                     -0.002789            0.078633           0.069081   \n",
       "Day                       -0.004824           -0.002455           0.002365   \n",
       "MinMaxDiff                -0.378672           -0.007347          -0.114781   \n",
       "PressureDiff               0.246423            0.087023           0.100016   \n",
       "WindSpeedDiff              0.006891           -0.099409          -0.030664   \n",
       "HumidityDiff               0.201655           -0.041181           0.032671   \n",
       "RainyMonth                -0.008031            0.121640           0.139719   \n",
       "Location_target            1.000000            0.124573           0.145282   \n",
       "WindGustDir_target         0.124573            1.000000           0.469160   \n",
       "WindDir9am_target          0.145282            0.469160           1.000000   \n",
       "WindDir3pm_target          0.048399            0.624653           0.391036   \n",
       "Season_Spring              0.000013            0.010733          -0.007475   \n",
       "Season_Summer              0.010420           -0.109843          -0.123039   \n",
       "Season_Winter             -0.005514            0.149883           0.167286   \n",
       "RainTomorrow               0.185658            0.123124           0.128811   \n",
       "\n",
       "                    WindDir3pm_target  Season_Spring  Season_Summer  \\\n",
       "MinTemp                     -0.208771      -0.025559       0.401770   \n",
       "MaxTemp                     -0.114552       0.006145       0.428666   \n",
       "Rainfall                     0.021282       0.003960      -0.020261   \n",
       "WindGustSpeed                0.161439       0.114414       0.100142   \n",
       "WindSpeed9am                 0.000963       0.104050       0.045065   \n",
       "WindSpeed3pm                 0.068693       0.104075       0.057166   \n",
       "Humidity9am                  0.034547      -0.139120      -0.170469   \n",
       "Humidity3pm                 -0.059328      -0.046748      -0.130050   \n",
       "Pressure9am                 -0.173844      -0.053566      -0.322619   \n",
       "Pressure3pm                 -0.191382      -0.062873      -0.308520   \n",
       "Temp9am                     -0.188733       0.041397       0.415264   \n",
       "Temp3pm                     -0.105799      -0.004569       0.404782   \n",
       "RainToday                    0.043439       0.011255      -0.053539   \n",
       "Year                        -0.006154      -0.022333       0.075003   \n",
       "Month                        0.059721       0.572869      -0.148291   \n",
       "Day                         -0.005588      -0.004181      -0.009009   \n",
       "MinMaxDiff                   0.098811       0.041307       0.106301   \n",
       "PressureDiff                -0.054667      -0.028634       0.058148   \n",
       "WindSpeedDiff               -0.111878      -0.109861      -0.208547   \n",
       "HumidityDiff                -0.116581       0.108935       0.043121   \n",
       "RainyMonth                   0.105772      -0.131935      -0.458143   \n",
       "Location_target              0.048399       0.000013       0.010420   \n",
       "WindGustDir_target           0.624653       0.010733      -0.109843   \n",
       "WindDir9am_target            0.391036      -0.007475      -0.123039   \n",
       "WindDir3pm_target            1.000000       0.002697      -0.091325   \n",
       "Season_Spring                0.002697       1.000000      -0.309421   \n",
       "Season_Summer               -0.091325      -0.309421       1.000000   \n",
       "Season_Winter                0.144529      -0.352816      -0.309846   \n",
       "RainTomorrow                 0.117621       0.000141      -0.041700   \n",
       "\n",
       "                    Season_Winter  RainTomorrow  \n",
       "MinTemp                 -0.432747      0.059986  \n",
       "MaxTemp                 -0.468908     -0.189817  \n",
       "Rainfall                 0.039909      0.298296  \n",
       "WindGustSpeed           -0.085179      0.250919  \n",
       "WindSpeed9am            -0.070749      0.110805  \n",
       "WindSpeed3pm            -0.069445      0.106628  \n",
       "Humidity9am              0.222860      0.261760  \n",
       "Humidity3pm              0.169028      0.433683  \n",
       "Pressure9am              0.203785     -0.229535  \n",
       "Pressure3pm              0.202148     -0.201442  \n",
       "Temp9am                 -0.480400     -0.059779  \n",
       "Temp3pm                 -0.447914     -0.221938  \n",
       "RainToday                0.072806      0.320674  \n",
       "Year                    -0.022626     -0.017849  \n",
       "Month                    0.051254      0.028778  \n",
       "Day                      0.005720      0.010996  \n",
       "MinMaxDiff              -0.125396     -0.343362  \n",
       "PressureDiff            -0.012468      0.103325  \n",
       "WindSpeedDiff            0.167231     -0.189804  \n",
       "HumidityDiff            -0.055123      0.244536  \n",
       "RainyMonth               0.676308      0.074927  \n",
       "Location_target         -0.005514      0.185658  \n",
       "WindGustDir_target       0.149883      0.123124  \n",
       "WindDir9am_target        0.167286      0.128811  \n",
       "WindDir3pm_target        0.144529      0.117621  \n",
       "Season_Spring           -0.352816      0.000141  \n",
       "Season_Summer           -0.309846     -0.041700  \n",
       "Season_Winter            1.000000      0.065712  \n",
       "RainTomorrow             0.065712      1.000000  \n",
       "\n",
       "[29 rows x 29 columns]"
      ]
     },
     "execution_count": 83,
     "metadata": {},
     "output_type": "execute_result"
    }
   ],
   "source": [
    "# Tamara\n",
    "# show correlation matrix\n",
    "train = X_train\n",
    "train[\"RainTomorrow\"] = y_train.values\n",
    "train.corr()"
   ]
  },
  {
   "cell_type": "code",
   "execution_count": 84,
   "metadata": {},
   "outputs": [
    {
     "data": {
      "image/png": "[encoded data removed]",
      "text/plain": [
       "<Figure size 432x288 with 1 Axes>"
      ]
     },
     "metadata": {
      "needs_background": "light"
     },
     "output_type": "display_data"
    }
   ],
   "source": [
    "# Tamara\n",
    "# show correlation matrix as heatmap\n",
    "plt.imshow(train.corr(), cmap='hot', interpolation='nearest')\n",
    "plt.show()"
   ]
  },
  {
   "cell_type": "code",
   "execution_count": 103,
   "metadata": {
    "scrolled": true
   },
   "outputs": [
    {
     "data": {
      "text/html": [
       "<div>\n",
       "<style scoped>\n",
       "    .dataframe tbody tr th:only-of-type {\n",
       "        vertical-align: middle;\n",
       "    }\n",
       "\n",
       "    .dataframe tbody tr th {\n",
       "        vertical-align: top;\n",
       "    }\n",
       "\n",
       "    .dataframe thead th {\n",
       "        text-align: right;\n",
       "    }\n",
       "</style>\n",
       "<table border=\"1\" class=\"dataframe\">\n",
       "  <thead>\n",
       "    <tr style=\"text-align: right;\">\n",
       "      <th></th>\n",
       "      <th>WindGustSpeed</th>\n",
       "      <th>Humidity9am</th>\n",
       "      <th>Humidity3pm</th>\n",
       "      <th>RainToday</th>\n",
       "      <th>MinMaxDiff</th>\n",
       "    </tr>\n",
       "  </thead>\n",
       "  <tbody>\n",
       "    <tr>\n",
       "      <th>0</th>\n",
       "      <td>0.296</td>\n",
       "      <td>0.64</td>\n",
       "      <td>0.46</td>\n",
       "      <td>0.0</td>\n",
       "      <td>0.325733</td>\n",
       "    </tr>\n",
       "    <tr>\n",
       "      <th>1</th>\n",
       "      <td>0.384</td>\n",
       "      <td>0.55</td>\n",
       "      <td>0.27</td>\n",
       "      <td>1.0</td>\n",
       "      <td>0.472313</td>\n",
       "    </tr>\n",
       "    <tr>\n",
       "      <th>2</th>\n",
       "      <td>0.088</td>\n",
       "      <td>0.83</td>\n",
       "      <td>0.44</td>\n",
       "      <td>0.0</td>\n",
       "      <td>0.563518</td>\n",
       "    </tr>\n",
       "    <tr>\n",
       "      <th>3</th>\n",
       "      <td>0.232</td>\n",
       "      <td>0.47</td>\n",
       "      <td>0.22</td>\n",
       "      <td>0.0</td>\n",
       "      <td>0.530945</td>\n",
       "    </tr>\n",
       "    <tr>\n",
       "      <th>4</th>\n",
       "      <td>0.616</td>\n",
       "      <td>0.74</td>\n",
       "      <td>0.34</td>\n",
       "      <td>0.0</td>\n",
       "      <td>0.488599</td>\n",
       "    </tr>\n",
       "  </tbody>\n",
       "</table>\n",
       "</div>"
      ],
      "text/plain": [
       "   WindGustSpeed  Humidity9am  Humidity3pm  RainToday  MinMaxDiff\n",
       "0          0.296         0.64         0.46        0.0    0.325733\n",
       "1          0.384         0.55         0.27        1.0    0.472313\n",
       "2          0.088         0.83         0.44        0.0    0.563518\n",
       "3          0.232         0.47         0.22        0.0    0.530945\n",
       "4          0.616         0.74         0.34        0.0    0.488599"
      ]
     },
     "execution_count": 103,
     "metadata": {},
     "output_type": "execute_result"
    }
   ],
   "source": [
    "NUM_FEATURES_TO_SELECT = 5\n",
    "\n",
    "selector = SelectKBest(f_classif, k=NUM_FEATURES_TO_SELECT)\n",
    "\n",
    "X_new = selector.fit_transform(X_train, y_train)\n",
    "\n",
    "selected_features = pd.DataFrame(selector.inverse_transform(X_new), \n",
    "                                 index=X_train.index, \n",
    "                                 columns=X_train.columns)\n",
    "\n",
    "selected_columns = selected_features.columns[selected_features.var() != 0]\n",
    "\n",
    "X_train[selected_columns].head()"
   ]
  },
  {
   "cell_type": "markdown",
   "metadata": {},
   "source": [
    "## The multivariate way (Optional)"
   ]
  },
  {
   "cell_type": "code",
   "execution_count": null,
   "metadata": {
    "scrolled": true
   },
   "outputs": [],
   "source": [
    "# Regularisation strengh is set by regularization parameter C.\n",
    "# Note: the lower C, the higher the regularization\n",
    "logistic = LogisticRegression(C=0.01, penalty=\"l1\", solver='liblinear', max_iter=10000, random_state=7).fit(X_train, y_train)\n",
    "model = SelectFromModel(logistic, prefit=True)\n",
    "\n",
    "X_new = model.transform(X_train)\n",
    "\n",
    "selected_features = pd.DataFrame(model.inverse_transform(X_new), \n",
    "                                 index=X_train.index,\n",
    "                                 columns=X_train.columns)\n",
    "\n",
    "# Dropped columns have values of all 0s, keep other columns \n",
    "selected_columns = selected_features.columns[selected_features.var() != 0]\n",
    "selected_columns"
   ]
  },
  {
   "cell_type": "code",
   "execution_count": null,
   "metadata": {},
   "outputs": [],
   "source": [
    "# getting accuracy for a logistic regression model \n",
    "logistic = LogisticRegression().fit(X_train[selected_columns], y_train)\n",
    "\n",
    "test_predictions = logistic.predict(X_test[selected_columns]).round().astype(int)\n",
    "print(accuracy_score(y_test, test_predictions))\n",
    "mean_absolute_error(y_test, test_predictions)"
   ]
  },
  {
   "cell_type": "markdown",
   "metadata": {},
   "source": [
    "# Aufgabe 2 Entscheidungsbäume"
   ]
  },
  {
   "cell_type": "code",
   "execution_count": 86,
   "metadata": {
    "scrolled": true
   },
   "outputs": [
    {
     "ename": "ValueError",
     "evalue": "Number of features of the model must match the input. Model n_features is 29 and input n_features is 28 ",
     "output_type": "error",
     "traceback": [
      "\u001b[1;31m---------------------------------------------------------------------------\u001b[0m",
      "\u001b[1;31mValueError\u001b[0m                                Traceback (most recent call last)",
      "\u001b[1;32m<ipython-input-86-d2c26f0bd5fa>\u001b[0m in \u001b[0;36m<module>\u001b[1;34m\u001b[0m\n\u001b[0;32m      2\u001b[0m \u001b[0mmodel\u001b[0m\u001b[1;33m.\u001b[0m\u001b[0mfit\u001b[0m\u001b[1;33m(\u001b[0m\u001b[0mX_train\u001b[0m\u001b[1;33m,\u001b[0m \u001b[0my_train\u001b[0m\u001b[1;33m)\u001b[0m\u001b[1;33m\u001b[0m\u001b[1;33m\u001b[0m\u001b[0m\n\u001b[0;32m      3\u001b[0m \u001b[1;33m\u001b[0m\u001b[0m\n\u001b[1;32m----> 4\u001b[1;33m \u001b[0mtest_predictions\u001b[0m \u001b[1;33m=\u001b[0m \u001b[0mmodel\u001b[0m\u001b[1;33m.\u001b[0m\u001b[0mpredict\u001b[0m\u001b[1;33m(\u001b[0m\u001b[0mX_test\u001b[0m\u001b[1;33m)\u001b[0m\u001b[1;33m.\u001b[0m\u001b[0mround\u001b[0m\u001b[1;33m(\u001b[0m\u001b[1;33m)\u001b[0m\u001b[1;33m.\u001b[0m\u001b[0mastype\u001b[0m\u001b[1;33m(\u001b[0m\u001b[0mint\u001b[0m\u001b[1;33m)\u001b[0m\u001b[1;33m\u001b[0m\u001b[1;33m\u001b[0m\u001b[0m\n\u001b[0m\u001b[0;32m      5\u001b[0m \u001b[0mprint\u001b[0m\u001b[1;33m(\u001b[0m\u001b[0maccuracy_score\u001b[0m\u001b[1;33m(\u001b[0m\u001b[0my_test\u001b[0m\u001b[1;33m,\u001b[0m \u001b[0mtest_predictions\u001b[0m\u001b[1;33m)\u001b[0m\u001b[1;33m)\u001b[0m\u001b[1;33m\u001b[0m\u001b[1;33m\u001b[0m\u001b[0m\n\u001b[0;32m      6\u001b[0m \u001b[0mmean_absolute_error\u001b[0m\u001b[1;33m(\u001b[0m\u001b[0my_test\u001b[0m\u001b[1;33m,\u001b[0m \u001b[0mtest_predictions\u001b[0m\u001b[1;33m)\u001b[0m\u001b[1;33m\u001b[0m\u001b[1;33m\u001b[0m\u001b[0m\n",
      "\u001b[1;32mc:\\users\\tamara\\appdata\\local\\programs\\python\\python37-32\\lib\\site-packages\\sklearn\\tree\\_classes.py\u001b[0m in \u001b[0;36mpredict\u001b[1;34m(self, X, check_input)\u001b[0m\n\u001b[0;32m    425\u001b[0m         \"\"\"\n\u001b[0;32m    426\u001b[0m         \u001b[0mcheck_is_fitted\u001b[0m\u001b[1;33m(\u001b[0m\u001b[0mself\u001b[0m\u001b[1;33m)\u001b[0m\u001b[1;33m\u001b[0m\u001b[1;33m\u001b[0m\u001b[0m\n\u001b[1;32m--> 427\u001b[1;33m         \u001b[0mX\u001b[0m \u001b[1;33m=\u001b[0m \u001b[0mself\u001b[0m\u001b[1;33m.\u001b[0m\u001b[0m_validate_X_predict\u001b[0m\u001b[1;33m(\u001b[0m\u001b[0mX\u001b[0m\u001b[1;33m,\u001b[0m \u001b[0mcheck_input\u001b[0m\u001b[1;33m)\u001b[0m\u001b[1;33m\u001b[0m\u001b[1;33m\u001b[0m\u001b[0m\n\u001b[0m\u001b[0;32m    428\u001b[0m         \u001b[0mproba\u001b[0m \u001b[1;33m=\u001b[0m \u001b[0mself\u001b[0m\u001b[1;33m.\u001b[0m\u001b[0mtree_\u001b[0m\u001b[1;33m.\u001b[0m\u001b[0mpredict\u001b[0m\u001b[1;33m(\u001b[0m\u001b[0mX\u001b[0m\u001b[1;33m)\u001b[0m\u001b[1;33m\u001b[0m\u001b[1;33m\u001b[0m\u001b[0m\n\u001b[0;32m    429\u001b[0m         \u001b[0mn_samples\u001b[0m \u001b[1;33m=\u001b[0m \u001b[0mX\u001b[0m\u001b[1;33m.\u001b[0m\u001b[0mshape\u001b[0m\u001b[1;33m[\u001b[0m\u001b[1;36m0\u001b[0m\u001b[1;33m]\u001b[0m\u001b[1;33m\u001b[0m\u001b[1;33m\u001b[0m\u001b[0m\n",
      "\u001b[1;32mc:\\users\\tamara\\appdata\\local\\programs\\python\\python37-32\\lib\\site-packages\\sklearn\\tree\\_classes.py\u001b[0m in \u001b[0;36m_validate_X_predict\u001b[1;34m(self, X, check_input)\u001b[0m\n\u001b[0;32m    397\u001b[0m                              \u001b[1;34m\"match the input. Model n_features is %s and \"\u001b[0m\u001b[1;33m\u001b[0m\u001b[1;33m\u001b[0m\u001b[0m\n\u001b[0;32m    398\u001b[0m                              \u001b[1;34m\"input n_features is %s \"\u001b[0m\u001b[1;33m\u001b[0m\u001b[1;33m\u001b[0m\u001b[0m\n\u001b[1;32m--> 399\u001b[1;33m                              % (self.n_features_, n_features))\n\u001b[0m\u001b[0;32m    400\u001b[0m \u001b[1;33m\u001b[0m\u001b[0m\n\u001b[0;32m    401\u001b[0m         \u001b[1;32mreturn\u001b[0m \u001b[0mX\u001b[0m\u001b[1;33m\u001b[0m\u001b[1;33m\u001b[0m\u001b[0m\n",
      "\u001b[1;31mValueError\u001b[0m: Number of features of the model must match the input. Model n_features is 29 and input n_features is 28 "
     ]
    }
   ],
   "source": [
    "model = tree.DecisionTreeClassifier()\n",
    "model.fit(X_train, y_train)\n",
    "\n",
    "test_predictions = model.predict(X_test).round().astype(int)\n",
    "print(accuracy_score(y_test, test_predictions))\n",
    "mean_absolute_error(y_test, test_predictions)"
   ]
  },
  {
   "cell_type": "markdown",
   "metadata": {},
   "source": [
    "## Baseline\n",
    "\n",
    "this is what we got from the beginnnig:\n",
    "    \n",
    "0.8435955056179776\n",
    "\n",
    "0.15640449438202247"
   ]
  },
  {
   "cell_type": "markdown",
   "metadata": {},
   "source": [
    "# Visualization"
   ]
  },
  {
   "cell_type": "code",
   "execution_count": null,
   "metadata": {},
   "outputs": [],
   "source": [
    "fig, ax = plt.subplots(figsize = (20,10))\n",
    "tree.plot_tree(model, ax=ax,\n",
    "              feature_names=selected_columns,\n",
    "              filled = True,\n",
    "              rounded = True,\n",
    "              precision =2,\n",
    "              fontsize = 10,\n",
    "               class_names=[\"no Rain\", \"Rain\"]\n",
    "              );"
   ]
  },
  {
   "cell_type": "code",
   "execution_count": null,
   "metadata": {},
   "outputs": [],
   "source": [
    "tree_graph = tree.export_graphviz(model, out_file=None, feature_names=selected_columns, class_names=[\"no Rain\", \"Rain\"])\n",
    "graphviz.Source(tree_graph)"
   ]
  },
  {
   "cell_type": "code",
   "execution_count": null,
   "metadata": {},
   "outputs": [],
   "source": [
    "# Tamara\n",
    "# change max_depth\n",
    "model1 = tree.DecisionTreeClassifier(max_depth=5)\n",
    "\n",
    "model1.fit(X_train[selected_columns], y_train)"
   ]
  },
  {
   "cell_type": "code",
   "execution_count": null,
   "metadata": {},
   "outputs": [],
   "source": [
    "# Tamara\n",
    "test_predictions1 = model1.predict(X_test[selected_columns]).round().astype(int)\n",
    "print(accuracy_score(y_test, test_predictions1))\n",
    "mean_absolute_error(y_test, test_predictions1)"
   ]
  },
  {
   "cell_type": "code",
   "execution_count": null,
   "metadata": {},
   "outputs": [],
   "source": [
    "# Tamara\n",
    "fig, ax = plt.subplots(figsize = (20,10))\n",
    "tree.plot_tree(model1, ax=ax,\n",
    "               feature_names=selected_columns,\n",
    "               class_names= [\"Rain\", \"no Rain\"],\n",
    "               filled = True,\n",
    "               rounded = True,\n",
    "               precision = 2,\n",
    "               fontsize = 10);"
   ]
  },
  {
   "cell_type": "code",
   "execution_count": null,
   "metadata": {},
   "outputs": [],
   "source": [
    "# Tamara\n",
    "# change min_impurity_increase\n",
    "model2 = tree.DecisionTreeClassifier(min_impurity_decrease=0.003)\n",
    "\n",
    "model2.fit(X_train[selected_columns], y_train)\n",
    "\n",
    "# Tamara\n",
    "test_predictions2 = model2.predict(X_test[selected_columns]).round().astype(int)\n",
    "print(accuracy_score(y_test, test_predictions2))\n",
    "mean_absolute_error(y_test, test_predictions2)"
   ]
  },
  {
   "cell_type": "code",
   "execution_count": null,
   "metadata": {},
   "outputs": [],
   "source": [
    "# Tamara\n",
    "fig, ax = plt.subplots(figsize = (20,10))\n",
    "tree.plot_tree(model2, ax=ax,\n",
    "               feature_names=selected_columns,\n",
    "               class_names= [\"Rain\", \"no Rain\"],\n",
    "               filled = True,\n",
    "               rounded = True,\n",
    "               precision = 2,\n",
    "               fontsize = 10);"
   ]
  },
  {
   "cell_type": "code",
   "execution_count": null,
   "metadata": {},
   "outputs": [],
   "source": [
    "# Tamara\n",
    "# change max_leaf_nodes\n",
    "model3 = tree.DecisionTreeClassifier(criterion=\"entropy\", max_depth=5)\n",
    "\n",
    "model3.fit(X_train[selected_columns], y_train)\n",
    "\n",
    "# Tamara\n",
    "test_predictions3 = model3.predict(X_test[selected_columns]).round().astype(int)\n",
    "print(accuracy_score(y_test, test_predictions3))\n",
    "mean_absolute_error(y_test, test_predictions3)"
   ]
  },
  {
   "cell_type": "code",
   "execution_count": null,
   "metadata": {},
   "outputs": [],
   "source": [
    "# Tamara\n",
    "fig, ax = plt.subplots(figsize = (20,10))\n",
    "tree.plot_tree(model3, ax=ax,\n",
    "               feature_names=selected_columns,\n",
    "               class_names= [\"Rain\", \"no Rain\"],\n",
    "               filled = True,\n",
    "               rounded = True,\n",
    "               precision = 2,\n",
    "               fontsize = 10);"
   ]
  },
  {
   "cell_type": "markdown",
   "metadata": {},
   "source": [
    "## Null accuracy \n",
    "Whats the accuracy of a model, which just predicts the most common class."
   ]
  },
  {
   "cell_type": "code",
   "execution_count": null,
   "metadata": {
    "scrolled": true
   },
   "outputs": [],
   "source": [
    "y_test.value_counts()"
   ]
  },
  {
   "cell_type": "code",
   "execution_count": null,
   "metadata": {
    "scrolled": true
   },
   "outputs": [],
   "source": [
    "print(5272/(5272+1403))"
   ]
  },
  {
   "cell_type": "markdown",
   "metadata": {},
   "source": [
    "## Analysis"
   ]
  },
  {
   "cell_type": "code",
   "execution_count": null,
   "metadata": {
    "scrolled": true
   },
   "outputs": [],
   "source": [
    "perm = PermutationImportance(model, random_state=1).fit(X_test, y_test)\n",
    "eli5.show_weights(perm, feature_names = X_test.columns.tolist())"
   ]
  },
  {
   "cell_type": "markdown",
   "metadata": {},
   "source": [
    "## cost complexity pruning\n",
    "Führe mit mind 3 Bäumen unterschiedlicher Tiefe aus Aufgabenteil c) ein Minimal Cost Complexity Pruning durch. Wie verändern dich die Bäume bei Variation des Prunings? Welche Auswirkung auf die Modellgüte hat das?"
   ]
  },
  {
   "cell_type": "code",
   "execution_count": 165,
   "metadata": {},
   "outputs": [
    {
     "data": {
      "text/plain": [
       "1354"
      ]
     },
     "execution_count": 165,
     "metadata": {},
     "output_type": "execute_result"
    }
   ],
   "source": [
    "# Tamara\n",
    "model = tree.DecisionTreeClassifier()\n",
    "path = model.cost_complexity_pruning_path(X_train, y_train)\n",
    "ccp_alphas, impurities = path.ccp_alphas, path.impurities\n",
    "ccp_alphas.size"
   ]
  },
  {
   "cell_type": "code",
   "execution_count": 181,
   "metadata": {},
   "outputs": [],
   "source": [
    "# Tamara\n",
    "# take only subset of alphas to speed up further calculations\n",
    "ccp_alphas_part = ccp_alphas[[0, 68, 136, 204, 272, 340, 408, 476, 544, 612, 680, 748, 816, 884, 952, 1020, 1088, 1156, 1224, 1292, (ccp_alphas.size-20)]]"
   ]
  },
  {
   "cell_type": "code",
   "execution_count": 172,
   "metadata": {},
   "outputs": [
    {
     "data": {
      "text/plain": [
       "Text(0.5, 1.0, 'Total Impurity vs effective alpha for training set')"
      ]
     },
     "execution_count": 172,
     "metadata": {},
     "output_type": "execute_result"
    },
    {
     "data": {
      "image/png": "[encoded data removed]",
      "text/plain": [
       "<Figure size 432x288 with 1 Axes>"
      ]
     },
     "metadata": {
      "needs_background": "light"
     },
     "output_type": "display_data"
    }
   ],
   "source": [
    "#Tamara\n",
    "fig, ax = plt.subplots()\n",
    "ax.plot(ccp_alphas[:-1], impurities[:-1], marker='o', drawstyle=\"steps-post\")\n",
    "ax.set_xlabel(\"effective alpha\")\n",
    "ax.set_ylabel(\"total impurity of leaves\")\n",
    "ax.set_title(\"Total Impurity vs effective alpha for training set\")"
   ]
  },
  {
   "cell_type": "code",
   "execution_count": 144,
   "metadata": {},
   "outputs": [
    {
     "name": "stdout",
     "output_type": "stream",
     "text": [
      "0.8374812593703148\n"
     ]
    },
    {
     "data": {
      "text/plain": [
       "0.16251874062968516"
      ]
     },
     "execution_count": 144,
     "metadata": {},
     "output_type": "execute_result"
    }
   ],
   "source": [
    "#Tamara\n",
    "model = tree.DecisionTreeClassifier(ccp_alpha=0.002)\n",
    "model.fit(X_train[selected_columns], y_train)\n",
    "\n",
    "test_predictions = model.predict(X_test[selected_columns]).round().astype(int)\n",
    "print(accuracy_score(y_test, test_predictions))\n",
    "mean_absolute_error(y_test, test_predictions)"
   ]
  },
  {
   "cell_type": "code",
   "execution_count": null,
   "metadata": {},
   "outputs": [],
   "source": [
    "# Tamara\n",
    "fig, ax = plt.subplots(figsize = (20,10))\n",
    "tree.plot_tree(model, ax=ax,\n",
    "               feature_names=selected_columns,\n",
    "               class_names= [\"Rain\", \"no Rain\"],\n",
    "               filled = True,\n",
    "               rounded = True,\n",
    "               precision = 2,\n",
    "               fontsize = 10);"
   ]
  },
  {
   "cell_type": "code",
   "execution_count": 182,
   "metadata": {},
   "outputs": [
    {
     "name": "stdout",
     "output_type": "stream",
     "text": [
      "Number of nodes in the last tree is: 41 with ccp_alpha: 0.05631994633917342\n"
     ]
    }
   ],
   "source": [
    "# Tamara\n",
    "clfs = []\n",
    "for ccp_alpha in ccp_alphas_part:\n",
    "    clf = tree.DecisionTreeClassifier(ccp_alpha=ccp_alpha)\n",
    "    clf.fit(X_train, y_train)\n",
    "    clfs.append(clf)\n",
    "print(\"Number of nodes in the last tree is: {} with ccp_alpha: {}\".format(\n",
    "      clfs[-1].tree_.node_count, ccp_alphas[-1]))"
   ]
  },
  {
   "cell_type": "code",
   "execution_count": 183,
   "metadata": {},
   "outputs": [
    {
     "data": {
      "image/png": "[encoded data removed]",
      "text/plain": [
       "<Figure size 432x288 with 1 Axes>"
      ]
     },
     "metadata": {
      "needs_background": "light"
     },
     "output_type": "display_data"
    }
   ],
   "source": [
    "# Tamara\n",
    "train_scores = [clf.score(X_train, y_train) for clf in clfs]\n",
    "test_scores = [clf.score(X_test, y_test) for clf in clfs]\n",
    "\n",
    "fig, ax = plt.subplots()\n",
    "ax.set_xlabel(\"alpha\")\n",
    "ax.set_ylabel(\"accuracy\")\n",
    "ax.set_title(\"Accuracy vs alpha for training and testing sets\")\n",
    "ax.plot(ccp_alphas_part, train_scores, marker='o', label=\"train\",\n",
    "        drawstyle=\"steps-post\")\n",
    "ax.plot(ccp_alphas_part, test_scores, marker='o', label=\"test\",\n",
    "        drawstyle=\"steps-post\")\n",
    "ax.legend()\n",
    "plt.setp(ax.xaxis.get_majorticklabels(), rotation=45)\n",
    "\n",
    "plt.show()"
   ]
  },
  {
   "cell_type": "markdown",
   "metadata": {},
   "source": [
    "# Booklet 2 Neuronale Netze Aufgabe 2"
   ]
  },
  {
   "cell_type": "markdown",
   "metadata": {},
   "source": [
    "### Using RandomSearch to find the perfect Hyperparameter combination"
   ]
  },
  {
   "cell_type": "code",
   "execution_count": null,
   "metadata": {
    "scrolled": true
   },
   "outputs": [],
   "source": [
    "#wrap function around model creation so it can be used for grid search\n",
    "def build_model(n_hidden = 1, n_neurons=30, learning_rate=0.1, activation_function='relu', dropout_prop=0.25):\n",
    "    model = keras.models.Sequential()\n",
    "    model.add(keras.layers.Dense(2, activation='relu'))\n",
    "    for layer in range(n_hidden):\n",
    "        model.add(keras.layers.Dense(n_neurons, activation=activation_function))\n",
    "    model.add(keras.layers.Dense(1))\n",
    "    model.compile(optimizer=tf.keras.optimizers.SGD(learning_rate=learning_rate),\n",
    "                  loss=tf.keras.losses.BinaryCrossentropy(from_logits=True),\n",
    "                  metrics=['accuracy'])\n",
    "    model.add(keras.layers.Dropout(dropout_prop))\n",
    "    return model\n",
    "\n",
    "nn = keras.wrappers.scikit_learn.KerasClassifier(build_model)"
   ]
  },
  {
   "cell_type": "code",
   "execution_count": null,
   "metadata": {},
   "outputs": [],
   "source": [
    "params = {\n",
    "    'n_hidden': [0,1,2,3,4],\n",
    "    'n_neurons': [1,3,5,10,20,50,100],\n",
    "    'learning_rate': [0.1, 0.05, 0.01],\n",
    "    'activation_function': ['relu', 'sigmoid', 'elu'],\n",
    "    'dropout_prop': [0, 0.25, 0.5] \n",
    "}"
   ]
  },
  {
   "cell_type": "code",
   "execution_count": null,
   "metadata": {},
   "outputs": [],
   "source": [
    "random_search = RandomizedSearchCV(nn, params, n_iter=20)\n",
    "random_search.fit(X_train.values, \n",
    "                  y_train.values,\n",
    "                  validation_data=(X_test.values, y_test.values),\n",
    "                  callbacks=[keras.callbacks.EarlyStopping(patience=6)],\n",
    "                  batch_size=32,\n",
    "                  epochs=100\n",
    "                 )"
   ]
  },
  {
   "cell_type": "code",
   "execution_count": null,
   "metadata": {},
   "outputs": [],
   "source": [
    "random_search.best_params_"
   ]
  },
  {
   "cell_type": "markdown",
   "metadata": {},
   "source": [
    "## Building the winner Model"
   ]
  },
  {
   "cell_type": "code",
   "execution_count": null,
   "metadata": {
    "scrolled": true
   },
   "outputs": [],
   "source": [
    "#dont need this anymore...\n",
    "train_dataset = tf.data.Dataset.from_tensor_slices((X_train.values, y_train.values))\n",
    "train_dataset = train_dataset.shuffle(len(X_train)).batch(32)\n",
    "\n",
    "test_dataset = tf.data.Dataset.from_tensor_slices((X_test.values, y_test.values))\n",
    "test_dataset = test_dataset.shuffle(len(X_test)).batch(len(X_test))"
   ]
  },
  {
   "cell_type": "code",
   "execution_count": null,
   "metadata": {},
   "outputs": [],
   "source": [
    "nn = keras.models.Sequential()\n",
    "nn.add(keras.layers.Dense(2, activation='elu'))\n",
    "for layer in range(4):\n",
    "        nn.add(keras.layers.Dense(3, activation='elu'))\n",
    "nn.add(keras.layers.Dense(1))\n",
    "    \n",
    "nn.compile(optimizer=tf.keras.optimizers.SGD(learning_rate=0.1),\n",
    "           loss=tf.keras.losses.BinaryCrossentropy(from_logits=True),\n",
    "           metrics=['accuracy'])"
   ]
  },
  {
   "cell_type": "code",
   "execution_count": null,
   "metadata": {
    "scrolled": true
   },
   "outputs": [],
   "source": [
    "nn.fit(train_dataset,\n",
    "       validation_steps=1,\n",
    "       validation_data=test_dataset,\n",
    "       batch_size=32,\n",
    "       callbacks=[keras.callbacks.EarlyStopping(patience=6)],\n",
    "       epochs=50)"
   ]
  },
  {
   "cell_type": "markdown",
   "metadata": {},
   "source": [
    "# Booklet 3 Ensemblemethoden"
   ]
  },
  {
   "cell_type": "code",
   "execution_count": null,
   "metadata": {},
   "outputs": [],
   "source": [
    "from sklearn.ensemble import BaggingClassifier, RandomForestClassifier, AdaBoostClassifier\n",
    "from sklearn.tree import DecisionTreeClassifier\n",
    "\n",
    "from sklearn.model_selection import GridSearchCV"
   ]
  },
  {
   "cell_type": "markdown",
   "metadata": {},
   "source": [
    "### Bagging"
   ]
  },
  {
   "cell_type": "code",
   "execution_count": null,
   "metadata": {},
   "outputs": [],
   "source": [
    "# Ist das hier nicht im Prinzip das Gleiche wie ein Random Forest mit splitter=\"random\"?\n",
    "bagging_classifier = BaggingClassifier( \n",
    "    base_estimator=DecisionTreeClassifier(criterion='gini'), \n",
    "    bootstrap=True, #replace training samples\n",
    "    n_jobs=-1, #use all available cores\n",
    "    random_state=42\n",
    ")\n",
    "\n",
    "bagging_classifier.fit(X_train, y_train)\n",
    "\n",
    "test_predictions = bagging_classifier.predict(X_test).round().astype(int)\n",
    "print(accuracy_score(y_test, test_predictions))\n",
    "mean_absolute_error(y_test, test_predictions)"
   ]
  },
  {
   "cell_type": "markdown",
   "metadata": {},
   "source": [
    "### Random Forest"
   ]
  },
  {
   "cell_type": "code",
   "execution_count": null,
   "metadata": {},
   "outputs": [],
   "source": [
    "random_forest_classifier = RandomForestClassifier(  \n",
    "    bootstrap=True, #replace training samples\n",
    "    random_state=42,\n",
    "    n_jobs=-1 #use all available cores\n",
    ")\n",
    "\n",
    "random_forest_classifier.fit(X_train, y_train)\n",
    "\n",
    "test_predictions = random_forest_classifier.predict(X_test).round().astype(int)\n",
    "print(accuracy_score(y_test, test_predictions))\n",
    "mean_absolute_error(y_test, test_predictions)"
   ]
  },
  {
   "cell_type": "code",
   "execution_count": null,
   "metadata": {},
   "outputs": [],
   "source": [
    "# Feature importances with random forest\n",
    "for name, score in zip(X_train.columns, random_forest_classifier.feature_importances_):\n",
    "    print(name, score)"
   ]
  },
  {
   "cell_type": "markdown",
   "metadata": {},
   "source": [
    "### Adaboost"
   ]
  },
  {
   "cell_type": "code",
   "execution_count": null,
   "metadata": {},
   "outputs": [],
   "source": [
    "adaboost_classifier = AdaBoostClassifier(\n",
    "    base_estimator=DecisionTreeClassifier(criterion='gini', max_depth=5),\n",
    "    n_estimators=50,\n",
    "    random_state=42\n",
    ")\n",
    "\n",
    "adaboost_classifier.fit(X_train, y_train)\n",
    "\n",
    "test_predictions = adaboost_classifier.predict(X_test).round().astype(int)\n",
    "print(accuracy_score(y_test, test_predictions))\n",
    "mean_absolute_error(y_test, test_predictions)"
   ]
  },
  {
   "cell_type": "markdown",
   "metadata": {},
   "source": [
    "### Grid Search"
   ]
  },
  {
   "cell_type": "code",
   "execution_count": null,
   "metadata": {},
   "outputs": [],
   "source": [
    "params_bagging_adaboost = [{'n_estimators': [10,50,100]},\n",
    "                           {\"base_estimator__criterion\": [\"gini\", \"entropy\"]},\n",
    "                           {\"base_estimator__max_depth\": [3,5,10]},\n",
    "                           {\"base_estimator__min_samples_split\": [2,5,10]},#The minimum number of samples required to split an internal node:\n",
    "                           {\"base_estimator__min_samples_leaf\": [1,2,5,10]},#The minimum number of samples required to be at a leaf node\n",
    "                           {\"base_estimator__min_weight_fraction_leaf\": [0, 0.2, 0.4, 0.5]},#The minimum weighted fraction of the sum total of weights (of all the input samples) required to be at a leaf node. \n",
    "                           {\"base_estimator__max_features\": [1,2,10,15,None]},\n",
    "                           {\"base_estimator__max_leaf_nodes\": [None,2,5,10,100]},\n",
    "                           {\"base_estimator__min_impurity_decrease\": [0.1, 0.2, 0.5, 0.8, 1, 2, 3]},\n",
    "                           {\"base_estimator__min_impurity_split\": [0.1, 0.2, 0.5, 0.8, 1, 2, 3]} #dericated option\n",
    "                          ]\n",
    "\n",
    "params_random_forest = {\n",
    "    'n_estimators': [50,100],\n",
    "    \"criterion\": [\"gini\", \"entropy\"],\n",
    "#    \"base_estimator__max_depth\": [3,5,10],\n",
    "#    \"base_estimator__min_samples_split\": [2,5,10],\n",
    "#    \"base_estimator__min_samples_leaf\": [1,2,5]\n",
    "}\n",
    "\n",
    "params_tree = {\n",
    "    \"criterion\": [\"gini\", \"entropy\"],\n",
    "    \"max_depth\": [1,3,5,10,20,50]\n",
    "}"
   ]
  },
  {
   "cell_type": "code",
   "execution_count": null,
   "metadata": {},
   "outputs": [],
   "source": [
    "#looping through grid ourselfes for better interpretation of outputs.\n",
    "for param in params_bagging_adaboost:\n",
    "    bagging_gs = GridSearchCV(bagging_classifier, param, cv=10)\n",
    "    bagging_gs.fit(X_train, y_train)\n",
    "    print(param)\n",
    "    print(bagging_gs.best_params_)\n",
    "    print(bagging_gs.best_score_)\n",
    "    print(\" \")"
   ]
  },
  {
   "cell_type": "markdown",
   "metadata": {},
   "source": [
    "### Old to be deleted soon"
   ]
  },
  {
   "cell_type": "code",
   "execution_count": null,
   "metadata": {},
   "outputs": [],
   "source": [
    "bagging_gs = GridSearchCV(bagging_classifier, params_bagging_adaboost, cv=10)\n",
    "random_forest_gs =  GridSearchCV(random_forest_classifier, params_random_forest, cv=10)\n",
    "adaboost_gs =  GridSearchCV(adaboost_classifier, params_bagging_adaboost, cv=10)\n",
    "tree_gs = GridSearchCV(tree.DecisionTreeClassifier(), params_tree, cv=10)\n",
    "\n",
    "tree_gs.fit(X_train, y_train)\n",
    "tree_gs.best_params_"
   ]
  },
  {
   "cell_type": "code",
   "execution_count": null,
   "metadata": {},
   "outputs": [],
   "source": [
    "random_forest_gs.fit(X_train, y_train)\n",
    "random_forest_gs.best_params_"
   ]
  },
  {
   "cell_type": "code",
   "execution_count": null,
   "metadata": {},
   "outputs": [],
   "source": [
    "bagging_gs.fit(X_train, y_train)\n",
    "bagging_gs.best_score_"
   ]
  },
  {
   "cell_type": "markdown",
   "metadata": {},
   "source": [
    "### Visualisation of GridSearch results"
   ]
  },
  {
   "cell_type": "code",
   "execution_count": null,
   "metadata": {},
   "outputs": [],
   "source": [
    "results = bagging_gs.cv_results_\n",
    "results"
   ]
  },
  {
   "cell_type": "code",
   "execution_count": null,
   "metadata": {},
   "outputs": [],
   "source": [
    "# plot wie hier:\n",
    "# TODO:\n",
    "# https://scikit-learn.org/stable/auto_examples/model_selection/plot_multi_metric_evaluation.html#sphx-glr-auto-examples-model-selection-plot-multi-metric-evaluation-py"
   ]
  },
  {
   "cell_type": "markdown",
   "metadata": {},
   "source": [
    "# SVM Booklet Teil 4\n",
    "**Note**: Hab keine Ahnung was hier genau passiert. Aber es funktioniert vom Code her.\n",
    "### Parameters of SVM\n",
    "- C: Sets the margin. Kleines C führt zu ner Große margin. Große Margin regularisiert mehr, also tritt eher underfitting auf. Großes C overfittetet eher."
   ]
  },
  {
   "cell_type": "code",
   "execution_count": null,
   "metadata": {},
   "outputs": [],
   "source": [
    "from sklearn.svm import SVC"
   ]
  },
  {
   "cell_type": "markdown",
   "metadata": {},
   "source": [
    "### linear Kernel"
   ]
  },
  {
   "cell_type": "code",
   "execution_count": null,
   "metadata": {},
   "outputs": [],
   "source": [
    "svm_linear = SVC(kernel=\"linear\", C=1)\n",
    "svm_linear.fit(X_train, y_train)\n",
    "\n",
    "test_predictions = svm_linear.predict(X_test).round().astype(int)\n",
    "print(accuracy_score(y_test, test_predictions))\n",
    "mean_absolute_error(y_test, test_predictions)"
   ]
  },
  {
   "cell_type": "markdown",
   "metadata": {},
   "source": [
    "### Polynominal Kernel"
   ]
  },
  {
   "cell_type": "code",
   "execution_count": null,
   "metadata": {},
   "outputs": [],
   "source": [
    "svm_poly = SVC(kernel=\"poly\", degree=5,C=1)\n",
    "svm_poly.fit(X_train, y_train)\n",
    "\n",
    "test_predictions = svm_poly.predict(X_test).round().astype(int)\n",
    "print(accuracy_score(y_test, test_predictions))\n",
    "mean_absolute_error(y_test, test_predictions)"
   ]
  },
  {
   "cell_type": "markdown",
   "metadata": {},
   "source": [
    "### Gaussian RBF Kernel"
   ]
  },
  {
   "cell_type": "code",
   "execution_count": null,
   "metadata": {},
   "outputs": [],
   "source": [
    "svm_rbf = SVC(kernel=\"rbf\", gamma=5, C=0.01)\n",
    "svm_rbf.fit(X_train, y_train)\n",
    "\n",
    "test_predictions = svm_rbf.predict(X_test).round().astype(int)\n",
    "print(accuracy_score(y_test, test_predictions))\n",
    "mean_absolute_error(y_test, test_predictions)"
   ]
  },
  {
   "cell_type": "markdown",
   "metadata": {},
   "source": [
    "### Sigmoid Kernel"
   ]
  },
  {
   "cell_type": "code",
   "execution_count": null,
   "metadata": {},
   "outputs": [],
   "source": [
    "svm_sigmoid = SVC(kernel=\"sigmoid\", C=0.01)\n",
    "svm_sigmoid.fit(X_train, y_train)\n",
    "\n",
    "test_predictions = svm_sigmoid.predict(X_test).round().astype(int)\n",
    "print(accuracy_score(y_test, test_predictions))\n",
    "mean_absolute_error(y_test, test_predictions)"
   ]
  },
  {
   "cell_type": "markdown",
   "metadata": {},
   "source": [
    "### precomputed Kernel"
   ]
  },
  {
   "cell_type": "code",
   "execution_count": null,
   "metadata": {},
   "outputs": [],
   "source": [
    "gram_train = np.dot(X_train, X_train.T)\n",
    "gram_test = np.dot(X_test, X_train.T)\n",
    "\n",
    "svm_precomputed = SVC(kernel=\"precomputed\", C=0.01)\n",
    "\n",
    "svm_precomputed.fit(gram_train, y_train)\n",
    "\n",
    "test_predictions = svm_precomputed.predict(gram_test).round().astype(int)\n",
    "print(accuracy_score(y_test, test_predictions))\n",
    "mean_absolute_error(y_test, test_predictions)"
   ]
  }
 ],
 "metadata": {
  "kernelspec": {
   "display_name": "Python 3",
   "language": "python",
   "name": "python3"
  },
  "language_info": {
   "codemirror_mode": {
    "name": "ipython",
    "version": 3
   },
   "file_extension": ".py",
   "mimetype": "text/x-python",
   "name": "python",
   "nbconvert_exporter": "python",
   "pygments_lexer": "ipython3",
   "version": "3.7.1"
  }
 },
 "nbformat": 4,
 "nbformat_minor": 2
}
